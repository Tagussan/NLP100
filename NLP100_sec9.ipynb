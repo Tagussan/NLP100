{
 "cells": [
  {
   "cell_type": "markdown",
   "id": "4ea9c0e7",
   "metadata": {},
   "source": [
    "# Problem 80"
   ]
  },
  {
   "cell_type": "code",
   "execution_count": 1,
   "id": "4d58e4f5",
   "metadata": {
    "ExecuteTime": {
     "end_time": "2022-01-28T06:39:29.838660Z",
     "start_time": "2022-01-28T06:39:28.871595Z"
    }
   },
   "outputs": [],
   "source": [
    "# Execute Problem 50 before executing this cell(Fetching data)\n",
    "import pandas as pd\n",
    "\n",
    "df = pd.read_table('./NewsAggregatorDataset/newsCorpora.csv', names=('ID', 'TITLE', 'URL', 'PUBLISHER', 'CATEGORY', 'STORY', 'HOSTNAME', 'TIMESTAMP'))"
   ]
  },
  {
   "cell_type": "code",
   "execution_count": 2,
   "id": "cd7539b4",
   "metadata": {
    "ExecuteTime": {
     "end_time": "2022-01-28T06:39:29.874057Z",
     "start_time": "2022-01-28T06:39:29.839791Z"
    }
   },
   "outputs": [],
   "source": [
    "targets = ['Reuters', 'Huffington Post', 'Businessweek', 'Contactmusic.com', 'Daily Mail']\n",
    "df = df[df['PUBLISHER'].isin(targets)]\n",
    "df = df.sample(frac=1).reset_index(drop=True)\n",
    "num_train = int(len(df)*0.8)\n",
    "num_valid_and_test = int(len(df)*0.1)\n",
    "df_train = df[0:num_train]\n",
    "df_valid = df[num_train:num_train+num_valid_and_test]\n",
    "df_test = df[num_train+num_valid_and_test:]"
   ]
  },
  {
   "cell_type": "code",
   "execution_count": 3,
   "id": "829ef53b",
   "metadata": {
    "ExecuteTime": {
     "end_time": "2022-01-28T06:39:29.985633Z",
     "start_time": "2022-01-28T06:39:29.875151Z"
    }
   },
   "outputs": [
    {
     "name": "stderr",
     "output_type": "stream",
     "text": [
      "<ipython-input-3-4d5351b91d6c>:12: SettingWithCopyWarning: \n",
      "A value is trying to be set on a copy of a slice from a DataFrame.\n",
      "Try using .loc[row_indexer,col_indexer] = value instead\n",
      "\n",
      "See the caveats in the documentation: https://pandas.pydata.org/pandas-docs/stable/user_guide/indexing.html#returning-a-view-versus-a-copy\n",
      "  df_train['TITLE'] = df_train['TITLE'].map(preprocess_text)\n",
      "<ipython-input-3-4d5351b91d6c>:13: SettingWithCopyWarning: \n",
      "A value is trying to be set on a copy of a slice from a DataFrame.\n",
      "Try using .loc[row_indexer,col_indexer] = value instead\n",
      "\n",
      "See the caveats in the documentation: https://pandas.pydata.org/pandas-docs/stable/user_guide/indexing.html#returning-a-view-versus-a-copy\n",
      "  df_valid['TITLE'] = df_valid['TITLE'].map(preprocess_text)\n",
      "<ipython-input-3-4d5351b91d6c>:14: SettingWithCopyWarning: \n",
      "A value is trying to be set on a copy of a slice from a DataFrame.\n",
      "Try using .loc[row_indexer,col_indexer] = value instead\n",
      "\n",
      "See the caveats in the documentation: https://pandas.pydata.org/pandas-docs/stable/user_guide/indexing.html#returning-a-view-versus-a-copy\n",
      "  df_test['TITLE'] = df_test['TITLE'].map(preprocess_text)\n"
     ]
    }
   ],
   "source": [
    "import re\n",
    "import string\n",
    "\n",
    "def preprocess_text(s):\n",
    "    trans_table = str.maketrans(string.punctuation, ' '*len(string.punctuation))\n",
    "    s = s.translate(trans_table)\n",
    "    s = s.lower()\n",
    "    s = re.sub('[0-9]+', '0', s)\n",
    "    s = re.sub('\\s+', ' ', s)\n",
    "    return s\n",
    "\n",
    "df_train['TITLE'] = df_train['TITLE'].map(preprocess_text)\n",
    "df_valid['TITLE'] = df_valid['TITLE'].map(preprocess_text)\n",
    "df_test['TITLE'] = df_test['TITLE'].map(preprocess_text)"
   ]
  },
  {
   "cell_type": "code",
   "execution_count": 4,
   "id": "6b84abd8",
   "metadata": {
    "ExecuteTime": {
     "end_time": "2022-01-28T06:39:30.678747Z",
     "start_time": "2022-01-28T06:39:30.253203Z"
    }
   },
   "outputs": [],
   "source": [
    "from sklearn.feature_extraction.text import CountVectorizer\n",
    "vectorizer = CountVectorizer(min_df=2)\n",
    "vec_cnt = vectorizer.fit_transform(df_train['TITLE']).toarray()\n",
    "word_sum = vec_cnt.sum(axis=0)"
   ]
  },
  {
   "cell_type": "code",
   "execution_count": 5,
   "id": "366da9af",
   "metadata": {
    "ExecuteTime": {
     "end_time": "2022-01-28T06:39:30.882998Z",
     "start_time": "2022-01-28T06:39:30.869922Z"
    }
   },
   "outputs": [
    {
     "name": "stdout",
     "output_type": "stream",
     "text": [
      "['to' 'in' 'the' 'of' 'for' 'on' 'as' 'update' 'us' 'and' 'with' 'at' 'is'\n",
      " 'after' 'new' 'says' 'up' 'from' 'stocks' 'kardashian' 'by' 'china' 'kim'\n",
      " 'over' 'her' 'euro' 'it' 'be' 'first' 'will']\n"
     ]
    }
   ],
   "source": [
    "import numpy as np\n",
    "occurence_sorted_indexes = np.argsort(word_sum)[::-1]\n",
    "words = np.array(vectorizer.get_feature_names())\n",
    "words_sorted_by_occurence = words[occurence_sorted_indexes]\n",
    "print(words_sorted_by_occurence[:30])\n",
    "word_to_id_dict = {s: i for (i, s) in enumerate(words_sorted_by_occurence)}"
   ]
  },
  {
   "cell_type": "code",
   "execution_count": 6,
   "id": "6f6e9308",
   "metadata": {
    "ExecuteTime": {
     "end_time": "2022-01-28T06:39:31.395703Z",
     "start_time": "2022-01-28T06:39:31.392256Z"
    }
   },
   "outputs": [],
   "source": [
    "def sentence_to_id(s, max_len = 512):\n",
    "    s = preprocess_text(s)\n",
    "    s = s.split(' ')\n",
    "    def word_to_id(word):\n",
    "        if word in word_to_id_dict:\n",
    "            return word_to_id_dict[word]\n",
    "        else:\n",
    "            return 0\n",
    "    seq = np.array(list(map(word_to_id, s)))\n",
    "    padding = (0, max_len - len(seq))\n",
    "    return np.pad(seq, padding, 'constant', constant_values=0)"
   ]
  },
  {
   "cell_type": "code",
   "execution_count": 7,
   "id": "90162951",
   "metadata": {
    "ExecuteTime": {
     "end_time": "2022-01-28T06:39:32.541952Z",
     "start_time": "2022-01-28T06:39:32.532680Z"
    }
   },
   "outputs": [
    {
     "data": {
      "text/plain": [
       "array([ 161,  250,    0,  299, 1236,   23,  252,  608, 3056,    0,    0,\n",
       "          0,    0,    0,    0,    0,    0,    0,    0,    0,    0,    0,\n",
       "          0,    0,    0,    0,    0,    0,    0,    0,    0,    0,    0,\n",
       "          0,    0,    0,    0,    0,    0,    0,    0,    0,    0,    0,\n",
       "          0,    0,    0,    0,    0,    0,    0,    0,    0,    0,    0,\n",
       "          0,    0,    0,    0,    0,    0,    0,    0,    0,    0,    0,\n",
       "          0,    0,    0,    0,    0,    0,    0,    0,    0,    0,    0,\n",
       "          0,    0,    0,    0,    0,    0,    0,    0,    0,    0,    0,\n",
       "          0,    0,    0,    0,    0,    0,    0,    0,    0,    0,    0,\n",
       "          0,    0,    0,    0,    0,    0,    0,    0,    0,    0,    0,\n",
       "          0,    0,    0,    0,    0,    0,    0,    0,    0,    0,    0,\n",
       "          0,    0,    0,    0,    0,    0,    0,    0,    0,    0,    0,\n",
       "          0,    0,    0,    0,    0,    0,    0,    0,    0,    0,    0,\n",
       "          0,    0,    0,    0,    0,    0,    0,    0,    0,    0,    0,\n",
       "          0,    0,    0,    0,    0,    0,    0,    0,    0,    0,    0,\n",
       "          0,    0,    0,    0,    0,    0,    0,    0,    0,    0,    0,\n",
       "          0,    0,    0,    0,    0,    0,    0,    0,    0,    0,    0,\n",
       "          0,    0,    0,    0,    0,    0,    0,    0,    0,    0,    0,\n",
       "          0,    0,    0,    0,    0,    0,    0,    0,    0,    0,    0,\n",
       "          0,    0,    0,    0,    0,    0,    0,    0,    0,    0,    0,\n",
       "          0,    0,    0,    0,    0,    0,    0,    0,    0,    0,    0,\n",
       "          0,    0,    0,    0,    0,    0,    0,    0,    0,    0,    0,\n",
       "          0,    0,    0,    0,    0,    0,    0,    0,    0,    0,    0,\n",
       "          0,    0,    0,    0,    0,    0,    0,    0,    0,    0,    0,\n",
       "          0,    0,    0,    0,    0,    0,    0,    0,    0,    0,    0,\n",
       "          0,    0,    0,    0,    0,    0,    0,    0,    0,    0,    0,\n",
       "          0,    0,    0,    0,    0,    0,    0,    0,    0,    0,    0,\n",
       "          0,    0,    0,    0,    0,    0,    0,    0,    0,    0,    0,\n",
       "          0,    0,    0,    0,    0,    0,    0,    0,    0,    0,    0,\n",
       "          0,    0,    0,    0,    0,    0,    0,    0,    0,    0,    0,\n",
       "          0,    0,    0,    0,    0,    0,    0,    0,    0,    0,    0,\n",
       "          0,    0,    0,    0,    0,    0,    0,    0,    0,    0,    0,\n",
       "          0,    0,    0,    0,    0,    0,    0,    0,    0,    0,    0,\n",
       "          0,    0,    0,    0,    0,    0,    0,    0,    0,    0,    0,\n",
       "          0,    0,    0,    0,    0,    0,    0,    0,    0,    0,    0,\n",
       "          0,    0,    0,    0,    0,    0,    0,    0,    0,    0,    0,\n",
       "          0,    0,    0,    0,    0,    0,    0,    0,    0,    0,    0,\n",
       "          0,    0,    0,    0,    0,    0,    0,    0,    0,    0,    0,\n",
       "          0,    0,    0,    0,    0,    0,    0,    0,    0,    0,    0,\n",
       "          0,    0,    0,    0,    0,    0,    0,    0,    0,    0,    0,\n",
       "          0,    0,    0,    0,    0,    0,    0,    0,    0,    0,    0,\n",
       "          0,    0,    0,    0,    0,    0,    0,    0,    0,    0,    0,\n",
       "          0,    0,    0,    0,    0,    0,    0,    0,    0,    0,    0,\n",
       "          0,    0,    0,    0,    0,    0,    0,    0,    0,    0,    0,\n",
       "          0,    0,    0,    0,    0,    0,    0,    0,    0,    0,    0,\n",
       "          0,    0,    0,    0,    0,    0,    0,    0,    0,    0,    0,\n",
       "          0,    0,    0,    0,    0,    0])"
      ]
     },
     "execution_count": 7,
     "metadata": {},
     "output_type": "execute_result"
    }
   ],
   "source": [
    "sentence_to_id('Amazon Plans to Fight FTC Over Mobile-App Purchases')"
   ]
  },
  {
   "cell_type": "markdown",
   "id": "b3f2704e",
   "metadata": {},
   "source": [
    "# Problem 81"
   ]
  },
  {
   "cell_type": "code",
   "execution_count": 18,
   "id": "c1fc8f80",
   "metadata": {
    "ExecuteTime": {
     "end_time": "2022-01-28T06:43:28.795106Z",
     "start_time": "2022-01-28T06:43:28.778085Z"
    }
   },
   "outputs": [],
   "source": [
    "import torch\n",
    "from torch import nn\n",
    "\n",
    "class MySimpleRNN(nn.Module):\n",
    "    def __init__(self, embed_size, hidden_size, output_size):\n",
    "        super().__init__()\n",
    "        self.embed_size = embed_size\n",
    "        self.hidden_size = hidden_size\n",
    "        self.output_size = output_size\n",
    "        self.emb = nn.Embedding(len(words_sorted_by_occurence)+1, embed_size, padding_idx=len(words_sorted_by_occurence))\n",
    "        self.rnn = nn.RNN(embed_size, hidden_size, nonlinearity='relu', batch_first=True)\n",
    "        self.fc = nn.Linear(hidden_size, output_size)\n",
    "    \n",
    "    def forward(self, x):\n",
    "        x_emb = self.emb(x)\n",
    "        _, h = self.rnn(x_emb)\n",
    "        y = self.fc(h)\n",
    "        return y.squeeze()\n",
    "embed_size = 300\n",
    "hidden_size = 50\n",
    "model = MySimpleRNN(embed_size, hidden_size, 4)"
   ]
  },
  {
   "cell_type": "code",
   "execution_count": 19,
   "id": "63539c7b",
   "metadata": {
    "ExecuteTime": {
     "end_time": "2022-01-28T06:43:29.800715Z",
     "start_time": "2022-01-28T06:43:29.273597Z"
    }
   },
   "outputs": [],
   "source": [
    "from torch.utils.data import Dataset\n",
    "\n",
    "category_conv_dict = {'b': 0, 'e': 1, 't':2, 'm':3}\n",
    "label_train = df_train['CATEGORY'].map(lambda x: category_conv_dict[x])\n",
    "label_valid = df_valid['CATEGORY'].map(lambda x: category_conv_dict[x])\n",
    "label_test = df_test['CATEGORY'].map(lambda x: category_conv_dict[x])\n",
    "\n",
    "def to_onehot(val):\n",
    "    base = torch.zeros(4)\n",
    "    base.scatter_(0, torch.tensor(val), 1)\n",
    "    return base\n",
    "\n",
    "class CreateDataset(Dataset):\n",
    "    def __init__(self, x, y):\n",
    "        self.x = x\n",
    "        self.y = y\n",
    "\n",
    "    def __len__(self):\n",
    "        return len(self.y)\n",
    "\n",
    "    def __getitem__(self, i):  # Dataset[index]で返す値を指定\n",
    "        return torch.tensor(self.x[i]), torch.tensor(self.y[i])\n",
    "    \n",
    "ds_train = CreateDataset(df_train['TITLE'].map(sentence_to_id).values, label_train.map(to_onehot))\n",
    "ds_valid = CreateDataset(df_valid['TITLE'].map(sentence_to_id).values, label_valid.map(to_onehot))\n",
    "ds_test = CreateDataset(df_test['TITLE'].map(sentence_to_id).values, label_test.map(to_onehot))"
   ]
  },
  {
   "cell_type": "code",
   "execution_count": 20,
   "id": "709d04da",
   "metadata": {
    "ExecuteTime": {
     "end_time": "2022-01-28T06:43:29.806122Z",
     "start_time": "2022-01-28T06:43:29.801757Z"
    }
   },
   "outputs": [
    {
     "name": "stderr",
     "output_type": "stream",
     "text": [
      "<ipython-input-19-7d29c699be4b>:22: UserWarning: To copy construct from a tensor, it is recommended to use sourceTensor.clone().detach() or sourceTensor.clone().detach().requires_grad_(True), rather than torch.tensor(sourceTensor).\n",
      "  return torch.tensor(self.x[i]), torch.tensor(self.y[i])\n"
     ]
    },
    {
     "data": {
      "text/plain": [
       "(tensor([7398,    9,    0,   91, 4587, 2774, 2127,  113,    0,    0,    0,    0,\n",
       "            0,    0,    0,    0,    0,    0,    0,    0,    0,    0,    0,    0,\n",
       "            0,    0,    0,    0,    0,    0,    0,    0,    0,    0,    0,    0,\n",
       "            0,    0,    0,    0,    0,    0,    0,    0,    0,    0,    0,    0,\n",
       "            0,    0,    0,    0,    0,    0,    0,    0,    0,    0,    0,    0,\n",
       "            0,    0,    0,    0,    0,    0,    0,    0,    0,    0,    0,    0,\n",
       "            0,    0,    0,    0,    0,    0,    0,    0,    0,    0,    0,    0,\n",
       "            0,    0,    0,    0,    0,    0,    0,    0,    0,    0,    0,    0,\n",
       "            0,    0,    0,    0,    0,    0,    0,    0,    0,    0,    0,    0,\n",
       "            0,    0,    0,    0,    0,    0,    0,    0,    0,    0,    0,    0,\n",
       "            0,    0,    0,    0,    0,    0,    0,    0,    0,    0,    0,    0,\n",
       "            0,    0,    0,    0,    0,    0,    0,    0,    0,    0,    0,    0,\n",
       "            0,    0,    0,    0,    0,    0,    0,    0,    0,    0,    0,    0,\n",
       "            0,    0,    0,    0,    0,    0,    0,    0,    0,    0,    0,    0,\n",
       "            0,    0,    0,    0,    0,    0,    0,    0,    0,    0,    0,    0,\n",
       "            0,    0,    0,    0,    0,    0,    0,    0,    0,    0,    0,    0,\n",
       "            0,    0,    0,    0,    0,    0,    0,    0,    0,    0,    0,    0,\n",
       "            0,    0,    0,    0,    0,    0,    0,    0,    0,    0,    0,    0,\n",
       "            0,    0,    0,    0,    0,    0,    0,    0,    0,    0,    0,    0,\n",
       "            0,    0,    0,    0,    0,    0,    0,    0,    0,    0,    0,    0,\n",
       "            0,    0,    0,    0,    0,    0,    0,    0,    0,    0,    0,    0,\n",
       "            0,    0,    0,    0,    0,    0,    0,    0,    0,    0,    0,    0,\n",
       "            0,    0,    0,    0,    0,    0,    0,    0,    0,    0,    0,    0,\n",
       "            0,    0,    0,    0,    0,    0,    0,    0,    0,    0,    0,    0,\n",
       "            0,    0,    0,    0,    0,    0,    0,    0,    0,    0,    0,    0,\n",
       "            0,    0,    0,    0,    0,    0,    0,    0,    0,    0,    0,    0,\n",
       "            0,    0,    0,    0,    0,    0,    0,    0,    0,    0,    0,    0,\n",
       "            0,    0,    0,    0,    0,    0,    0,    0,    0,    0,    0,    0,\n",
       "            0,    0,    0,    0,    0,    0,    0,    0,    0,    0,    0,    0,\n",
       "            0,    0,    0,    0,    0,    0,    0,    0,    0,    0,    0,    0,\n",
       "            0,    0,    0,    0,    0,    0,    0,    0,    0,    0,    0,    0,\n",
       "            0,    0,    0,    0,    0,    0,    0,    0,    0,    0,    0,    0,\n",
       "            0,    0,    0,    0,    0,    0,    0,    0,    0,    0,    0,    0,\n",
       "            0,    0,    0,    0,    0,    0,    0,    0,    0,    0,    0,    0,\n",
       "            0,    0,    0,    0,    0,    0,    0,    0,    0,    0,    0,    0,\n",
       "            0,    0,    0,    0,    0,    0,    0,    0,    0,    0,    0,    0,\n",
       "            0,    0,    0,    0,    0,    0,    0,    0,    0,    0,    0,    0,\n",
       "            0,    0,    0,    0,    0,    0,    0,    0,    0,    0,    0,    0,\n",
       "            0,    0,    0,    0,    0,    0,    0,    0,    0,    0,    0,    0,\n",
       "            0,    0,    0,    0,    0,    0,    0,    0,    0,    0,    0,    0,\n",
       "            0,    0,    0,    0,    0,    0,    0,    0,    0,    0,    0,    0,\n",
       "            0,    0,    0,    0,    0,    0,    0,    0,    0,    0,    0,    0,\n",
       "            0,    0,    0,    0,    0,    0,    0,    0]),\n",
       " tensor([0., 0., 0., 1.]))"
      ]
     },
     "execution_count": 20,
     "metadata": {},
     "output_type": "execute_result"
    }
   ],
   "source": [
    "ds_train[1]"
   ]
  },
  {
   "cell_type": "code",
   "execution_count": 21,
   "id": "bec7f925",
   "metadata": {
    "ExecuteTime": {
     "end_time": "2022-01-28T06:43:30.408023Z",
     "start_time": "2022-01-28T06:43:30.390732Z"
    }
   },
   "outputs": [
    {
     "name": "stderr",
     "output_type": "stream",
     "text": [
      "<ipython-input-19-7d29c699be4b>:22: UserWarning: To copy construct from a tensor, it is recommended to use sourceTensor.clone().detach() or sourceTensor.clone().detach().requires_grad_(True), rather than torch.tensor(sourceTensor).\n",
      "  return torch.tensor(self.x[i]), torch.tensor(self.y[i])\n"
     ]
    },
    {
     "data": {
      "text/plain": [
       "tensor([0.1599, 0.4070, 0.0848, 0.3483], grad_fn=<SoftmaxBackward>)"
      ]
     },
     "execution_count": 21,
     "metadata": {},
     "output_type": "execute_result"
    }
   ],
   "source": [
    "from torch.utils.data import DataLoader\n",
    "\n",
    "dataloader = DataLoader(ds_train, batch_size=2048, shuffle=False)\n",
    "x, y = ds_train[0]\n",
    "torch.softmax(model(x.unsqueeze(0)), dim=-1)"
   ]
  },
  {
   "cell_type": "markdown",
   "id": "000ef542",
   "metadata": {},
   "source": [
    "# Problem 82-83"
   ]
  },
  {
   "cell_type": "code",
   "execution_count": 22,
   "id": "1f67c8d5",
   "metadata": {
    "ExecuteTime": {
     "end_time": "2022-01-28T06:44:12.187496Z",
     "start_time": "2022-01-28T06:43:35.457210Z"
    },
    "scrolled": true
   },
   "outputs": [
    {
     "name": "stderr",
     "output_type": "stream",
     "text": [
      "<ipython-input-19-7d29c699be4b>:22: UserWarning: To copy construct from a tensor, it is recommended to use sourceTensor.clone().detach() or sourceTensor.clone().detach().requires_grad_(True), rather than torch.tensor(sourceTensor).\n",
      "  return torch.tensor(self.x[i]), torch.tensor(self.y[i])\n"
     ]
    },
    {
     "name": "stdout",
     "output_type": "stream",
     "text": [
      "0 4.005415976047516\n",
      "1 3.625335156917572\n",
      "2 3.366097867488861\n",
      "3 3.2071707248687744\n",
      "4 3.11211621761322\n",
      "5 3.051293909549713\n",
      "6 3.012934595346451\n",
      "7 2.9894182085990906\n",
      "8 2.9749763011932373\n",
      "9 2.9658117294311523\n",
      "10 2.9598821699619293\n",
      "11 2.9559648633003235\n",
      "12 2.9533987045288086\n",
      "13 2.951670318841934\n",
      "14 2.950498342514038\n",
      "15 2.949689596891403\n",
      "16 2.9491395354270935\n",
      "17 2.948744148015976\n",
      "18 2.948470950126648\n",
      "19 2.948277473449707\n",
      "20 2.9481420516967773\n",
      "21 2.9480467438697815\n",
      "22 2.9479714035987854\n",
      "23 2.947928339242935\n",
      "24 2.947886437177658\n",
      "25 2.947857588529587\n",
      "26 2.947837680578232\n",
      "27 2.947824001312256\n",
      "28 2.947817385196686\n",
      "29 2.947807639837265\n",
      "30 2.947802096605301\n",
      "31 2.9477994441986084\n",
      "32 2.947793185710907\n",
      "33 2.9477870762348175\n",
      "34 2.947790712118149\n",
      "35 2.9477850794792175\n",
      "36 2.9477868378162384\n",
      "37 2.9477838277816772\n",
      "38 2.9477849304676056\n",
      "39 2.9477837681770325\n",
      "40 2.9477835297584534\n",
      "41 2.9477783739566803\n",
      "42 2.947777569293976\n",
      "43 2.947779268026352\n",
      "44 2.9477820098400116\n",
      "45 2.9477832913398743\n",
      "46 2.947781980037689\n",
      "47 2.9477816224098206\n",
      "48 2.9477808475494385\n",
      "49 2.9477815330028534\n",
      "50 2.947781413793564\n",
      "51 2.9477814435958862\n",
      "52 2.9477808475494385\n",
      "53 2.947780579328537\n",
      "54 2.9477789998054504\n",
      "55 2.9477787911891937\n",
      "56 2.947778820991516\n",
      "57 2.9477778375148773\n",
      "58 2.9477776885032654\n",
      "59 2.9477773010730743\n",
      "60 2.94777774810791\n",
      "61 2.9477783739566803\n",
      "62 2.947776973247528\n",
      "63 2.9477776288986206\n",
      "64 2.94777712225914\n",
      "65 2.9477773904800415\n",
      "66 2.9477771520614624\n",
      "67 2.9477783739566803\n",
      "68 2.9477780163288116\n",
      "69 2.947778671979904\n",
      "70 2.947778970003128\n",
      "71 2.9477783143520355\n",
      "72 2.9477790892124176\n",
      "73 2.9477794766426086\n",
      "74 2.9477791786193848\n",
      "75 2.947778046131134\n",
      "76 2.9477789103984833\n",
      "77 2.9477789402008057\n",
      "78 2.9477787911891937\n",
      "79 2.9477791488170624\n",
      "80 2.9477787911891937\n",
      "81 2.9477787613868713\n",
      "82 2.9477785527706146\n",
      "83 2.9477782547473907\n",
      "84 2.9477787017822266\n",
      "85 2.9477791786193848\n",
      "86 2.9477788507938385\n",
      "87 2.9477781653404236\n",
      "88 2.947778284549713\n",
      "89 2.9477783143520355\n",
      "90 2.9477785527706146\n",
      "91 2.9477788507938385\n",
      "92 2.9477786123752594\n",
      "93 2.9477783143520355\n",
      "94 2.947778582572937\n",
      "95 2.947778433561325\n",
      "96 2.9477778673171997\n",
      "97 2.947778642177582\n",
      "98 2.9477783739566803\n",
      "99 2.947778671979904\n"
     ]
    }
   ],
   "source": [
    "import torch.optim as optim\n",
    "optimizer = optim.SGD(model.parameters(), lr=1e-2)\n",
    "\n",
    "loss_fn = nn.BCEWithLogitsLoss()\n",
    "loss_log = []\n",
    "model = model.cuda()\n",
    "for epoch in range(100):\n",
    "    loss_total = 0.0\n",
    "    for data in dataloader:\n",
    "        x, y = data\n",
    "        x = x.cuda()\n",
    "        y = y.cuda()\n",
    "        #print(model(x).shape)\n",
    "        #print(y.shape)\n",
    "        loss = loss_fn(model(x), y)\n",
    "        loss_total += loss.item()\n",
    "        optimizer.zero_grad()\n",
    "        loss.backward()\n",
    "        optimizer.step()\n",
    "    print(epoch, loss_total)\n",
    "    loss_log.append(loss_total)"
   ]
  },
  {
   "cell_type": "code",
   "execution_count": 23,
   "id": "1af19143",
   "metadata": {
    "ExecuteTime": {
     "end_time": "2022-01-28T06:44:19.999369Z",
     "start_time": "2022-01-28T06:44:19.924888Z"
    }
   },
   "outputs": [
    {
     "data": {
      "image/png": "[encoded data removed]",
      "text/plain": [
       "<Figure size 432x288 with 1 Axes>"
      ]
     },
     "metadata": {
      "needs_background": "light"
     },
     "output_type": "display_data"
    }
   ],
   "source": [
    "import matplotlib.pyplot as plt\n",
    "plt.plot(loss_log)\n",
    "del model\n",
    "torch.cuda.empty_cache()"
   ]
  },
  {
   "cell_type": "markdown",
   "id": "d20b55bc",
   "metadata": {},
   "source": [
    "# Problem 84"
   ]
  },
  {
   "cell_type": "code",
   "execution_count": 25,
   "id": "568ac7e7",
   "metadata": {
    "ExecuteTime": {
     "end_time": "2022-01-28T06:45:11.889213Z",
     "start_time": "2022-01-28T06:44:39.378980Z"
    }
   },
   "outputs": [],
   "source": [
    "# This cell takes time to execute\n",
    "from gensim.models import KeyedVectors\n",
    "\n",
    "google_word2vec = KeyedVectors.load_word2vec_format('./GoogleNews-vectors-negative300.bin.gz', binary=True)"
   ]
  },
  {
   "cell_type": "code",
   "execution_count": 26,
   "id": "ed5828c2",
   "metadata": {
    "ExecuteTime": {
     "end_time": "2022-01-28T06:45:14.834996Z",
     "start_time": "2022-01-28T06:45:14.669039Z"
    }
   },
   "outputs": [
    {
     "name": "stdout",
     "output_type": "stream",
     "text": [
      "6751 7492\n"
     ]
    }
   ],
   "source": [
    "vocab_size = len(set(word_to_id_dict.values())) + 1\n",
    "weights = np.zeros((vocab_size, embed_size))\n",
    "n_words_pretrained = 0\n",
    "for i, word in enumerate(word_to_id_dict.keys()):\n",
    "    try:\n",
    "        weights[i] = google_word2vec[word]\n",
    "        n_words_pretrained += 1\n",
    "    except KeyError:\n",
    "        weights[i] = np.random.normal(scale=0.4, size=(embed_size,))\n",
    "weights = torch.from_numpy(weights.astype((np.float32)))\n",
    "print(n_words_pretrained, vocab_size)\n",
    "del google_word2vec"
   ]
  },
  {
   "cell_type": "code",
   "execution_count": 35,
   "id": "9b7777ca",
   "metadata": {
    "ExecuteTime": {
     "end_time": "2022-01-28T06:58:44.165933Z",
     "start_time": "2022-01-28T06:58:44.160379Z"
    }
   },
   "outputs": [],
   "source": [
    "class MySimpleRNNBidir(nn.Module):\n",
    "    def __init__(self, embed_size, hidden_size, n_layer, output_size, emb_weights, bidirectional=False):\n",
    "        super().__init__()\n",
    "        self.embed_size = embed_size\n",
    "        self.hidden_size = hidden_size\n",
    "        self.output_size = output_size\n",
    "        self.D = 2 if bidirectional else 1\n",
    "        #self.emb = nn.Embedding(len(words_sorted_by_occurence)+1, embed_size, padding_idx=len(words_sorted_by_occurence))\n",
    "        self.emb = nn.Embedding.from_pretrained(emb_weights, padding_idx=len(words_sorted_by_occurence))\n",
    "        self.rnn = nn.RNN(embed_size, hidden_size, num_layers=n_layer, nonlinearity='relu', batch_first=True, bidirectional=bidirectional)\n",
    "        self.fc = nn.Linear(self.D * hidden_size, output_size)\n",
    "    \n",
    "    def forward(self, x):\n",
    "        x_emb = self.emb(x)\n",
    "        _, h = self.rnn(x_emb)\n",
    "        y = self.fc(h.view(1, h.shape[1] ,hidden_size*self.D))\n",
    "        return y.squeeze()"
   ]
  },
  {
   "cell_type": "code",
   "execution_count": 36,
   "id": "d44465a6",
   "metadata": {
    "ExecuteTime": {
     "end_time": "2022-01-28T06:58:44.702126Z",
     "start_time": "2022-01-28T06:58:44.698856Z"
    }
   },
   "outputs": [],
   "source": [
    "model = MySimpleRNNBidir(embed_size, hidden_size, 1, 4, weights, False)"
   ]
  },
  {
   "cell_type": "code",
   "execution_count": 37,
   "id": "60c0c227",
   "metadata": {
    "ExecuteTime": {
     "end_time": "2022-01-28T06:59:17.356085Z",
     "start_time": "2022-01-28T06:58:45.277245Z"
    },
    "scrolled": true
   },
   "outputs": [
    {
     "name": "stderr",
     "output_type": "stream",
     "text": [
      "<ipython-input-19-7d29c699be4b>:22: UserWarning: To copy construct from a tensor, it is recommended to use sourceTensor.clone().detach() or sourceTensor.clone().detach().requires_grad_(True), rather than torch.tensor(sourceTensor).\n",
      "  return torch.tensor(self.x[i]), torch.tensor(self.y[i])\n"
     ]
    },
    {
     "name": "stdout",
     "output_type": "stream",
     "text": [
      "0 3.867301344871521\n",
      "1 3.738545060157776\n",
      "2 3.6249797344207764\n",
      "3 3.527064085006714\n",
      "4 3.4397067427635193\n",
      "5 3.3620190024375916\n",
      "6 3.294784903526306\n",
      "7 3.2353904247283936\n",
      "8 3.183665931224823\n",
      "9 3.1392702460289\n",
      "10 3.101894497871399\n",
      "11 3.0706738233566284\n",
      "12 3.045207977294922\n",
      "13 3.0245415568351746\n",
      "14 3.007958948612213\n",
      "15 2.994744837284088\n",
      "16 2.9843380749225616\n",
      "17 2.9761965572834015\n",
      "18 2.9698526263237\n",
      "19 2.964877188205719\n",
      "20 2.9610040187835693\n",
      "21 2.9580285251140594\n",
      "22 2.9557164311408997\n",
      "23 2.9539166390895844\n",
      "24 2.9525226056575775\n",
      "25 2.9514570236206055\n",
      "26 2.950631409883499\n",
      "27 2.9499919712543488\n",
      "28 2.949498862028122\n",
      "29 2.949114441871643\n",
      "30 2.9488185346126556\n",
      "31 2.9485886991024017\n",
      "32 2.948410391807556\n",
      "33 2.9482699632644653\n",
      "34 2.94816917181015\n",
      "35 2.9480799436569214\n",
      "36 2.948013424873352\n",
      "37 2.947963833808899\n",
      "38 2.947926163673401\n",
      "39 2.947888821363449\n",
      "40 2.9478661119937897\n",
      "41 2.9478477239608765\n",
      "42 2.94782891869545\n",
      "43 2.9478158056735992\n",
      "44 2.947805643081665\n",
      "45 2.9478002190589905\n",
      "46 2.947789579629898\n",
      "47 2.9477807879447937\n",
      "48 2.9477780163288116\n",
      "49 2.947771728038788\n",
      "50 2.9477687180042267\n",
      "51 2.9477694034576416\n",
      "52 2.947766214609146\n",
      "53 2.947763741016388\n",
      "54 2.9477608799934387\n",
      "55 2.947760194540024\n",
      "56 2.947761446237564\n",
      "57 2.9477567970752716\n",
      "58 2.947759658098221\n",
      "59 2.9477564096450806\n",
      "60 2.9477566480636597\n",
      "61 2.9477573931217194\n",
      "62 2.9477555453777313\n",
      "63 2.947754979133606\n",
      "64 2.94775652885437\n",
      "65 2.94775328040123\n",
      "66 2.9477533400058746\n",
      "67 2.947753995656967\n",
      "68 2.9477533102035522\n",
      "69 2.9477525651454926\n",
      "70 2.947753220796585\n",
      "71 2.947752594947815\n",
      "72 2.947752505540848\n",
      "73 2.9477502703666687\n",
      "74 2.947751820087433\n",
      "75 2.947753995656967\n",
      "76 2.947751373052597\n",
      "77 2.947750836610794\n",
      "78 2.9477507174015045\n",
      "79 2.9477513134479523\n",
      "80 2.947751045227051\n",
      "81 2.947750449180603\n",
      "82 2.947750985622406\n",
      "83 2.947750896215439\n",
      "84 2.9477495551109314\n",
      "85 2.9477515518665314\n",
      "86 2.9477522373199463\n",
      "87 2.9477526247501373\n",
      "88 2.947753071784973\n",
      "89 2.9477530121803284\n",
      "90 2.94775253534317\n",
      "91 2.947753131389618\n",
      "92 2.947752594947815\n",
      "93 2.9477519392967224\n",
      "94 2.9477521777153015\n",
      "95 2.9477519094944\n",
      "96 2.947753518819809\n",
      "97 2.9477522373199463\n",
      "98 2.9477525651454926\n",
      "99 2.9477528035640717\n"
     ]
    }
   ],
   "source": [
    "dataloader = DataLoader(ds_train, batch_size=2048, shuffle=False)\n",
    "optimizer = optim.SGD(model.parameters(), lr=1e-2)\n",
    "\n",
    "loss_fn = nn.BCEWithLogitsLoss()\n",
    "loss_log = []\n",
    "model = model.cuda()\n",
    "for epoch in range(100):\n",
    "    loss_total = 0.0\n",
    "    for data in dataloader:\n",
    "        x, y = data\n",
    "        x = x.cuda()\n",
    "        y = y.cuda()\n",
    "        loss = loss_fn(model(x), y)\n",
    "        loss_total += loss.item()\n",
    "        optimizer.zero_grad()\n",
    "        loss.backward()\n",
    "        optimizer.step()\n",
    "    print(epoch, loss_total)\n",
    "    loss_log.append(loss_total)"
   ]
  },
  {
   "cell_type": "code",
   "execution_count": 38,
   "id": "53c9f721",
   "metadata": {
    "ExecuteTime": {
     "end_time": "2022-01-28T07:09:58.933503Z",
     "start_time": "2022-01-28T07:09:58.863447Z"
    }
   },
   "outputs": [
    {
     "data": {
      "image/png": "[encoded data removed]",
      "text/plain": [
       "<Figure size 432x288 with 1 Axes>"
      ]
     },
     "metadata": {
      "needs_background": "light"
     },
     "output_type": "display_data"
    }
   ],
   "source": [
    "plt.plot(loss_log)\n",
    "del model\n",
    "torch.cuda.empty_cache()"
   ]
  },
  {
   "cell_type": "markdown",
   "id": "2ace87cc",
   "metadata": {
    "ExecuteTime": {
     "end_time": "2022-01-28T06:20:42.919937Z",
     "start_time": "2022-01-28T06:20:42.917784Z"
    }
   },
   "source": [
    "# Problem 85"
   ]
  },
  {
   "cell_type": "code",
   "execution_count": 41,
   "id": "cc5e28ad",
   "metadata": {
    "ExecuteTime": {
     "end_time": "2022-01-28T07:10:46.535360Z",
     "start_time": "2022-01-28T07:10:46.531823Z"
    }
   },
   "outputs": [],
   "source": [
    "model = MySimpleRNNBidir(embed_size, hidden_size, 1, 4, weights, True)"
   ]
  },
  {
   "cell_type": "code",
   "execution_count": 42,
   "id": "86006cd5",
   "metadata": {
    "ExecuteTime": {
     "end_time": "2022-01-28T07:11:25.763307Z",
     "start_time": "2022-01-28T07:10:47.016874Z"
    },
    "scrolled": true
   },
   "outputs": [
    {
     "name": "stderr",
     "output_type": "stream",
     "text": [
      "<ipython-input-19-7d29c699be4b>:22: UserWarning: To copy construct from a tensor, it is recommended to use sourceTensor.clone().detach() or sourceTensor.clone().detach().requires_grad_(True), rather than torch.tensor(sourceTensor).\n",
      "  return torch.tensor(self.x[i]), torch.tensor(self.y[i])\n"
     ]
    },
    {
     "name": "stdout",
     "output_type": "stream",
     "text": [
      "0 4.096736431121826\n",
      "1 4.028447270393372\n",
      "2 3.964130699634552\n",
      "3 3.9047322273254395\n",
      "4 3.849160313606262\n",
      "5 3.7967283129692078\n",
      "6 3.7474005818367004\n",
      "7 3.7012965083122253\n",
      "8 3.65862900018692\n",
      "9 3.6193503737449646\n",
      "10 3.58338463306427\n",
      "11 3.5506062507629395\n",
      "12 3.5209648609161377\n",
      "13 3.494127631187439\n",
      "14 3.4698455333709717\n",
      "15 3.4478805661201477\n",
      "16 3.427985429763794\n",
      "17 3.4099247455596924\n",
      "18 3.3934929370880127\n",
      "19 3.378444731235504\n",
      "20 3.3646059036254883\n",
      "21 3.3518322706222534\n",
      "22 3.3399378657341003\n",
      "23 3.3288268446922302\n",
      "24 3.318365156650543\n",
      "25 3.3084627389907837\n",
      "26 3.299043357372284\n",
      "27 3.2900218963623047\n",
      "28 3.2813568711280823\n",
      "29 3.2729899287223816\n",
      "30 3.26487797498703\n",
      "31 3.257002353668213\n",
      "32 3.2492940425872803\n",
      "33 3.241757392883301\n",
      "34 3.2343533039093018\n",
      "35 3.227078676223755\n",
      "36 3.2199078798294067\n",
      "37 3.212839424610138\n",
      "38 3.2058574557304382\n",
      "39 3.1989479660987854\n",
      "40 3.1921149492263794\n",
      "41 3.1853519678115845\n",
      "42 3.1786614060401917\n",
      "43 3.1720218658447266\n",
      "44 3.1654521822929382\n",
      "45 3.1589537858963013\n",
      "46 3.1525083780288696\n",
      "47 3.146131753921509\n",
      "48 3.1398258805274963\n",
      "49 3.1335952281951904\n",
      "50 3.1274332404136658\n",
      "51 3.121351957321167\n",
      "52 3.1153449416160583\n",
      "53 3.109399974346161\n",
      "54 3.103543519973755\n",
      "55 3.0977784395217896\n",
      "56 3.092090904712677\n",
      "57 3.086490511894226\n",
      "58 3.0809885263442993\n",
      "59 3.0755796432495117\n",
      "60 3.070273518562317\n",
      "61 3.0650744438171387\n",
      "62 3.059983015060425\n",
      "63 3.055004835128784\n",
      "64 3.050136923789978\n",
      "65 3.0453954339027405\n",
      "66 3.040768027305603\n",
      "67 3.0362777709960938\n",
      "68 3.031914621591568\n",
      "69 3.027695953845978\n",
      "70 3.0236240923404694\n",
      "71 3.0197022557258606\n",
      "72 3.015921890735626\n",
      "73 3.0122987926006317\n",
      "74 3.0088277459144592\n",
      "75 3.0055075883865356\n",
      "76 3.0023443698883057\n",
      "77 2.9993385076522827\n",
      "78 2.9964982867240906\n",
      "79 2.993822991847992\n",
      "80 2.9913061559200287\n",
      "81 2.9889341294765472\n",
      "82 2.9867101311683655\n",
      "83 2.9846326410770416\n",
      "84 2.98270046710968\n",
      "85 2.980909377336502\n",
      "86 2.979254186153412\n",
      "87 2.977726697921753\n",
      "88 2.9763240814208984\n",
      "89 2.9750381410121918\n",
      "90 2.973859578371048\n",
      "91 2.972781538963318\n",
      "92 2.9717968702316284\n",
      "93 2.970895618200302\n",
      "94 2.9700751304626465\n",
      "95 2.969326674938202\n",
      "96 2.9686415791511536\n",
      "97 2.9680145978927612\n",
      "98 2.967438519001007\n",
      "99 2.9669108390808105\n"
     ]
    }
   ],
   "source": [
    "dataloader = DataLoader(ds_train, batch_size=2048, shuffle=False)\n",
    "optimizer = optim.SGD(model.parameters(), lr=1e-2)\n",
    "\n",
    "loss_fn = nn.BCEWithLogitsLoss()\n",
    "loss_log = []\n",
    "model = model.cuda()\n",
    "for epoch in range(100):\n",
    "    loss_total = 0.0\n",
    "    for data in dataloader:\n",
    "        x, y = data\n",
    "        x = x.cuda()\n",
    "        y = y.cuda()\n",
    "        loss = loss_fn(model(x), y)\n",
    "        loss_total += loss.item()\n",
    "        optimizer.zero_grad()\n",
    "        loss.backward()\n",
    "        optimizer.step()\n",
    "    print(epoch, loss_total)\n",
    "    loss_log.append(loss_total)"
   ]
  },
  {
   "cell_type": "code",
   "execution_count": 43,
   "id": "1e35a7e8",
   "metadata": {
    "ExecuteTime": {
     "end_time": "2022-01-28T07:26:57.398354Z",
     "start_time": "2022-01-28T07:26:57.332710Z"
    }
   },
   "outputs": [
    {
     "data": {
      "text/plain": [
       "[<matplotlib.lines.Line2D at 0x7f407c984eb0>]"
      ]
     },
     "execution_count": 43,
     "metadata": {},
     "output_type": "execute_result"
    },
    {
     "data": {
      "image/png": "[encoded data removed]",
      "text/plain": [
       "<Figure size 432x288 with 1 Axes>"
      ]
     },
     "metadata": {
      "needs_background": "light"
     },
     "output_type": "display_data"
    }
   ],
   "source": [
    "plt.plot(loss_log)"
   ]
  },
  {
   "cell_type": "code",
   "execution_count": null,
   "id": "ca053d16",
   "metadata": {},
   "outputs": [],
   "source": []
  }
 ],
 "metadata": {
  "kernelspec": {
   "display_name": "Python 3",
   "language": "python",
   "name": "python3"
  },
  "language_info": {
   "codemirror_mode": {
    "name": "ipython",
    "version": 3
   },
   "file_extension": ".py",
   "mimetype": "text/x-python",
   "name": "python",
   "nbconvert_exporter": "python",
   "pygments_lexer": "ipython3",
   "version": "3.8.8"
  }
 },
 "nbformat": 4,
 "nbformat_minor": 5
}
