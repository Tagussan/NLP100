{
 "cells": [
  {
   "cell_type": "markdown",
   "id": "7c5f25ad",
   "metadata": {},
   "source": [
    "# Problem 50"
   ]
  },
  {
   "cell_type": "code",
   "execution_count": 1,
   "id": "7eb7f618",
   "metadata": {
    "ExecuteTime": {
     "end_time": "2022-01-23T11:26:35.180535Z",
     "start_time": "2022-01-23T11:26:32.857806Z"
    }
   },
   "outputs": [
    {
     "data": {
      "text/plain": [
       "('NewsAggregatorDataset.zip', <http.client.HTTPMessage at 0x7fe3605aafa0>)"
      ]
     },
     "execution_count": 1,
     "metadata": {},
     "output_type": "execute_result"
    }
   ],
   "source": [
    "import urllib.request\n",
    "\n",
    "url = 'https://archive.ics.uci.edu/ml/machine-learning-databases/00359/NewsAggregatorDataset.zip'\n",
    "urllib.request.urlretrieve(url, 'NewsAggregatorDataset.zip')"
   ]
  },
  {
   "cell_type": "code",
   "execution_count": 2,
   "id": "bfd792e0",
   "metadata": {
    "ExecuteTime": {
     "end_time": "2022-01-23T11:26:35.604892Z",
     "start_time": "2022-01-23T11:26:35.181832Z"
    }
   },
   "outputs": [],
   "source": [
    "import zipfile\n",
    "\n",
    "with zipfile.ZipFile('NewsAggregatorDataset.zip') as existing_zip:\n",
    "    existing_zip.extractall('./NewsAggregatorDataset')"
   ]
  },
  {
   "cell_type": "code",
   "execution_count": 3,
   "id": "17ea36b4",
   "metadata": {
    "ExecuteTime": {
     "end_time": "2022-01-23T11:26:36.548836Z",
     "start_time": "2022-01-23T11:26:35.606473Z"
    }
   },
   "outputs": [],
   "source": [
    "import pandas as pd\n",
    "\n",
    "df = pd.read_table('./NewsAggregatorDataset/newsCorpora.csv', names=('ID', 'TITLE', 'URL', 'PUBLISHER', 'CATEGORY', 'STORY', 'HOSTNAME', 'TIMESTAMP'))"
   ]
  },
  {
   "cell_type": "code",
   "execution_count": 4,
   "id": "0a900e2f",
   "metadata": {
    "ExecuteTime": {
     "end_time": "2022-01-23T11:26:36.585451Z",
     "start_time": "2022-01-23T11:26:36.550047Z"
    }
   },
   "outputs": [],
   "source": [
    "targets = ['Reuters', 'Huffington Post', 'Businessweek', 'Contactmusic.com', 'Daily Mail']\n",
    "df = df[df['PUBLISHER'].isin(targets)]\n",
    "df = df.sample(frac=1).reset_index(drop=True)\n",
    "num_train = int(len(df)*0.8)\n",
    "num_valid_and_test = int(len(df)*0.1)\n",
    "df_train = df[0:num_train]\n",
    "df_valid = df[num_train:num_train+num_valid_and_test]\n",
    "df_test = df[num_train+num_valid_and_test:]"
   ]
  },
  {
   "cell_type": "code",
   "execution_count": 5,
   "id": "45dd5e87",
   "metadata": {
    "ExecuteTime": {
     "end_time": "2022-01-23T11:26:36.646590Z",
     "start_time": "2022-01-23T11:26:36.586405Z"
    }
   },
   "outputs": [],
   "source": [
    "df_train.to_csv('train.txt', sep='\\t')\n",
    "df_valid.to_csv('valid.txt', sep='\\t')\n",
    "df_test.to_csv('test.txt', sep='\\t')"
   ]
  },
  {
   "cell_type": "code",
   "execution_count": 6,
   "id": "64e08f4b",
   "metadata": {
    "ExecuteTime": {
     "end_time": "2022-01-23T11:26:36.650008Z",
     "start_time": "2022-01-23T11:26:36.647584Z"
    }
   },
   "outputs": [
    {
     "name": "stdout",
     "output_type": "stream",
     "text": [
      "10672\n",
      "1334\n",
      "1334\n"
     ]
    }
   ],
   "source": [
    "print(len(df_train))\n",
    "print(len(df_valid))\n",
    "print(len(df_test))"
   ]
  },
  {
   "cell_type": "markdown",
   "id": "ea05dafd",
   "metadata": {},
   "source": [
    "# Problem 51"
   ]
  },
  {
   "cell_type": "code",
   "execution_count": 7,
   "id": "07dcd4de",
   "metadata": {
    "ExecuteTime": {
     "end_time": "2022-01-23T11:26:36.762866Z",
     "start_time": "2022-01-23T11:26:36.650894Z"
    }
   },
   "outputs": [
    {
     "name": "stderr",
     "output_type": "stream",
     "text": [
      "<ipython-input-7-4d5351b91d6c>:12: SettingWithCopyWarning: \n",
      "A value is trying to be set on a copy of a slice from a DataFrame.\n",
      "Try using .loc[row_indexer,col_indexer] = value instead\n",
      "\n",
      "See the caveats in the documentation: https://pandas.pydata.org/pandas-docs/stable/user_guide/indexing.html#returning-a-view-versus-a-copy\n",
      "  df_train['TITLE'] = df_train['TITLE'].map(preprocess_text)\n",
      "<ipython-input-7-4d5351b91d6c>:13: SettingWithCopyWarning: \n",
      "A value is trying to be set on a copy of a slice from a DataFrame.\n",
      "Try using .loc[row_indexer,col_indexer] = value instead\n",
      "\n",
      "See the caveats in the documentation: https://pandas.pydata.org/pandas-docs/stable/user_guide/indexing.html#returning-a-view-versus-a-copy\n",
      "  df_valid['TITLE'] = df_valid['TITLE'].map(preprocess_text)\n",
      "<ipython-input-7-4d5351b91d6c>:14: SettingWithCopyWarning: \n",
      "A value is trying to be set on a copy of a slice from a DataFrame.\n",
      "Try using .loc[row_indexer,col_indexer] = value instead\n",
      "\n",
      "See the caveats in the documentation: https://pandas.pydata.org/pandas-docs/stable/user_guide/indexing.html#returning-a-view-versus-a-copy\n",
      "  df_test['TITLE'] = df_test['TITLE'].map(preprocess_text)\n"
     ]
    }
   ],
   "source": [
    "import re\n",
    "import string\n",
    "\n",
    "def preprocess_text(s):\n",
    "    trans_table = str.maketrans(string.punctuation, ' '*len(string.punctuation))\n",
    "    s = s.translate(trans_table)\n",
    "    s = s.lower()\n",
    "    s = re.sub('[0-9]+', '0', s)\n",
    "    s = re.sub('\\s+', ' ', s)\n",
    "    return s\n",
    "\n",
    "df_train['TITLE'] = df_train['TITLE'].map(preprocess_text)\n",
    "df_valid['TITLE'] = df_valid['TITLE'].map(preprocess_text)\n",
    "df_test['TITLE'] = df_test['TITLE'].map(preprocess_text)"
   ]
  },
  {
   "cell_type": "code",
   "execution_count": 8,
   "id": "a26eca79",
   "metadata": {
    "ExecuteTime": {
     "end_time": "2022-01-23T11:26:37.266197Z",
     "start_time": "2022-01-23T11:26:36.764382Z"
    }
   },
   "outputs": [],
   "source": [
    "from sklearn.feature_extraction.text import TfidfVectorizer\n",
    "\n",
    "tfidf_vectorizer = TfidfVectorizer(max_df = 0.5, stop_words='english', ngram_range=(1, 2))\n",
    "df_train_valid = pd.concat([df_train, df_valid])\n",
    "\n",
    "X_train_valid = tfidf_vectorizer.fit_transform(df_train_valid['TITLE'])\n",
    "X_test = tfidf_vectorizer.transform(df_test['TITLE'])"
   ]
  },
  {
   "cell_type": "code",
   "execution_count": 9,
   "id": "1413a5c1",
   "metadata": {
    "ExecuteTime": {
     "end_time": "2022-01-23T11:26:37.421592Z",
     "start_time": "2022-01-23T11:26:37.267440Z"
    }
   },
   "outputs": [],
   "source": [
    "df_X_train_valid = pd.DataFrame(X_train_valid.toarray(), columns=tfidf_vectorizer.get_feature_names())\n",
    "df_X_test = pd.DataFrame(X_test.toarray(), columns=tfidf_vectorizer.get_feature_names())"
   ]
  },
  {
   "cell_type": "code",
   "execution_count": 10,
   "id": "b820c70c",
   "metadata": {
    "ExecuteTime": {
     "end_time": "2022-01-23T11:26:37.424478Z",
     "start_time": "2022-01-23T11:26:37.422598Z"
    }
   },
   "outputs": [],
   "source": [
    "df_X_train = df_X_train_valid[:len(df_train)]\n",
    "df_X_valid = df_X_train_valid[len(df_train):]"
   ]
  },
  {
   "cell_type": "code",
   "execution_count": 11,
   "id": "2bbc9ff7",
   "metadata": {
    "ExecuteTime": {
     "end_time": "2022-01-23T11:26:37.426882Z",
     "start_time": "2022-01-23T11:26:37.425348Z"
    }
   },
   "outputs": [],
   "source": [
    "# This cell takes long time\n",
    "#df_X_train.to_csv('./train.feature.txt', sep='\\t', index=False)\n",
    "#df_X_valid.to_csv('./valid.feature.txt', sep='\\t', index=False)\n",
    "#df_X_test.to_csv('./test.feature.txt', sep='\\t', index=False)"
   ]
  },
  {
   "cell_type": "markdown",
   "id": "2b7f3854",
   "metadata": {},
   "source": [
    "# Problem 52"
   ]
  },
  {
   "cell_type": "code",
   "execution_count": 12,
   "id": "024e7890",
   "metadata": {
    "ExecuteTime": {
     "end_time": "2022-01-23T11:26:43.605501Z",
     "start_time": "2022-01-23T11:26:37.427740Z"
    }
   },
   "outputs": [
    {
     "name": "stderr",
     "output_type": "stream",
     "text": [
      "/home/ytaguchi/.pyenv/versions/anaconda3-2021.05/lib/python3.8/site-packages/sklearn/linear_model/_logistic.py:763: ConvergenceWarning: lbfgs failed to converge (status=1):\n",
      "STOP: TOTAL NO. of ITERATIONS REACHED LIMIT.\n",
      "\n",
      "Increase the number of iterations (max_iter) or scale the data as shown in:\n",
      "    https://scikit-learn.org/stable/modules/preprocessing.html\n",
      "Please also refer to the documentation for alternative solver options:\n",
      "    https://scikit-learn.org/stable/modules/linear_model.html#logistic-regression\n",
      "  n_iter_i = _check_optimize_result(\n"
     ]
    },
    {
     "data": {
      "text/plain": [
       "LogisticRegression(random_state=0)"
      ]
     },
     "execution_count": 12,
     "metadata": {},
     "output_type": "execute_result"
    }
   ],
   "source": [
    "from sklearn.linear_model import LogisticRegression\n",
    "\n",
    "logi_regress = LogisticRegression(random_state=0)\n",
    "logi_regress.fit(df_X_train, df_train['CATEGORY'])"
   ]
  },
  {
   "cell_type": "markdown",
   "id": "2c9344c3",
   "metadata": {},
   "source": [
    "# Problem 53"
   ]
  },
  {
   "cell_type": "code",
   "execution_count": 13,
   "id": "f92d86a2",
   "metadata": {
    "ExecuteTime": {
     "end_time": "2022-01-23T11:26:44.390994Z",
     "start_time": "2022-01-23T11:26:43.606314Z"
    }
   },
   "outputs": [
    {
     "data": {
      "text/plain": [
       "(array([0.82772357, 0.83699212, 0.74376004, ..., 0.42438094, 0.58941473,\n",
       "        0.89237751]),\n",
       " array(['e', 'b', 'b', ..., 'e', 'b', 'b'], dtype=object))"
      ]
     },
     "execution_count": 13,
     "metadata": {},
     "output_type": "execute_result"
    }
   ],
   "source": [
    "import numpy as np\n",
    "\n",
    "def predict_category(model, X):\n",
    "    return (np.max(model.predict_proba(X), axis=1), model.predict(X))\n",
    "\n",
    "predict_category(logi_regress, df_X_train)"
   ]
  },
  {
   "cell_type": "markdown",
   "id": "694a8da1",
   "metadata": {
    "ExecuteTime": {
     "end_time": "2022-01-20T13:10:22.023300Z",
     "start_time": "2022-01-20T13:10:22.021525Z"
    }
   },
   "source": [
    "# Problem 54"
   ]
  },
  {
   "cell_type": "code",
   "execution_count": 14,
   "id": "d1e0d5e8",
   "metadata": {
    "ExecuteTime": {
     "end_time": "2022-01-23T11:26:45.718012Z",
     "start_time": "2022-01-23T11:26:44.391781Z"
    }
   },
   "outputs": [
    {
     "name": "stdout",
     "output_type": "stream",
     "text": [
      "train accuracy: 0.951180659670165\n",
      "test accuracy: 0.8860569715142429\n"
     ]
    }
   ],
   "source": [
    "from sklearn.metrics import accuracy_score\n",
    "\n",
    "_, train_category_predicted = predict_category(logi_regress, df_X_train)\n",
    "train_accuracy = accuracy_score(df_train['CATEGORY'], train_category_predicted)\n",
    "print(\"train accuracy:\", train_accuracy)\n",
    "_, test_category_predicted = predict_category(logi_regress, df_X_test)\n",
    "test_accuracy = accuracy_score(df_test['CATEGORY'], test_category_predicted)\n",
    "print(\"test accuracy:\", test_accuracy)"
   ]
  },
  {
   "cell_type": "markdown",
   "id": "4c5a551b",
   "metadata": {},
   "source": [
    "# Problem 55"
   ]
  },
  {
   "cell_type": "code",
   "execution_count": 15,
   "id": "9a77e08b",
   "metadata": {
    "ExecuteTime": {
     "end_time": "2022-01-23T11:26:45.940870Z",
     "start_time": "2022-01-23T11:26:45.718890Z"
    }
   },
   "outputs": [
    {
     "data": {
      "image/png": "[encoded data removed]",
      "text/plain": [
       "<Figure size 432x288 with 2 Axes>"
      ]
     },
     "metadata": {
      "needs_background": "light"
     },
     "output_type": "display_data"
    }
   ],
   "source": [
    "from sklearn.metrics import confusion_matrix, ConfusionMatrixDisplay\n",
    "import matplotlib.pyplot as plt\n",
    "\n",
    "classes = sorted(list(set(train_category_predicted)))\n",
    "\n",
    "conf_mat_train = confusion_matrix(df_train['CATEGORY'], train_category_predicted)\n",
    "disp = ConfusionMatrixDisplay(conf_mat_train, display_labels=classes)\n",
    "disp.plot()\n",
    "plt.show()"
   ]
  },
  {
   "cell_type": "code",
   "execution_count": 16,
   "id": "0a243f4a",
   "metadata": {
    "ExecuteTime": {
     "end_time": "2022-01-23T11:26:46.043732Z",
     "start_time": "2022-01-23T11:26:45.941677Z"
    }
   },
   "outputs": [
    {
     "data": {
      "image/png": "[encoded data removed]",
      "text/plain": [
       "<Figure size 432x288 with 2 Axes>"
      ]
     },
     "metadata": {
      "needs_background": "light"
     },
     "output_type": "display_data"
    }
   ],
   "source": [
    "conf_mat_test = confusion_matrix(df_test['CATEGORY'], test_category_predicted)\n",
    "disp = ConfusionMatrixDisplay(conf_mat_test, display_labels=classes)\n",
    "disp.plot()\n",
    "plt.show()"
   ]
  },
  {
   "cell_type": "markdown",
   "id": "df3d1ed0",
   "metadata": {},
   "source": [
    "# Problem 56"
   ]
  },
  {
   "cell_type": "code",
   "execution_count": 17,
   "id": "302c5abf",
   "metadata": {
    "ExecuteTime": {
     "end_time": "2022-01-23T11:26:46.059419Z",
     "start_time": "2022-01-23T11:26:46.044596Z"
    }
   },
   "outputs": [
    {
     "name": "stdout",
     "output_type": "stream",
     "text": [
      "Precision by category['b', 'e', 't', 'm'] =  [0.8811545  0.88305085 0.88990826 0.97826087]\n",
      "Precision by micro average =  0.8860569715142429\n",
      "Precision by micro average =  0.9080936182636705\n"
     ]
    }
   ],
   "source": [
    "from sklearn.metrics import precision_score, recall_score, f1_score\n",
    "\n",
    "# precision\n",
    "precision_category = precision_score(df_test['CATEGORY'], test_category_predicted, average=None, labels=['b', 'e', 't', 'm'])\n",
    "precision_micro = precision_score(df_test['CATEGORY'], test_category_predicted, average='micro')\n",
    "precision_macro = precision_score(df_test['CATEGORY'], test_category_predicted, average='macro')\n",
    "print(\"Precision by category['b', 'e', 't', 'm'] = \", precision_category)\n",
    "print(\"Precision by micro average = \", precision_micro)\n",
    "print(\"Precision by micro average = \", precision_macro)"
   ]
  },
  {
   "cell_type": "code",
   "execution_count": 18,
   "id": "6f304ff5",
   "metadata": {
    "ExecuteTime": {
     "end_time": "2022-01-23T11:26:46.074681Z",
     "start_time": "2022-01-23T11:26:46.060235Z"
    }
   },
   "outputs": [
    {
     "name": "stdout",
     "output_type": "stream",
     "text": [
      "Recall by category['b', 'e', 't', 'm'] =  [0.9558011  0.96481481 0.59146341 0.51724138]\n",
      "Recall by micro average =  0.8860569715142429\n",
      "Recall by micro average =  0.7573301784329204\n"
     ]
    }
   ],
   "source": [
    "# recall\n",
    "recall_category = recall_score(df_test['CATEGORY'], test_category_predicted, average=None, labels=['b', 'e', 't', 'm'])\n",
    "recall_micro = recall_score(df_test['CATEGORY'], test_category_predicted, average='micro')\n",
    "recall_macro = recall_score(df_test['CATEGORY'], test_category_predicted, average='macro')\n",
    "print(\"Recall by category['b', 'e', 't', 'm'] = \", recall_category)\n",
    "print(\"Recall by micro average = \", recall_micro)\n",
    "print(\"Recall by micro average = \", recall_macro)"
   ]
  },
  {
   "cell_type": "code",
   "execution_count": 19,
   "id": "6bfae757",
   "metadata": {
    "ExecuteTime": {
     "end_time": "2022-01-23T11:26:46.089953Z",
     "start_time": "2022-01-23T11:26:46.075506Z"
    }
   },
   "outputs": [
    {
     "name": "stdout",
     "output_type": "stream",
     "text": [
      "F1 by category['b', 'e', 't', 'm'] =  [0.91696113 0.92212389 0.71062271 0.67669173]\n",
      "F1 by micro average =  0.8860569715142429\n",
      "F1 by micro average =  0.8065998661233444\n"
     ]
    }
   ],
   "source": [
    "# F1\n",
    "f1_category = f1_score(df_test['CATEGORY'], test_category_predicted, average=None, labels=['b', 'e', 't', 'm'])\n",
    "f1_micro = f1_score(df_test['CATEGORY'], test_category_predicted, average='micro')\n",
    "f1_macro = f1_score(df_test['CATEGORY'], test_category_predicted, average='macro')\n",
    "print(\"F1 by category['b', 'e', 't', 'm'] = \", f1_category)\n",
    "print(\"F1 by micro average = \", f1_micro)\n",
    "print(\"F1 by micro average = \", f1_macro)"
   ]
  },
  {
   "cell_type": "markdown",
   "id": "c33ccc3b",
   "metadata": {},
   "source": [
    "# Problem 57"
   ]
  },
  {
   "cell_type": "code",
   "execution_count": 20,
   "id": "33a25e7d",
   "metadata": {
    "ExecuteTime": {
     "end_time": "2022-01-23T11:26:46.193295Z",
     "start_time": "2022-01-23T11:26:46.090670Z"
    }
   },
   "outputs": [
    {
     "name": "stdout",
     "output_type": "stream",
     "text": [
      "For category b\n"
     ]
    },
    {
     "data": {
      "text/html": [
       "<div>\n",
       "<style scoped>\n",
       "    .dataframe tbody tr th:only-of-type {\n",
       "        vertical-align: middle;\n",
       "    }\n",
       "\n",
       "    .dataframe tbody tr th {\n",
       "        vertical-align: top;\n",
       "    }\n",
       "\n",
       "    .dataframe thead th {\n",
       "        text-align: right;\n",
       "    }\n",
       "</style>\n",
       "<table border=\"1\" class=\"dataframe\">\n",
       "  <thead>\n",
       "    <tr style=\"text-align: right;\">\n",
       "      <th></th>\n",
       "      <th>1</th>\n",
       "      <th>2</th>\n",
       "      <th>3</th>\n",
       "      <th>4</th>\n",
       "      <th>5</th>\n",
       "      <th>6</th>\n",
       "      <th>7</th>\n",
       "      <th>8</th>\n",
       "      <th>9</th>\n",
       "      <th>10</th>\n",
       "    </tr>\n",
       "  </thead>\n",
       "  <tbody>\n",
       "    <tr>\n",
       "      <th>Importance best 10</th>\n",
       "      <td>stocks</td>\n",
       "      <td>update</td>\n",
       "      <td>china</td>\n",
       "      <td>fed</td>\n",
       "      <td>ecb</td>\n",
       "      <td>bank</td>\n",
       "      <td>euro</td>\n",
       "      <td>dollar</td>\n",
       "      <td>profit</td>\n",
       "      <td>ukraine</td>\n",
       "    </tr>\n",
       "    <tr>\n",
       "      <th>Importance worst 10</th>\n",
       "      <td>google</td>\n",
       "      <td>ebola</td>\n",
       "      <td>apple</td>\n",
       "      <td>facebook</td>\n",
       "      <td>star</td>\n",
       "      <td>video</td>\n",
       "      <td>study</td>\n",
       "      <td>kardashian</td>\n",
       "      <td>microsoft</td>\n",
       "      <td>drug</td>\n",
       "    </tr>\n",
       "  </tbody>\n",
       "</table>\n",
       "</div>"
      ],
      "text/plain": [
       "                         1       2      3         4     5      6      7   \\\n",
       "Importance best 10   stocks  update  china       fed   ecb   bank   euro   \n",
       "Importance worst 10  google   ebola  apple  facebook  star  video  study   \n",
       "\n",
       "                             8          9        10  \n",
       "Importance best 10       dollar     profit  ukraine  \n",
       "Importance worst 10  kardashian  microsoft     drug  "
      ]
     },
     "metadata": {},
     "output_type": "display_data"
    },
    {
     "name": "stdout",
     "output_type": "stream",
     "text": [
      "For category e\n"
     ]
    },
    {
     "data": {
      "text/html": [
       "<div>\n",
       "<style scoped>\n",
       "    .dataframe tbody tr th:only-of-type {\n",
       "        vertical-align: middle;\n",
       "    }\n",
       "\n",
       "    .dataframe tbody tr th {\n",
       "        vertical-align: top;\n",
       "    }\n",
       "\n",
       "    .dataframe thead th {\n",
       "        text-align: right;\n",
       "    }\n",
       "</style>\n",
       "<table border=\"1\" class=\"dataframe\">\n",
       "  <thead>\n",
       "    <tr style=\"text-align: right;\">\n",
       "      <th></th>\n",
       "      <th>1</th>\n",
       "      <th>2</th>\n",
       "      <th>3</th>\n",
       "      <th>4</th>\n",
       "      <th>5</th>\n",
       "      <th>6</th>\n",
       "      <th>7</th>\n",
       "      <th>8</th>\n",
       "      <th>9</th>\n",
       "      <th>10</th>\n",
       "    </tr>\n",
       "  </thead>\n",
       "  <tbody>\n",
       "    <tr>\n",
       "      <th>Importance best 10</th>\n",
       "      <td>kardashian</td>\n",
       "      <td>star</td>\n",
       "      <td>chris</td>\n",
       "      <td>kim</td>\n",
       "      <td>movie</td>\n",
       "      <td>miley</td>\n",
       "      <td>cyrus</td>\n",
       "      <td>miley cyrus</td>\n",
       "      <td>wedding</td>\n",
       "      <td>beyonce</td>\n",
       "    </tr>\n",
       "    <tr>\n",
       "      <th>Importance worst 10</th>\n",
       "      <td>update</td>\n",
       "      <td>google</td>\n",
       "      <td>says</td>\n",
       "      <td>china</td>\n",
       "      <td>study</td>\n",
       "      <td>ceo</td>\n",
       "      <td>billion</td>\n",
       "      <td>gm</td>\n",
       "      <td>sales</td>\n",
       "      <td>apple</td>\n",
       "    </tr>\n",
       "  </tbody>\n",
       "</table>\n",
       "</div>"
      ],
      "text/plain": [
       "                             1       2      3      4      5      6        7   \\\n",
       "Importance best 10   kardashian    star  chris    kim  movie  miley    cyrus   \n",
       "Importance worst 10      update  google   says  china  study    ceo  billion   \n",
       "\n",
       "                              8        9        10  \n",
       "Importance best 10   miley cyrus  wedding  beyonce  \n",
       "Importance worst 10           gm    sales    apple  "
      ]
     },
     "metadata": {},
     "output_type": "display_data"
    },
    {
     "name": "stdout",
     "output_type": "stream",
     "text": [
      "For category m\n"
     ]
    },
    {
     "data": {
      "text/html": [
       "<div>\n",
       "<style scoped>\n",
       "    .dataframe tbody tr th:only-of-type {\n",
       "        vertical-align: middle;\n",
       "    }\n",
       "\n",
       "    .dataframe tbody tr th {\n",
       "        vertical-align: top;\n",
       "    }\n",
       "\n",
       "    .dataframe thead th {\n",
       "        text-align: right;\n",
       "    }\n",
       "</style>\n",
       "<table border=\"1\" class=\"dataframe\">\n",
       "  <thead>\n",
       "    <tr style=\"text-align: right;\">\n",
       "      <th></th>\n",
       "      <th>1</th>\n",
       "      <th>2</th>\n",
       "      <th>3</th>\n",
       "      <th>4</th>\n",
       "      <th>5</th>\n",
       "      <th>6</th>\n",
       "      <th>7</th>\n",
       "      <th>8</th>\n",
       "      <th>9</th>\n",
       "      <th>10</th>\n",
       "    </tr>\n",
       "  </thead>\n",
       "  <tbody>\n",
       "    <tr>\n",
       "      <th>Importance best 10</th>\n",
       "      <td>ebola</td>\n",
       "      <td>study</td>\n",
       "      <td>cancer</td>\n",
       "      <td>fda</td>\n",
       "      <td>drug</td>\n",
       "      <td>mers</td>\n",
       "      <td>cigarettes</td>\n",
       "      <td>health</td>\n",
       "      <td>virus</td>\n",
       "      <td>cdc</td>\n",
       "    </tr>\n",
       "    <tr>\n",
       "      <th>Importance worst 10</th>\n",
       "      <td>gm</td>\n",
       "      <td>google</td>\n",
       "      <td>apple</td>\n",
       "      <td>amazon</td>\n",
       "      <td>china</td>\n",
       "      <td>facebook</td>\n",
       "      <td>stocks</td>\n",
       "      <td>ceo</td>\n",
       "      <td>deal</td>\n",
       "      <td>buy</td>\n",
       "    </tr>\n",
       "  </tbody>\n",
       "</table>\n",
       "</div>"
      ],
      "text/plain": [
       "                        1       2       3       4      5         6   \\\n",
       "Importance best 10   ebola   study  cancer     fda   drug      mers   \n",
       "Importance worst 10     gm  google   apple  amazon  china  facebook   \n",
       "\n",
       "                             7       8      9    10  \n",
       "Importance best 10   cigarettes  health  virus  cdc  \n",
       "Importance worst 10      stocks     ceo   deal  buy  "
      ]
     },
     "metadata": {},
     "output_type": "display_data"
    },
    {
     "name": "stdout",
     "output_type": "stream",
     "text": [
      "For category t\n"
     ]
    },
    {
     "data": {
      "text/html": [
       "<div>\n",
       "<style scoped>\n",
       "    .dataframe tbody tr th:only-of-type {\n",
       "        vertical-align: middle;\n",
       "    }\n",
       "\n",
       "    .dataframe tbody tr th {\n",
       "        vertical-align: top;\n",
       "    }\n",
       "\n",
       "    .dataframe thead th {\n",
       "        text-align: right;\n",
       "    }\n",
       "</style>\n",
       "<table border=\"1\" class=\"dataframe\">\n",
       "  <thead>\n",
       "    <tr style=\"text-align: right;\">\n",
       "      <th></th>\n",
       "      <th>1</th>\n",
       "      <th>2</th>\n",
       "      <th>3</th>\n",
       "      <th>4</th>\n",
       "      <th>5</th>\n",
       "      <th>6</th>\n",
       "      <th>7</th>\n",
       "      <th>8</th>\n",
       "      <th>9</th>\n",
       "      <th>10</th>\n",
       "    </tr>\n",
       "  </thead>\n",
       "  <tbody>\n",
       "    <tr>\n",
       "      <th>Importance best 10</th>\n",
       "      <td>google</td>\n",
       "      <td>apple</td>\n",
       "      <td>facebook</td>\n",
       "      <td>microsoft</td>\n",
       "      <td>gm</td>\n",
       "      <td>climate</td>\n",
       "      <td>tesla</td>\n",
       "      <td>mobile</td>\n",
       "      <td>samsung</td>\n",
       "      <td>fcc</td>\n",
       "    </tr>\n",
       "    <tr>\n",
       "      <th>Importance worst 10</th>\n",
       "      <td>stocks</td>\n",
       "      <td>fed</td>\n",
       "      <td>ecb</td>\n",
       "      <td>drug</td>\n",
       "      <td>kardashian</td>\n",
       "      <td>cancer</td>\n",
       "      <td>ebola</td>\n",
       "      <td>shares</td>\n",
       "      <td>american</td>\n",
       "      <td>dollar</td>\n",
       "    </tr>\n",
       "  </tbody>\n",
       "</table>\n",
       "</div>"
      ],
      "text/plain": [
       "                         1      2         3          4           5        6   \\\n",
       "Importance best 10   google  apple  facebook  microsoft          gm  climate   \n",
       "Importance worst 10  stocks    fed       ecb       drug  kardashian   cancer   \n",
       "\n",
       "                        7       8         9       10  \n",
       "Importance best 10   tesla  mobile   samsung     fcc  \n",
       "Importance worst 10  ebola  shares  american  dollar  "
      ]
     },
     "metadata": {},
     "output_type": "display_data"
    }
   ],
   "source": [
    "features = df_X_train.columns.values\n",
    "index = [i for i in range(1, 11)]\n",
    "for category_name, coef in zip(logi_regress.classes_, logi_regress.coef_):\n",
    "    print(\"For category {0}\".format(category_name))\n",
    "    best10 = pd.DataFrame(features[np.argsort(coef)[::-1][:10]], columns=['Importance best 10'], index=index).T\n",
    "    worst10 = pd.DataFrame(features[np.argsort(coef)[:10]], columns=['Importance worst 10'], index=index).T\n",
    "    display(pd.concat([best10, worst10], axis=0))"
   ]
  },
  {
   "cell_type": "code",
   "execution_count": 21,
   "id": "58267b1b",
   "metadata": {
    "ExecuteTime": {
     "end_time": "2022-01-23T11:30:00.330542Z",
     "start_time": "2022-01-23T11:26:46.194138Z"
    }
   },
   "outputs": [
    {
     "name": "stderr",
     "output_type": "stream",
     "text": [
      " 80%|████████  | 8/10 [01:34<00:38, 19.37s/it]/home/ytaguchi/.pyenv/versions/anaconda3-2021.05/lib/python3.8/site-packages/sklearn/linear_model/_logistic.py:763: ConvergenceWarning: lbfgs failed to converge (status=1):\n",
      "STOP: TOTAL NO. of ITERATIONS REACHED LIMIT.\n",
      "\n",
      "Increase the number of iterations (max_iter) or scale the data as shown in:\n",
      "    https://scikit-learn.org/stable/modules/preprocessing.html\n",
      "Please also refer to the documentation for alternative solver options:\n",
      "    https://scikit-learn.org/stable/modules/linear_model.html#logistic-regression\n",
      "  n_iter_i = _check_optimize_result(\n",
      " 90%|█████████ | 9/10 [02:24<00:28, 28.90s/it]/home/ytaguchi/.pyenv/versions/anaconda3-2021.05/lib/python3.8/site-packages/sklearn/linear_model/_logistic.py:763: ConvergenceWarning: lbfgs failed to converge (status=1):\n",
      "STOP: TOTAL NO. of ITERATIONS REACHED LIMIT.\n",
      "\n",
      "Increase the number of iterations (max_iter) or scale the data as shown in:\n",
      "    https://scikit-learn.org/stable/modules/preprocessing.html\n",
      "Please also refer to the documentation for alternative solver options:\n",
      "    https://scikit-learn.org/stable/modules/linear_model.html#logistic-regression\n",
      "  n_iter_i = _check_optimize_result(\n",
      "100%|██████████| 10/10 [03:14<00:00, 19.41s/it]\n"
     ]
    }
   ],
   "source": [
    "from tqdm import tqdm\n",
    "\n",
    "result_accuracy = []\n",
    "for reg_C in tqdm(np.logspace(-4, 6, 10, base=10)):\n",
    "    logi_regress = LogisticRegression(random_state=0, C=reg_C, max_iter=1000)\n",
    "    logi_regress.fit(df_X_train, df_train['CATEGORY'])\n",
    "    \n",
    "    _, train_pred = predict_category(logi_regress, df_X_train)\n",
    "    _, valid_pred = predict_category(logi_regress, df_X_valid)\n",
    "    _, test_pred = predict_category(logi_regress, df_X_test)\n",
    "    \n",
    "    train_accuracy = accuracy_score(df_train['CATEGORY'], train_pred)\n",
    "    valid_accuracy = accuracy_score(df_valid['CATEGORY'], valid_pred)\n",
    "    test_accuracy = accuracy_score(df_test['CATEGORY'], test_pred)\n",
    "    \n",
    "    result_accuracy.append([reg_C, train_accuracy, valid_accuracy, test_accuracy])"
   ]
  },
  {
   "cell_type": "code",
   "execution_count": 22,
   "id": "1bd608bb",
   "metadata": {
    "ExecuteTime": {
     "end_time": "2022-01-23T11:30:00.578705Z",
     "start_time": "2022-01-23T11:30:00.331439Z"
    }
   },
   "outputs": [
    {
     "data": {
      "image/png": "[encoded data removed]",
      "text/plain": [
       "<Figure size 432x288 with 1 Axes>"
      ]
     },
     "metadata": {
      "needs_background": "light"
     },
     "output_type": "display_data"
    }
   ],
   "source": [
    "result_accuracy = np.array(result_accuracy).T\n",
    "plt.plot(result_accuracy[0], result_accuracy[1], label='train')\n",
    "plt.plot(result_accuracy[0], result_accuracy[2], label='valid')\n",
    "plt.plot(result_accuracy[0], result_accuracy[3], label='test')\n",
    "plt.ylabel('Accuracy')\n",
    "plt.xscale ('log')\n",
    "plt.xlabel('C')\n",
    "plt.legend()\n",
    "plt.show()"
   ]
  },
  {
   "cell_type": "code",
   "execution_count": 23,
   "id": "93a22274",
   "metadata": {
    "ExecuteTime": {
     "end_time": "2022-01-23T11:33:15.639575Z",
     "start_time": "2022-01-23T11:30:00.580153Z"
    }
   },
   "outputs": [
    {
     "name": "stderr",
     "output_type": "stream",
     "text": [
      " 80%|████████  | 8/10 [01:35<00:38, 19.47s/it]/home/ytaguchi/.pyenv/versions/anaconda3-2021.05/lib/python3.8/site-packages/sklearn/linear_model/_logistic.py:763: ConvergenceWarning: lbfgs failed to converge (status=1):\n",
      "STOP: TOTAL NO. of ITERATIONS REACHED LIMIT.\n",
      "\n",
      "Increase the number of iterations (max_iter) or scale the data as shown in:\n",
      "    https://scikit-learn.org/stable/modules/preprocessing.html\n",
      "Please also refer to the documentation for alternative solver options:\n",
      "    https://scikit-learn.org/stable/modules/linear_model.html#logistic-regression\n",
      "  n_iter_i = _check_optimize_result(\n",
      " 90%|█████████ | 9/10 [02:25<00:29, 29.10s/it]/home/ytaguchi/.pyenv/versions/anaconda3-2021.05/lib/python3.8/site-packages/sklearn/linear_model/_logistic.py:763: ConvergenceWarning: lbfgs failed to converge (status=1):\n",
      "STOP: TOTAL NO. of ITERATIONS REACHED LIMIT.\n",
      "\n",
      "Increase the number of iterations (max_iter) or scale the data as shown in:\n",
      "    https://scikit-learn.org/stable/modules/preprocessing.html\n",
      "Please also refer to the documentation for alternative solver options:\n",
      "    https://scikit-learn.org/stable/modules/linear_model.html#logistic-regression\n",
      "  n_iter_i = _check_optimize_result(\n",
      "100%|██████████| 10/10 [03:15<00:00, 19.51s/it]\n"
     ]
    }
   ],
   "source": [
    "result_f1 = []\n",
    "for reg_C in tqdm(np.logspace(-4, 6, 10, base=10)):\n",
    "    logi_regress = LogisticRegression(random_state=0, C=reg_C, max_iter=1000)\n",
    "    logi_regress.fit(df_X_train, df_train['CATEGORY'])\n",
    "    \n",
    "    _, train_pred = predict_category(logi_regress, df_X_train)\n",
    "    _, valid_pred = predict_category(logi_regress, df_X_valid)\n",
    "    _, test_pred = predict_category(logi_regress, df_X_test)\n",
    "    \n",
    "    train_f1 = f1_score(df_train['CATEGORY'], train_pred, average='micro')\n",
    "    valid_f1 = f1_score(df_valid['CATEGORY'], valid_pred, average='micro')\n",
    "    test_f1 = f1_score(df_test['CATEGORY'], test_pred, average='micro')\n",
    "    \n",
    "    result_f1.append([reg_C, train_f1, valid_f1, test_f1])"
   ]
  },
  {
   "cell_type": "code",
   "execution_count": 24,
   "id": "04bcf614",
   "metadata": {
    "ExecuteTime": {
     "end_time": "2022-01-23T11:33:15.785093Z",
     "start_time": "2022-01-23T11:33:15.640544Z"
    }
   },
   "outputs": [
    {
     "data": {
      "image/png": "[encoded data removed]",
      "text/plain": [
       "<Figure size 432x288 with 1 Axes>"
      ]
     },
     "metadata": {
      "needs_background": "light"
     },
     "output_type": "display_data"
    }
   ],
   "source": [
    "result_f1 = np.array(result_f1).T\n",
    "plt.plot(result_f1[0], result_f1[1], label='train')\n",
    "plt.plot(result_f1[0], result_f1[2], label='valid')\n",
    "plt.plot(result_f1[0], result_f1[3], label='test')\n",
    "plt.ylabel('f1')\n",
    "plt.xscale ('log')\n",
    "plt.xlabel('C')\n",
    "plt.legend()\n",
    "plt.show()"
   ]
  },
  {
   "cell_type": "markdown",
   "id": "9dda7f16",
   "metadata": {},
   "source": [
    "# Problem 59"
   ]
  },
  {
   "cell_type": "code",
   "execution_count": 32,
   "id": "010b5775",
   "metadata": {
    "ExecuteTime": {
     "end_time": "2022-01-23T12:34:16.513356Z",
     "start_time": "2022-01-23T12:34:16.509825Z"
    }
   },
   "outputs": [],
   "source": [
    "import optuna\n",
    "# Hyper-parameter optimization of C\n",
    "def obj_logi_regress(trial):\n",
    "    reg_C = trial.suggest_loguniform('reg_C', 1e-4, 1e6)\n",
    "    logi_regress = LogisticRegression(random_state=0, C=reg_C, max_iter=500)\n",
    "    logi_regress.fit(df_X_train, df_train['CATEGORY'])\n",
    "    _, valid_pred = predict_category(logi_regress, df_X_valid)\n",
    "    valid_accuracy = accuracy_score(df_valid['CATEGORY'], valid_pred)\n",
    "    return valid_accuracy"
   ]
  },
  {
   "cell_type": "code",
   "execution_count": 33,
   "id": "d20e4e0e",
   "metadata": {
    "ExecuteTime": {
     "end_time": "2022-01-23T12:42:07.732196Z",
     "start_time": "2022-01-23T12:34:23.458715Z"
    }
   },
   "outputs": [
    {
     "name": "stderr",
     "output_type": "stream",
     "text": [
      "\u001b[32m[I 2022-01-23 21:34:23,460]\u001b[0m A new study created in memory with name: no-name-0f9b6a7a-9e96-4dd9-9095-367c2b6a7ffe\u001b[0m\n",
      "/home/ytaguchi/.pyenv/versions/anaconda3-2021.05/lib/python3.8/site-packages/optuna/study/study.py:393: FutureWarning: `n_jobs` argument has been deprecated in v2.7.0. This feature will be removed in v4.0.0. See https://github.com/optuna/optuna/releases/tag/v2.7.0.\n",
      "  warnings.warn(\n",
      "/home/ytaguchi/.pyenv/versions/anaconda3-2021.05/lib/python3.8/site-packages/sklearn/linear_model/_logistic.py:763: ConvergenceWarning: lbfgs failed to converge (status=1):\n",
      "STOP: TOTAL NO. of ITERATIONS REACHED LIMIT.\n",
      "\n",
      "Increase the number of iterations (max_iter) or scale the data as shown in:\n",
      "    https://scikit-learn.org/stable/modules/preprocessing.html\n",
      "Please also refer to the documentation for alternative solver options:\n",
      "    https://scikit-learn.org/stable/modules/linear_model.html#logistic-regression\n",
      "  n_iter_i = _check_optimize_result(\n",
      "/home/ytaguchi/.pyenv/versions/anaconda3-2021.05/lib/python3.8/site-packages/sklearn/linear_model/_logistic.py:763: ConvergenceWarning: lbfgs failed to converge (status=1):\n",
      "STOP: TOTAL NO. of ITERATIONS REACHED LIMIT.\n",
      "\n",
      "Increase the number of iterations (max_iter) or scale the data as shown in:\n",
      "    https://scikit-learn.org/stable/modules/preprocessing.html\n",
      "Please also refer to the documentation for alternative solver options:\n",
      "    https://scikit-learn.org/stable/modules/linear_model.html#logistic-regression\n",
      "  n_iter_i = _check_optimize_result(\n",
      "\u001b[32m[I 2022-01-23 21:35:05,035]\u001b[0m Trial 0 finished with value: 0.9100449775112444 and parameters: {'reg_C': 242188.56596293653}. Best is trial 0 with value: 0.9100449775112444.\u001b[0m\n",
      "\u001b[32m[I 2022-01-23 21:35:05,895]\u001b[0m Trial 1 finished with value: 0.9137931034482759 and parameters: {'reg_C': 25041.148224553457}. Best is trial 1 with value: 0.9137931034482759.\u001b[0m\n",
      "\u001b[32m[I 2022-01-23 21:35:09,529]\u001b[0m Trial 3 finished with value: 0.787856071964018 and parameters: {'reg_C': 0.03784848255617528}. Best is trial 1 with value: 0.9137931034482759.\u001b[0m\n",
      "\u001b[32m[I 2022-01-23 21:35:10,739]\u001b[0m Trial 2 finished with value: 0.7886056971514243 and parameters: {'reg_C': 0.04544301315339358}. Best is trial 1 with value: 0.9137931034482759.\u001b[0m\n",
      "\u001b[32m[I 2022-01-23 21:35:16,627]\u001b[0m Trial 4 finished with value: 0.8118440779610195 and parameters: {'reg_C': 0.3321847561031818}. Best is trial 1 with value: 0.9137931034482759.\u001b[0m\n",
      "\u001b[32m[I 2022-01-23 21:35:28,612]\u001b[0m Trial 5 finished with value: 0.9017991004497751 and parameters: {'reg_C': 10.271149968403133}. Best is trial 1 with value: 0.9137931034482759.\u001b[0m\n",
      "\u001b[32m[I 2022-01-23 21:35:31,146]\u001b[0m Trial 7 finished with value: 0.4077961019490255 and parameters: {'reg_C': 0.0002478262562798361}. Best is trial 1 with value: 0.9137931034482759.\u001b[0m\n",
      "/home/ytaguchi/.pyenv/versions/anaconda3-2021.05/lib/python3.8/site-packages/sklearn/linear_model/_logistic.py:763: ConvergenceWarning: lbfgs failed to converge (status=1):\n",
      "STOP: TOTAL NO. of ITERATIONS REACHED LIMIT.\n",
      "\n",
      "Increase the number of iterations (max_iter) or scale the data as shown in:\n",
      "    https://scikit-learn.org/stable/modules/preprocessing.html\n",
      "Please also refer to the documentation for alternative solver options:\n",
      "    https://scikit-learn.org/stable/modules/linear_model.html#logistic-regression\n",
      "  n_iter_i = _check_optimize_result(\n",
      "\u001b[32m[I 2022-01-23 21:36:00,862]\u001b[0m Trial 6 finished with value: 0.9137931034482759 and parameters: {'reg_C': 9628.095165336063}. Best is trial 1 with value: 0.9137931034482759.\u001b[0m\n",
      "\u001b[32m[I 2022-01-23 21:36:04,177]\u001b[0m Trial 9 finished with value: 0.6251874062968515 and parameters: {'reg_C': 0.01175452138037394}. Best is trial 1 with value: 0.9137931034482759.\u001b[0m\n",
      "\u001b[32m[I 2022-01-23 21:36:06,658]\u001b[0m Trial 10 finished with value: 0.4077961019490255 and parameters: {'reg_C': 0.00015503504543909407}. Best is trial 1 with value: 0.9137931034482759.\u001b[0m\n",
      "/home/ytaguchi/.pyenv/versions/anaconda3-2021.05/lib/python3.8/site-packages/sklearn/linear_model/_logistic.py:763: ConvergenceWarning: lbfgs failed to converge (status=1):\n",
      "STOP: TOTAL NO. of ITERATIONS REACHED LIMIT.\n",
      "\n",
      "Increase the number of iterations (max_iter) or scale the data as shown in:\n",
      "    https://scikit-learn.org/stable/modules/preprocessing.html\n",
      "Please also refer to the documentation for alternative solver options:\n",
      "    https://scikit-learn.org/stable/modules/linear_model.html#logistic-regression\n",
      "  n_iter_i = _check_optimize_result(\n",
      "\u001b[32m[I 2022-01-23 21:36:16,055]\u001b[0m Trial 8 finished with value: 0.9152923538230885 and parameters: {'reg_C': 6027.231270627287}. Best is trial 8 with value: 0.9152923538230885.\u001b[0m\n",
      "\u001b[32m[I 2022-01-23 21:36:40,672]\u001b[0m Trial 11 finished with value: 0.9152923538230885 and parameters: {'reg_C': 427.4364999502216}. Best is trial 8 with value: 0.9152923538230885.\u001b[0m\n",
      "\u001b[32m[I 2022-01-23 21:36:58,754]\u001b[0m Trial 12 finished with value: 0.9167916041979011 and parameters: {'reg_C': 999.1806424762576}. Best is trial 12 with value: 0.9167916041979011.\u001b[0m\n",
      "\u001b[32m[I 2022-01-23 21:37:12,401]\u001b[0m Trial 13 finished with value: 0.9137931034482759 and parameters: {'reg_C': 147.99917138598565}. Best is trial 12 with value: 0.9167916041979011.\u001b[0m\n",
      "\u001b[32m[I 2022-01-23 21:37:31,442]\u001b[0m Trial 14 finished with value: 0.9145427286356822 and parameters: {'reg_C': 173.31964241678364}. Best is trial 12 with value: 0.9167916041979011.\u001b[0m\n",
      "/home/ytaguchi/.pyenv/versions/anaconda3-2021.05/lib/python3.8/site-packages/sklearn/linear_model/_logistic.py:763: ConvergenceWarning: lbfgs failed to converge (status=1):\n",
      "STOP: TOTAL NO. of ITERATIONS REACHED LIMIT.\n",
      "\n",
      "Increase the number of iterations (max_iter) or scale the data as shown in:\n",
      "    https://scikit-learn.org/stable/modules/preprocessing.html\n",
      "Please also refer to the documentation for alternative solver options:\n",
      "    https://scikit-learn.org/stable/modules/linear_model.html#logistic-regression\n",
      "  n_iter_i = _check_optimize_result(\n",
      "\u001b[32m[I 2022-01-23 21:37:55,732]\u001b[0m Trial 15 finished with value: 0.9167916041979011 and parameters: {'reg_C': 1140.1980422439458}. Best is trial 12 with value: 0.9167916041979011.\u001b[0m\n",
      "/home/ytaguchi/.pyenv/versions/anaconda3-2021.05/lib/python3.8/site-packages/sklearn/linear_model/_logistic.py:763: ConvergenceWarning: lbfgs failed to converge (status=1):\n",
      "STOP: TOTAL NO. of ITERATIONS REACHED LIMIT.\n",
      "\n",
      "Increase the number of iterations (max_iter) or scale the data as shown in:\n",
      "    https://scikit-learn.org/stable/modules/preprocessing.html\n",
      "Please also refer to the documentation for alternative solver options:\n",
      "    https://scikit-learn.org/stable/modules/linear_model.html#logistic-regression\n",
      "  n_iter_i = _check_optimize_result(\n",
      "\u001b[32m[I 2022-01-23 21:38:15,546]\u001b[0m Trial 16 finished with value: 0.9160419790104948 and parameters: {'reg_C': 4547.698803953462}. Best is trial 12 with value: 0.9167916041979011.\u001b[0m\n",
      "/home/ytaguchi/.pyenv/versions/anaconda3-2021.05/lib/python3.8/site-packages/sklearn/linear_model/_logistic.py:763: ConvergenceWarning: lbfgs failed to converge (status=1):\n",
      "STOP: TOTAL NO. of ITERATIONS REACHED LIMIT.\n",
      "\n",
      "Increase the number of iterations (max_iter) or scale the data as shown in:\n",
      "    https://scikit-learn.org/stable/modules/preprocessing.html\n",
      "Please also refer to the documentation for alternative solver options:\n",
      "    https://scikit-learn.org/stable/modules/linear_model.html#logistic-regression\n",
      "  n_iter_i = _check_optimize_result(\n",
      "\u001b[32m[I 2022-01-23 21:38:39,890]\u001b[0m Trial 17 finished with value: 0.9062968515742129 and parameters: {'reg_C': 792723.1642887495}. Best is trial 12 with value: 0.9167916041979011.\u001b[0m\n",
      "\u001b[32m[I 2022-01-23 21:38:53,355]\u001b[0m Trial 19 finished with value: 0.8950524737631185 and parameters: {'reg_C': 3.7661365533103854}. Best is trial 12 with value: 0.9167916041979011.\u001b[0m\n",
      "/home/ytaguchi/.pyenv/versions/anaconda3-2021.05/lib/python3.8/site-packages/sklearn/linear_model/_logistic.py:763: ConvergenceWarning: lbfgs failed to converge (status=1):\n",
      "STOP: TOTAL NO. of ITERATIONS REACHED LIMIT.\n",
      "\n",
      "Increase the number of iterations (max_iter) or scale the data as shown in:\n",
      "    https://scikit-learn.org/stable/modules/preprocessing.html\n",
      "Please also refer to the documentation for alternative solver options:\n",
      "    https://scikit-learn.org/stable/modules/linear_model.html#logistic-regression\n",
      "  n_iter_i = _check_optimize_result(\n"
     ]
    },
    {
     "name": "stderr",
     "output_type": "stream",
     "text": [
      "\u001b[32m[I 2022-01-23 21:39:00,874]\u001b[0m Trial 18 finished with value: 0.9085457271364318 and parameters: {'reg_C': 696800.3249785937}. Best is trial 12 with value: 0.9167916041979011.\u001b[0m\n",
      "\u001b[32m[I 2022-01-23 21:39:15,566]\u001b[0m Trial 20 finished with value: 0.9055472263868066 and parameters: {'reg_C': 17.82163020166299}. Best is trial 12 with value: 0.9167916041979011.\u001b[0m\n",
      "\u001b[32m[I 2022-01-23 21:39:22,849]\u001b[0m Trial 21 finished with value: 0.9077961019490255 and parameters: {'reg_C': 26.664271852340168}. Best is trial 12 with value: 0.9167916041979011.\u001b[0m\n",
      "/home/ytaguchi/.pyenv/versions/anaconda3-2021.05/lib/python3.8/site-packages/sklearn/linear_model/_logistic.py:763: ConvergenceWarning: lbfgs failed to converge (status=1):\n",
      "STOP: TOTAL NO. of ITERATIONS REACHED LIMIT.\n",
      "\n",
      "Increase the number of iterations (max_iter) or scale the data as shown in:\n",
      "    https://scikit-learn.org/stable/modules/preprocessing.html\n",
      "Please also refer to the documentation for alternative solver options:\n",
      "    https://scikit-learn.org/stable/modules/linear_model.html#logistic-regression\n",
      "  n_iter_i = _check_optimize_result(\n",
      "\u001b[32m[I 2022-01-23 21:39:59,477]\u001b[0m Trial 22 finished with value: 0.9160419790104948 and parameters: {'reg_C': 1972.176577927645}. Best is trial 12 with value: 0.9167916041979011.\u001b[0m\n",
      "/home/ytaguchi/.pyenv/versions/anaconda3-2021.05/lib/python3.8/site-packages/sklearn/linear_model/_logistic.py:763: ConvergenceWarning: lbfgs failed to converge (status=1):\n",
      "STOP: TOTAL NO. of ITERATIONS REACHED LIMIT.\n",
      "\n",
      "Increase the number of iterations (max_iter) or scale the data as shown in:\n",
      "    https://scikit-learn.org/stable/modules/preprocessing.html\n",
      "Please also refer to the documentation for alternative solver options:\n",
      "    https://scikit-learn.org/stable/modules/linear_model.html#logistic-regression\n",
      "  n_iter_i = _check_optimize_result(\n",
      "\u001b[32m[I 2022-01-23 21:40:06,455]\u001b[0m Trial 23 finished with value: 0.9160419790104948 and parameters: {'reg_C': 1884.5492281349198}. Best is trial 12 with value: 0.9167916041979011.\u001b[0m\n",
      "\u001b[32m[I 2022-01-23 21:40:43,133]\u001b[0m Trial 24 finished with value: 0.9160419790104948 and parameters: {'reg_C': 1316.8343669686262}. Best is trial 12 with value: 0.9167916041979011.\u001b[0m\n",
      "/home/ytaguchi/.pyenv/versions/anaconda3-2021.05/lib/python3.8/site-packages/sklearn/linear_model/_logistic.py:763: ConvergenceWarning: lbfgs failed to converge (status=1):\n",
      "STOP: TOTAL NO. of ITERATIONS REACHED LIMIT.\n",
      "\n",
      "Increase the number of iterations (max_iter) or scale the data as shown in:\n",
      "    https://scikit-learn.org/stable/modules/preprocessing.html\n",
      "Please also refer to the documentation for alternative solver options:\n",
      "    https://scikit-learn.org/stable/modules/linear_model.html#logistic-regression\n",
      "  n_iter_i = _check_optimize_result(\n",
      "\u001b[32m[I 2022-01-23 21:40:51,770]\u001b[0m Trial 25 finished with value: 0.9130434782608695 and parameters: {'reg_C': 56137.11667474584}. Best is trial 12 with value: 0.9167916041979011.\u001b[0m\n",
      "/home/ytaguchi/.pyenv/versions/anaconda3-2021.05/lib/python3.8/site-packages/sklearn/linear_model/_logistic.py:763: ConvergenceWarning: lbfgs failed to converge (status=1):\n",
      "STOP: TOTAL NO. of ITERATIONS REACHED LIMIT.\n",
      "\n",
      "Increase the number of iterations (max_iter) or scale the data as shown in:\n",
      "    https://scikit-learn.org/stable/modules/preprocessing.html\n",
      "Please also refer to the documentation for alternative solver options:\n",
      "    https://scikit-learn.org/stable/modules/linear_model.html#logistic-regression\n",
      "  n_iter_i = _check_optimize_result(\n",
      "\u001b[32m[I 2022-01-23 21:41:27,179]\u001b[0m Trial 26 finished with value: 0.9130434782608695 and parameters: {'reg_C': 95788.24743016266}. Best is trial 12 with value: 0.9167916041979011.\u001b[0m\n",
      "/home/ytaguchi/.pyenv/versions/anaconda3-2021.05/lib/python3.8/site-packages/sklearn/linear_model/_logistic.py:763: ConvergenceWarning: lbfgs failed to converge (status=1):\n",
      "STOP: TOTAL NO. of ITERATIONS REACHED LIMIT.\n",
      "\n",
      "Increase the number of iterations (max_iter) or scale the data as shown in:\n",
      "    https://scikit-learn.org/stable/modules/preprocessing.html\n",
      "Please also refer to the documentation for alternative solver options:\n",
      "    https://scikit-learn.org/stable/modules/linear_model.html#logistic-regression\n",
      "  n_iter_i = _check_optimize_result(\n",
      "\u001b[32m[I 2022-01-23 21:41:35,883]\u001b[0m Trial 27 finished with value: 0.9137931034482759 and parameters: {'reg_C': 79772.25980918271}. Best is trial 12 with value: 0.9167916041979011.\u001b[0m\n",
      "\u001b[32m[I 2022-01-23 21:42:05,352]\u001b[0m Trial 28 finished with value: 0.9145427286356822 and parameters: {'reg_C': 406.36821401152724}. Best is trial 12 with value: 0.9167916041979011.\u001b[0m\n",
      "\u001b[32m[I 2022-01-23 21:42:07,730]\u001b[0m Trial 29 finished with value: 0.9145427286356822 and parameters: {'reg_C': 331.2570562436473}. Best is trial 12 with value: 0.9167916041979011.\u001b[0m\n"
     ]
    }
   ],
   "source": [
    "study = optuna.create_study(direction='maximize')\n",
    "study.optimize(obj_logi_regress, n_jobs=2, n_trials=30)"
   ]
  },
  {
   "cell_type": "code",
   "execution_count": 38,
   "id": "4a16fa33",
   "metadata": {
    "ExecuteTime": {
     "end_time": "2022-01-23T12:48:26.647628Z",
     "start_time": "2022-01-23T12:48:26.644314Z"
    }
   },
   "outputs": [
    {
     "name": "stdout",
     "output_type": "stream",
     "text": [
      "Best value 0.9167916041979011 at C = 999.1806424762576\n"
     ]
    }
   ],
   "source": [
    "print(\"Best value {} at C = {}\".format(study.best_value, study.best_params['reg_C']))\n",
    "best_C = study.best_params['reg_C']"
   ]
  },
  {
   "cell_type": "code",
   "execution_count": 40,
   "id": "c2300c50",
   "metadata": {
    "ExecuteTime": {
     "end_time": "2022-01-23T13:01:14.896094Z",
     "start_time": "2022-01-23T13:00:50.138501Z"
    }
   },
   "outputs": [
    {
     "name": "stderr",
     "output_type": "stream",
     "text": [
      "/home/ytaguchi/.pyenv/versions/anaconda3-2021.05/lib/python3.8/site-packages/sklearn/linear_model/_logistic.py:763: ConvergenceWarning: lbfgs failed to converge (status=1):\n",
      "STOP: TOTAL NO. of ITERATIONS REACHED LIMIT.\n",
      "\n",
      "Increase the number of iterations (max_iter) or scale the data as shown in:\n",
      "    https://scikit-learn.org/stable/modules/preprocessing.html\n",
      "Please also refer to the documentation for alternative solver options:\n",
      "    https://scikit-learn.org/stable/modules/linear_model.html#logistic-regression\n",
      "  n_iter_i = _check_optimize_result(\n"
     ]
    },
    {
     "name": "stdout",
     "output_type": "stream",
     "text": [
      "Best test accuracy of logistic regression:0.9257871064467766\n"
     ]
    }
   ],
   "source": [
    "logi_regress = LogisticRegression(random_state=0, C=reg_C, max_iter=500)\n",
    "logi_regress.fit(df_X_train, df_train['CATEGORY'])\n",
    "_, test_pred = predict_category(logi_regress, df_X_test)\n",
    "test_accuracy = accuracy_score(df_test['CATEGORY'], test_pred)\n",
    "print(\"Best test accuracy of logistic regression:{}\".format(test_accuracy))"
   ]
  },
  {
   "cell_type": "code",
   "execution_count": 42,
   "id": "2d066411",
   "metadata": {
    "ExecuteTime": {
     "end_time": "2022-01-23T13:01:36.911402Z",
     "start_time": "2022-01-23T13:01:36.894081Z"
    }
   },
   "outputs": [],
   "source": [
    "import xgboost as xgb"
   ]
  },
  {
   "cell_type": "code",
   "execution_count": 44,
   "id": "847ec2d7",
   "metadata": {
    "ExecuteTime": {
     "end_time": "2022-01-23T13:04:43.447204Z",
     "start_time": "2022-01-23T13:04:39.213118Z"
    }
   },
   "outputs": [],
   "source": [
    "\n",
    "category_conv_dict = {'b': 0, 'e': 1, 't':2, 'm':3}\n",
    "label_train = df_train['CATEGORY'].map(lambda x: category_conv_dict[x])\n",
    "label_valid = df_valid['CATEGORY'].map(lambda x: category_conv_dict[x])\n",
    "label_test = df_test['CATEGORY'].map(lambda x: category_conv_dict[x])\n",
    "\n",
    "dmat_train = xgb.DMatrix(df_X_train, label=label_train)\n",
    "dmat_valid = xgb.DMatrix(df_X_valid, label=label_valid)\n",
    "dmat_test = xgb.DMatrix(df_X_test, label=label_test)"
   ]
  },
  {
   "cell_type": "code",
   "execution_count": 45,
   "id": "f00aca6b",
   "metadata": {
    "ExecuteTime": {
     "end_time": "2022-01-23T13:31:01.589649Z",
     "start_time": "2022-01-23T13:07:09.864715Z"
    },
    "scrolled": true
   },
   "outputs": [
    {
     "name": "stdout",
     "output_type": "stream",
     "text": [
      "[0]\ttrain-mlogloss:1.33027\teval-mlogloss:1.33300\n",
      "[1]\ttrain-mlogloss:1.28195\teval-mlogloss:1.28768\n",
      "[2]\ttrain-mlogloss:1.23945\teval-mlogloss:1.24782\n",
      "[3]\ttrain-mlogloss:1.20175\teval-mlogloss:1.21235\n",
      "[4]\ttrain-mlogloss:1.16861\teval-mlogloss:1.18039\n",
      "[5]\ttrain-mlogloss:1.13971\teval-mlogloss:1.15354\n",
      "[6]\ttrain-mlogloss:1.11341\teval-mlogloss:1.12802\n",
      "[7]\ttrain-mlogloss:1.08962\teval-mlogloss:1.10642\n",
      "[8]\ttrain-mlogloss:1.06802\teval-mlogloss:1.08546\n",
      "[9]\ttrain-mlogloss:1.04828\teval-mlogloss:1.06543\n",
      "[10]\ttrain-mlogloss:1.03016\teval-mlogloss:1.04801\n",
      "[11]\ttrain-mlogloss:1.01383\teval-mlogloss:1.03214\n",
      "[12]\ttrain-mlogloss:0.99847\teval-mlogloss:1.01878\n",
      "[13]\ttrain-mlogloss:0.98446\teval-mlogloss:1.00574\n",
      "[14]\ttrain-mlogloss:0.97141\teval-mlogloss:0.99319\n",
      "[15]\ttrain-mlogloss:0.95915\teval-mlogloss:0.98173\n",
      "[16]\ttrain-mlogloss:0.94776\teval-mlogloss:0.97132\n",
      "[17]\ttrain-mlogloss:0.93719\teval-mlogloss:0.96150\n",
      "[18]\ttrain-mlogloss:0.92746\teval-mlogloss:0.95310\n",
      "[19]\ttrain-mlogloss:0.91807\teval-mlogloss:0.94500\n",
      "[20]\ttrain-mlogloss:0.90918\teval-mlogloss:0.93692\n",
      "[21]\ttrain-mlogloss:0.90079\teval-mlogloss:0.92788\n",
      "[22]\ttrain-mlogloss:0.89286\teval-mlogloss:0.92202\n",
      "[23]\ttrain-mlogloss:0.88531\teval-mlogloss:0.91502\n",
      "[24]\ttrain-mlogloss:0.87817\teval-mlogloss:0.90877\n",
      "[25]\ttrain-mlogloss:0.87130\teval-mlogloss:0.90212\n",
      "[26]\ttrain-mlogloss:0.86466\teval-mlogloss:0.89622\n",
      "[27]\ttrain-mlogloss:0.85825\teval-mlogloss:0.89087\n",
      "[28]\ttrain-mlogloss:0.85222\teval-mlogloss:0.88543\n",
      "[29]\ttrain-mlogloss:0.84644\teval-mlogloss:0.88141\n",
      "[30]\ttrain-mlogloss:0.84080\teval-mlogloss:0.87517\n",
      "[31]\ttrain-mlogloss:0.83541\teval-mlogloss:0.87092\n",
      "[32]\ttrain-mlogloss:0.83029\teval-mlogloss:0.86629\n",
      "[33]\ttrain-mlogloss:0.82505\teval-mlogloss:0.86262\n",
      "[34]\ttrain-mlogloss:0.82023\teval-mlogloss:0.85815\n",
      "[35]\ttrain-mlogloss:0.81554\teval-mlogloss:0.85416\n",
      "[36]\ttrain-mlogloss:0.81097\teval-mlogloss:0.84996\n",
      "[37]\ttrain-mlogloss:0.80636\teval-mlogloss:0.84621\n",
      "[38]\ttrain-mlogloss:0.80196\teval-mlogloss:0.84193\n",
      "[39]\ttrain-mlogloss:0.79762\teval-mlogloss:0.83859\n",
      "[40]\ttrain-mlogloss:0.79348\teval-mlogloss:0.83599\n",
      "[41]\ttrain-mlogloss:0.78948\teval-mlogloss:0.83252\n",
      "[42]\ttrain-mlogloss:0.78568\teval-mlogloss:0.82914\n",
      "[43]\ttrain-mlogloss:0.78187\teval-mlogloss:0.82575\n",
      "[44]\ttrain-mlogloss:0.77804\teval-mlogloss:0.82201\n",
      "[45]\ttrain-mlogloss:0.77431\teval-mlogloss:0.81849\n",
      "[46]\ttrain-mlogloss:0.77064\teval-mlogloss:0.81552\n",
      "[47]\ttrain-mlogloss:0.76706\teval-mlogloss:0.81317\n",
      "[48]\ttrain-mlogloss:0.76353\teval-mlogloss:0.81010\n",
      "[49]\ttrain-mlogloss:0.76015\teval-mlogloss:0.80806\n",
      "[50]\ttrain-mlogloss:0.75676\teval-mlogloss:0.80520\n",
      "[51]\ttrain-mlogloss:0.75353\teval-mlogloss:0.80269\n",
      "[52]\ttrain-mlogloss:0.75030\teval-mlogloss:0.80020\n",
      "[53]\ttrain-mlogloss:0.74713\teval-mlogloss:0.79769\n",
      "[54]\ttrain-mlogloss:0.74397\teval-mlogloss:0.79501\n",
      "[55]\ttrain-mlogloss:0.74095\teval-mlogloss:0.79204\n",
      "[56]\ttrain-mlogloss:0.73785\teval-mlogloss:0.78891\n",
      "[57]\ttrain-mlogloss:0.73480\teval-mlogloss:0.78612\n",
      "[58]\ttrain-mlogloss:0.73191\teval-mlogloss:0.78316\n",
      "[59]\ttrain-mlogloss:0.72907\teval-mlogloss:0.78004\n",
      "[60]\ttrain-mlogloss:0.72634\teval-mlogloss:0.77812\n",
      "[61]\ttrain-mlogloss:0.72357\teval-mlogloss:0.77579\n",
      "[62]\ttrain-mlogloss:0.72087\teval-mlogloss:0.77341\n",
      "[63]\ttrain-mlogloss:0.71827\teval-mlogloss:0.77117\n",
      "[64]\ttrain-mlogloss:0.71560\teval-mlogloss:0.76858\n",
      "[65]\ttrain-mlogloss:0.71307\teval-mlogloss:0.76654\n",
      "[66]\ttrain-mlogloss:0.71036\teval-mlogloss:0.76370\n",
      "[67]\ttrain-mlogloss:0.70789\teval-mlogloss:0.76111\n",
      "[68]\ttrain-mlogloss:0.70538\teval-mlogloss:0.75920\n",
      "[69]\ttrain-mlogloss:0.70288\teval-mlogloss:0.75730\n",
      "[70]\ttrain-mlogloss:0.70035\teval-mlogloss:0.75564\n",
      "[71]\ttrain-mlogloss:0.69778\teval-mlogloss:0.75344\n",
      "[72]\ttrain-mlogloss:0.69547\teval-mlogloss:0.75159\n",
      "[73]\ttrain-mlogloss:0.69313\teval-mlogloss:0.75001\n",
      "[74]\ttrain-mlogloss:0.69078\teval-mlogloss:0.74816\n",
      "[75]\ttrain-mlogloss:0.68840\teval-mlogloss:0.74534\n",
      "[76]\ttrain-mlogloss:0.68610\teval-mlogloss:0.74361\n",
      "[77]\ttrain-mlogloss:0.68390\teval-mlogloss:0.74199\n",
      "[78]\ttrain-mlogloss:0.68170\teval-mlogloss:0.73965\n",
      "[79]\ttrain-mlogloss:0.67954\teval-mlogloss:0.73742\n",
      "[80]\ttrain-mlogloss:0.67733\teval-mlogloss:0.73512\n",
      "[81]\ttrain-mlogloss:0.67513\teval-mlogloss:0.73359\n",
      "[82]\ttrain-mlogloss:0.67308\teval-mlogloss:0.73137\n",
      "[83]\ttrain-mlogloss:0.67101\teval-mlogloss:0.72956\n",
      "[84]\ttrain-mlogloss:0.66894\teval-mlogloss:0.72829\n",
      "[85]\ttrain-mlogloss:0.66690\teval-mlogloss:0.72716\n",
      "[86]\ttrain-mlogloss:0.66492\teval-mlogloss:0.72552\n",
      "[87]\ttrain-mlogloss:0.66283\teval-mlogloss:0.72352\n",
      "[88]\ttrain-mlogloss:0.66087\teval-mlogloss:0.72186\n",
      "[89]\ttrain-mlogloss:0.65887\teval-mlogloss:0.72010\n",
      "[90]\ttrain-mlogloss:0.65686\teval-mlogloss:0.71823\n",
      "[91]\ttrain-mlogloss:0.65485\teval-mlogloss:0.71693\n",
      "[92]\ttrain-mlogloss:0.65297\teval-mlogloss:0.71543\n",
      "[93]\ttrain-mlogloss:0.65098\teval-mlogloss:0.71398\n",
      "[94]\ttrain-mlogloss:0.64913\teval-mlogloss:0.71241\n",
      "[95]\ttrain-mlogloss:0.64727\teval-mlogloss:0.71057\n",
      "[96]\ttrain-mlogloss:0.64543\teval-mlogloss:0.70917\n",
      "[97]\ttrain-mlogloss:0.64357\teval-mlogloss:0.70783\n",
      "[98]\ttrain-mlogloss:0.64181\teval-mlogloss:0.70639\n",
      "[99]\ttrain-mlogloss:0.64004\teval-mlogloss:0.70491\n",
      "[100]\ttrain-mlogloss:0.63823\teval-mlogloss:0.70358\n",
      "[101]\ttrain-mlogloss:0.63651\teval-mlogloss:0.70186\n",
      "[102]\ttrain-mlogloss:0.63480\teval-mlogloss:0.70050\n",
      "[103]\ttrain-mlogloss:0.63305\teval-mlogloss:0.69901\n",
      "[104]\ttrain-mlogloss:0.63134\teval-mlogloss:0.69765\n",
      "[105]\ttrain-mlogloss:0.62966\teval-mlogloss:0.69638\n",
      "[106]\ttrain-mlogloss:0.62794\teval-mlogloss:0.69510\n",
      "[107]\ttrain-mlogloss:0.62624\teval-mlogloss:0.69408\n",
      "[108]\ttrain-mlogloss:0.62459\teval-mlogloss:0.69234\n",
      "[109]\ttrain-mlogloss:0.62280\teval-mlogloss:0.69092\n",
      "[110]\ttrain-mlogloss:0.62111\teval-mlogloss:0.68961\n",
      "[111]\ttrain-mlogloss:0.61940\teval-mlogloss:0.68820\n",
      "[112]\ttrain-mlogloss:0.61773\teval-mlogloss:0.68699\n",
      "[113]\ttrain-mlogloss:0.61611\teval-mlogloss:0.68566\n",
      "[114]\ttrain-mlogloss:0.61457\teval-mlogloss:0.68396\n",
      "[115]\ttrain-mlogloss:0.61307\teval-mlogloss:0.68267\n",
      "[116]\ttrain-mlogloss:0.61147\teval-mlogloss:0.68141\n",
      "[117]\ttrain-mlogloss:0.60991\teval-mlogloss:0.68035\n",
      "[118]\ttrain-mlogloss:0.60832\teval-mlogloss:0.67895\n",
      "[119]\ttrain-mlogloss:0.60675\teval-mlogloss:0.67767\n",
      "[120]\ttrain-mlogloss:0.60525\teval-mlogloss:0.67648\n",
      "[121]\ttrain-mlogloss:0.60379\teval-mlogloss:0.67502\n",
      "[122]\ttrain-mlogloss:0.60232\teval-mlogloss:0.67336\n",
      "[123]\ttrain-mlogloss:0.60078\teval-mlogloss:0.67218\n",
      "[124]\ttrain-mlogloss:0.59935\teval-mlogloss:0.67144\n",
      "[125]\ttrain-mlogloss:0.59782\teval-mlogloss:0.67019\n",
      "[126]\ttrain-mlogloss:0.59644\teval-mlogloss:0.66940\n",
      "[127]\ttrain-mlogloss:0.59496\teval-mlogloss:0.66830\n",
      "[128]\ttrain-mlogloss:0.59353\teval-mlogloss:0.66713\n",
      "[129]\ttrain-mlogloss:0.59209\teval-mlogloss:0.66565\n",
      "[130]\ttrain-mlogloss:0.59067\teval-mlogloss:0.66474\n",
      "[131]\ttrain-mlogloss:0.58927\teval-mlogloss:0.66350\n",
      "[132]\ttrain-mlogloss:0.58783\teval-mlogloss:0.66252\n",
      "[133]\ttrain-mlogloss:0.58640\teval-mlogloss:0.66158\n",
      "[134]\ttrain-mlogloss:0.58503\teval-mlogloss:0.66051\n",
      "[135]\ttrain-mlogloss:0.58369\teval-mlogloss:0.65946\n",
      "[136]\ttrain-mlogloss:0.58224\teval-mlogloss:0.65850\n",
      "[137]\ttrain-mlogloss:0.58088\teval-mlogloss:0.65752\n",
      "[138]\ttrain-mlogloss:0.57950\teval-mlogloss:0.65600\n",
      "[139]\ttrain-mlogloss:0.57818\teval-mlogloss:0.65528\n",
      "[140]\ttrain-mlogloss:0.57692\teval-mlogloss:0.65394\n",
      "[141]\ttrain-mlogloss:0.57557\teval-mlogloss:0.65250\n",
      "[142]\ttrain-mlogloss:0.57408\teval-mlogloss:0.65147\n",
      "[143]\ttrain-mlogloss:0.57281\teval-mlogloss:0.65066\n",
      "[144]\ttrain-mlogloss:0.57146\teval-mlogloss:0.64935\n",
      "[145]\ttrain-mlogloss:0.57020\teval-mlogloss:0.64839\n",
      "[146]\ttrain-mlogloss:0.56886\teval-mlogloss:0.64714\n",
      "[147]\ttrain-mlogloss:0.56758\teval-mlogloss:0.64580\n",
      "[148]\ttrain-mlogloss:0.56628\teval-mlogloss:0.64476\n",
      "[149]\ttrain-mlogloss:0.56493\teval-mlogloss:0.64333\n",
      "[150]\ttrain-mlogloss:0.56367\teval-mlogloss:0.64211\n",
      "[151]\ttrain-mlogloss:0.56243\teval-mlogloss:0.64097\n",
      "[152]\ttrain-mlogloss:0.56124\teval-mlogloss:0.63963\n",
      "[153]\ttrain-mlogloss:0.56005\teval-mlogloss:0.63892\n",
      "[154]\ttrain-mlogloss:0.55882\teval-mlogloss:0.63806\n",
      "[155]\ttrain-mlogloss:0.55764\teval-mlogloss:0.63711\n",
      "[156]\ttrain-mlogloss:0.55644\teval-mlogloss:0.63617\n",
      "[157]\ttrain-mlogloss:0.55517\teval-mlogloss:0.63526\n",
      "[158]\ttrain-mlogloss:0.55397\teval-mlogloss:0.63434\n",
      "[159]\ttrain-mlogloss:0.55280\teval-mlogloss:0.63348\n",
      "[160]\ttrain-mlogloss:0.55165\teval-mlogloss:0.63278\n",
      "[161]\ttrain-mlogloss:0.55048\teval-mlogloss:0.63170\n",
      "[162]\ttrain-mlogloss:0.54934\teval-mlogloss:0.63059\n"
     ]
    },
    {
     "name": "stdout",
     "output_type": "stream",
     "text": [
      "[163]\ttrain-mlogloss:0.54820\teval-mlogloss:0.62948\n",
      "[164]\ttrain-mlogloss:0.54708\teval-mlogloss:0.62872\n",
      "[165]\ttrain-mlogloss:0.54599\teval-mlogloss:0.62791\n",
      "[166]\ttrain-mlogloss:0.54484\teval-mlogloss:0.62682\n",
      "[167]\ttrain-mlogloss:0.54367\teval-mlogloss:0.62563\n",
      "[168]\ttrain-mlogloss:0.54255\teval-mlogloss:0.62491\n",
      "[169]\ttrain-mlogloss:0.54141\teval-mlogloss:0.62443\n",
      "[170]\ttrain-mlogloss:0.54029\teval-mlogloss:0.62349\n",
      "[171]\ttrain-mlogloss:0.53918\teval-mlogloss:0.62240\n",
      "[172]\ttrain-mlogloss:0.53812\teval-mlogloss:0.62139\n",
      "[173]\ttrain-mlogloss:0.53704\teval-mlogloss:0.62097\n",
      "[174]\ttrain-mlogloss:0.53599\teval-mlogloss:0.61971\n",
      "[175]\ttrain-mlogloss:0.53494\teval-mlogloss:0.61904\n",
      "[176]\ttrain-mlogloss:0.53391\teval-mlogloss:0.61773\n",
      "[177]\ttrain-mlogloss:0.53284\teval-mlogloss:0.61677\n",
      "[178]\ttrain-mlogloss:0.53177\teval-mlogloss:0.61600\n",
      "[179]\ttrain-mlogloss:0.53073\teval-mlogloss:0.61522\n",
      "[180]\ttrain-mlogloss:0.52969\teval-mlogloss:0.61399\n",
      "[181]\ttrain-mlogloss:0.52868\teval-mlogloss:0.61293\n",
      "[182]\ttrain-mlogloss:0.52766\teval-mlogloss:0.61204\n",
      "[183]\ttrain-mlogloss:0.52665\teval-mlogloss:0.61116\n",
      "[184]\ttrain-mlogloss:0.52557\teval-mlogloss:0.61017\n",
      "[185]\ttrain-mlogloss:0.52458\teval-mlogloss:0.60953\n",
      "[186]\ttrain-mlogloss:0.52353\teval-mlogloss:0.60873\n",
      "[187]\ttrain-mlogloss:0.52248\teval-mlogloss:0.60815\n",
      "[188]\ttrain-mlogloss:0.52149\teval-mlogloss:0.60703\n",
      "[189]\ttrain-mlogloss:0.52054\teval-mlogloss:0.60641\n",
      "[190]\ttrain-mlogloss:0.51956\teval-mlogloss:0.60578\n",
      "[191]\ttrain-mlogloss:0.51857\teval-mlogloss:0.60499\n",
      "[192]\ttrain-mlogloss:0.51752\teval-mlogloss:0.60411\n",
      "[193]\ttrain-mlogloss:0.51653\teval-mlogloss:0.60329\n",
      "[194]\ttrain-mlogloss:0.51556\teval-mlogloss:0.60227\n",
      "[195]\ttrain-mlogloss:0.51464\teval-mlogloss:0.60167\n",
      "[196]\ttrain-mlogloss:0.51368\teval-mlogloss:0.60055\n",
      "[197]\ttrain-mlogloss:0.51274\teval-mlogloss:0.59986\n",
      "[198]\ttrain-mlogloss:0.51181\teval-mlogloss:0.59909\n",
      "[199]\ttrain-mlogloss:0.51082\teval-mlogloss:0.59840\n",
      "[200]\ttrain-mlogloss:0.50989\teval-mlogloss:0.59787\n",
      "[201]\ttrain-mlogloss:0.50896\teval-mlogloss:0.59693\n",
      "[202]\ttrain-mlogloss:0.50806\teval-mlogloss:0.59610\n",
      "[203]\ttrain-mlogloss:0.50714\teval-mlogloss:0.59535\n",
      "[204]\ttrain-mlogloss:0.50623\teval-mlogloss:0.59445\n",
      "[205]\ttrain-mlogloss:0.50534\teval-mlogloss:0.59374\n",
      "[206]\ttrain-mlogloss:0.50446\teval-mlogloss:0.59307\n",
      "[207]\ttrain-mlogloss:0.50356\teval-mlogloss:0.59213\n",
      "[208]\ttrain-mlogloss:0.50269\teval-mlogloss:0.59127\n",
      "[209]\ttrain-mlogloss:0.50181\teval-mlogloss:0.59074\n",
      "[210]\ttrain-mlogloss:0.50090\teval-mlogloss:0.58988\n",
      "[211]\ttrain-mlogloss:0.50002\teval-mlogloss:0.58940\n",
      "[212]\ttrain-mlogloss:0.49915\teval-mlogloss:0.58857\n",
      "[213]\ttrain-mlogloss:0.49829\teval-mlogloss:0.58799\n",
      "[214]\ttrain-mlogloss:0.49744\teval-mlogloss:0.58705\n",
      "[215]\ttrain-mlogloss:0.49660\teval-mlogloss:0.58612\n",
      "[216]\ttrain-mlogloss:0.49577\teval-mlogloss:0.58553\n",
      "[217]\ttrain-mlogloss:0.49492\teval-mlogloss:0.58462\n",
      "[218]\ttrain-mlogloss:0.49403\teval-mlogloss:0.58405\n",
      "[219]\ttrain-mlogloss:0.49320\teval-mlogloss:0.58326\n",
      "[220]\ttrain-mlogloss:0.49237\teval-mlogloss:0.58270\n",
      "[221]\ttrain-mlogloss:0.49147\teval-mlogloss:0.58208\n",
      "[222]\ttrain-mlogloss:0.49063\teval-mlogloss:0.58137\n",
      "[223]\ttrain-mlogloss:0.48973\teval-mlogloss:0.58044\n",
      "[224]\ttrain-mlogloss:0.48886\teval-mlogloss:0.57962\n",
      "[225]\ttrain-mlogloss:0.48794\teval-mlogloss:0.57889\n",
      "[226]\ttrain-mlogloss:0.48708\teval-mlogloss:0.57831\n",
      "[227]\ttrain-mlogloss:0.48628\teval-mlogloss:0.57740\n",
      "[228]\ttrain-mlogloss:0.48547\teval-mlogloss:0.57651\n",
      "[229]\ttrain-mlogloss:0.48461\teval-mlogloss:0.57600\n",
      "[230]\ttrain-mlogloss:0.48379\teval-mlogloss:0.57520\n",
      "[231]\ttrain-mlogloss:0.48298\teval-mlogloss:0.57456\n",
      "[232]\ttrain-mlogloss:0.48220\teval-mlogloss:0.57390\n",
      "[233]\ttrain-mlogloss:0.48142\teval-mlogloss:0.57316\n",
      "[234]\ttrain-mlogloss:0.48064\teval-mlogloss:0.57247\n",
      "[235]\ttrain-mlogloss:0.47984\teval-mlogloss:0.57175\n",
      "[236]\ttrain-mlogloss:0.47907\teval-mlogloss:0.57122\n",
      "[237]\ttrain-mlogloss:0.47823\teval-mlogloss:0.57059\n",
      "[238]\ttrain-mlogloss:0.47747\teval-mlogloss:0.56996\n",
      "[239]\ttrain-mlogloss:0.47669\teval-mlogloss:0.56925\n",
      "[240]\ttrain-mlogloss:0.47591\teval-mlogloss:0.56871\n",
      "[241]\ttrain-mlogloss:0.47509\teval-mlogloss:0.56802\n",
      "[242]\ttrain-mlogloss:0.47434\teval-mlogloss:0.56748\n",
      "[243]\ttrain-mlogloss:0.47360\teval-mlogloss:0.56666\n",
      "[244]\ttrain-mlogloss:0.47284\teval-mlogloss:0.56588\n",
      "[245]\ttrain-mlogloss:0.47208\teval-mlogloss:0.56531\n",
      "[246]\ttrain-mlogloss:0.47132\teval-mlogloss:0.56457\n",
      "[247]\ttrain-mlogloss:0.47056\teval-mlogloss:0.56393\n",
      "[248]\ttrain-mlogloss:0.46981\teval-mlogloss:0.56333\n",
      "[249]\ttrain-mlogloss:0.46905\teval-mlogloss:0.56305\n",
      "[250]\ttrain-mlogloss:0.46830\teval-mlogloss:0.56253\n",
      "[251]\ttrain-mlogloss:0.46756\teval-mlogloss:0.56191\n",
      "[252]\ttrain-mlogloss:0.46677\teval-mlogloss:0.56118\n",
      "[253]\ttrain-mlogloss:0.46601\teval-mlogloss:0.56065\n",
      "[254]\ttrain-mlogloss:0.46527\teval-mlogloss:0.55951\n",
      "[255]\ttrain-mlogloss:0.46452\teval-mlogloss:0.55882\n",
      "[256]\ttrain-mlogloss:0.46379\teval-mlogloss:0.55822\n",
      "[257]\ttrain-mlogloss:0.46310\teval-mlogloss:0.55782\n",
      "[258]\ttrain-mlogloss:0.46236\teval-mlogloss:0.55730\n",
      "[259]\ttrain-mlogloss:0.46162\teval-mlogloss:0.55661\n",
      "[260]\ttrain-mlogloss:0.46093\teval-mlogloss:0.55589\n",
      "[261]\ttrain-mlogloss:0.46021\teval-mlogloss:0.55513\n",
      "[262]\ttrain-mlogloss:0.45943\teval-mlogloss:0.55435\n",
      "[263]\ttrain-mlogloss:0.45871\teval-mlogloss:0.55397\n",
      "[264]\ttrain-mlogloss:0.45798\teval-mlogloss:0.55345\n",
      "[265]\ttrain-mlogloss:0.45730\teval-mlogloss:0.55284\n",
      "[266]\ttrain-mlogloss:0.45655\teval-mlogloss:0.55194\n",
      "[267]\ttrain-mlogloss:0.45585\teval-mlogloss:0.55127\n",
      "[268]\ttrain-mlogloss:0.45519\teval-mlogloss:0.55057\n",
      "[269]\ttrain-mlogloss:0.45451\teval-mlogloss:0.54985\n",
      "[270]\ttrain-mlogloss:0.45383\teval-mlogloss:0.54909\n",
      "[271]\ttrain-mlogloss:0.45312\teval-mlogloss:0.54861\n",
      "[272]\ttrain-mlogloss:0.45241\teval-mlogloss:0.54834\n",
      "[273]\ttrain-mlogloss:0.45174\teval-mlogloss:0.54789\n",
      "[274]\ttrain-mlogloss:0.45107\teval-mlogloss:0.54700\n",
      "[275]\ttrain-mlogloss:0.45037\teval-mlogloss:0.54643\n",
      "[276]\ttrain-mlogloss:0.44971\teval-mlogloss:0.54602\n",
      "[277]\ttrain-mlogloss:0.44905\teval-mlogloss:0.54532\n",
      "[278]\ttrain-mlogloss:0.44839\teval-mlogloss:0.54483\n",
      "[279]\ttrain-mlogloss:0.44772\teval-mlogloss:0.54386\n",
      "[280]\ttrain-mlogloss:0.44706\teval-mlogloss:0.54331\n",
      "[281]\ttrain-mlogloss:0.44640\teval-mlogloss:0.54287\n",
      "[282]\ttrain-mlogloss:0.44577\teval-mlogloss:0.54259\n",
      "[283]\ttrain-mlogloss:0.44513\teval-mlogloss:0.54210\n",
      "[284]\ttrain-mlogloss:0.44450\teval-mlogloss:0.54143\n",
      "[285]\ttrain-mlogloss:0.44383\teval-mlogloss:0.54042\n",
      "[286]\ttrain-mlogloss:0.44318\teval-mlogloss:0.53976\n",
      "[287]\ttrain-mlogloss:0.44257\teval-mlogloss:0.53901\n",
      "[288]\ttrain-mlogloss:0.44192\teval-mlogloss:0.53868\n",
      "[289]\ttrain-mlogloss:0.44128\teval-mlogloss:0.53810\n",
      "[290]\ttrain-mlogloss:0.44063\teval-mlogloss:0.53756\n",
      "[291]\ttrain-mlogloss:0.43999\teval-mlogloss:0.53726\n",
      "[292]\ttrain-mlogloss:0.43928\teval-mlogloss:0.53686\n",
      "[293]\ttrain-mlogloss:0.43865\teval-mlogloss:0.53653\n",
      "[294]\ttrain-mlogloss:0.43799\teval-mlogloss:0.53619\n",
      "[295]\ttrain-mlogloss:0.43733\teval-mlogloss:0.53560\n",
      "[296]\ttrain-mlogloss:0.43663\teval-mlogloss:0.53514\n",
      "[297]\ttrain-mlogloss:0.43592\teval-mlogloss:0.53465\n",
      "[298]\ttrain-mlogloss:0.43525\teval-mlogloss:0.53415\n",
      "[299]\ttrain-mlogloss:0.43458\teval-mlogloss:0.53370\n",
      "[300]\ttrain-mlogloss:0.43395\teval-mlogloss:0.53313\n",
      "[301]\ttrain-mlogloss:0.43332\teval-mlogloss:0.53282\n",
      "[302]\ttrain-mlogloss:0.43266\teval-mlogloss:0.53241\n",
      "[303]\ttrain-mlogloss:0.43204\teval-mlogloss:0.53207\n",
      "[304]\ttrain-mlogloss:0.43143\teval-mlogloss:0.53141\n",
      "[305]\ttrain-mlogloss:0.43084\teval-mlogloss:0.53055\n",
      "[306]\ttrain-mlogloss:0.43025\teval-mlogloss:0.53021\n",
      "[307]\ttrain-mlogloss:0.42965\teval-mlogloss:0.52965\n",
      "[308]\ttrain-mlogloss:0.42903\teval-mlogloss:0.52890\n",
      "[309]\ttrain-mlogloss:0.42842\teval-mlogloss:0.52845\n",
      "[310]\ttrain-mlogloss:0.42780\teval-mlogloss:0.52797\n",
      "[311]\ttrain-mlogloss:0.42718\teval-mlogloss:0.52737\n",
      "[312]\ttrain-mlogloss:0.42659\teval-mlogloss:0.52678\n",
      "[313]\ttrain-mlogloss:0.42596\teval-mlogloss:0.52635\n",
      "[314]\ttrain-mlogloss:0.42537\teval-mlogloss:0.52590\n",
      "[315]\ttrain-mlogloss:0.42479\teval-mlogloss:0.52562\n",
      "[316]\ttrain-mlogloss:0.42419\teval-mlogloss:0.52501\n",
      "[317]\ttrain-mlogloss:0.42360\teval-mlogloss:0.52463\n",
      "[318]\ttrain-mlogloss:0.42304\teval-mlogloss:0.52434\n",
      "[319]\ttrain-mlogloss:0.42246\teval-mlogloss:0.52362\n",
      "[320]\ttrain-mlogloss:0.42189\teval-mlogloss:0.52338\n",
      "[321]\ttrain-mlogloss:0.42132\teval-mlogloss:0.52313\n",
      "[322]\ttrain-mlogloss:0.42077\teval-mlogloss:0.52272\n",
      "[323]\ttrain-mlogloss:0.42018\teval-mlogloss:0.52202\n"
     ]
    },
    {
     "name": "stdout",
     "output_type": "stream",
     "text": [
      "[324]\ttrain-mlogloss:0.41961\teval-mlogloss:0.52119\n",
      "[325]\ttrain-mlogloss:0.41906\teval-mlogloss:0.52077\n",
      "[326]\ttrain-mlogloss:0.41846\teval-mlogloss:0.52040\n",
      "[327]\ttrain-mlogloss:0.41789\teval-mlogloss:0.52021\n",
      "[328]\ttrain-mlogloss:0.41733\teval-mlogloss:0.52000\n",
      "[329]\ttrain-mlogloss:0.41678\teval-mlogloss:0.51963\n",
      "[330]\ttrain-mlogloss:0.41623\teval-mlogloss:0.51936\n",
      "[331]\ttrain-mlogloss:0.41566\teval-mlogloss:0.51889\n",
      "[332]\ttrain-mlogloss:0.41510\teval-mlogloss:0.51824\n",
      "[333]\ttrain-mlogloss:0.41457\teval-mlogloss:0.51767\n",
      "[334]\ttrain-mlogloss:0.41401\teval-mlogloss:0.51734\n",
      "[335]\ttrain-mlogloss:0.41347\teval-mlogloss:0.51702\n",
      "[336]\ttrain-mlogloss:0.41288\teval-mlogloss:0.51630\n",
      "[337]\ttrain-mlogloss:0.41236\teval-mlogloss:0.51584\n",
      "[338]\ttrain-mlogloss:0.41179\teval-mlogloss:0.51549\n",
      "[339]\ttrain-mlogloss:0.41125\teval-mlogloss:0.51510\n",
      "[340]\ttrain-mlogloss:0.41069\teval-mlogloss:0.51477\n",
      "[341]\ttrain-mlogloss:0.41012\teval-mlogloss:0.51446\n",
      "[342]\ttrain-mlogloss:0.40959\teval-mlogloss:0.51399\n",
      "[343]\ttrain-mlogloss:0.40906\teval-mlogloss:0.51361\n",
      "[344]\ttrain-mlogloss:0.40849\teval-mlogloss:0.51319\n",
      "[345]\ttrain-mlogloss:0.40793\teval-mlogloss:0.51275\n",
      "[346]\ttrain-mlogloss:0.40740\teval-mlogloss:0.51231\n",
      "[347]\ttrain-mlogloss:0.40688\teval-mlogloss:0.51211\n",
      "[348]\ttrain-mlogloss:0.40634\teval-mlogloss:0.51194\n",
      "[349]\ttrain-mlogloss:0.40577\teval-mlogloss:0.51138\n",
      "[350]\ttrain-mlogloss:0.40524\teval-mlogloss:0.51117\n",
      "[351]\ttrain-mlogloss:0.40472\teval-mlogloss:0.51104\n",
      "[352]\ttrain-mlogloss:0.40420\teval-mlogloss:0.51068\n",
      "[353]\ttrain-mlogloss:0.40369\teval-mlogloss:0.51024\n",
      "[354]\ttrain-mlogloss:0.40319\teval-mlogloss:0.50991\n",
      "[355]\ttrain-mlogloss:0.40268\teval-mlogloss:0.50948\n",
      "[356]\ttrain-mlogloss:0.40217\teval-mlogloss:0.50903\n",
      "[357]\ttrain-mlogloss:0.40162\teval-mlogloss:0.50857\n",
      "[358]\ttrain-mlogloss:0.40106\teval-mlogloss:0.50831\n",
      "[359]\ttrain-mlogloss:0.40056\teval-mlogloss:0.50788\n",
      "[360]\ttrain-mlogloss:0.40006\teval-mlogloss:0.50732\n",
      "[361]\ttrain-mlogloss:0.39957\teval-mlogloss:0.50680\n",
      "[362]\ttrain-mlogloss:0.39904\teval-mlogloss:0.50658\n",
      "[363]\ttrain-mlogloss:0.39851\teval-mlogloss:0.50609\n",
      "[364]\ttrain-mlogloss:0.39801\teval-mlogloss:0.50563\n",
      "[365]\ttrain-mlogloss:0.39754\teval-mlogloss:0.50528\n",
      "[366]\ttrain-mlogloss:0.39703\teval-mlogloss:0.50488\n",
      "[367]\ttrain-mlogloss:0.39651\teval-mlogloss:0.50438\n",
      "[368]\ttrain-mlogloss:0.39598\teval-mlogloss:0.50386\n",
      "[369]\ttrain-mlogloss:0.39551\teval-mlogloss:0.50350\n",
      "[370]\ttrain-mlogloss:0.39501\teval-mlogloss:0.50325\n",
      "[371]\ttrain-mlogloss:0.39452\teval-mlogloss:0.50299\n",
      "[372]\ttrain-mlogloss:0.39400\teval-mlogloss:0.50258\n",
      "[373]\ttrain-mlogloss:0.39348\teval-mlogloss:0.50213\n",
      "[374]\ttrain-mlogloss:0.39301\teval-mlogloss:0.50188\n",
      "[375]\ttrain-mlogloss:0.39251\teval-mlogloss:0.50145\n",
      "[376]\ttrain-mlogloss:0.39201\teval-mlogloss:0.50121\n",
      "[377]\ttrain-mlogloss:0.39151\teval-mlogloss:0.50079\n",
      "[378]\ttrain-mlogloss:0.39102\teval-mlogloss:0.50039\n",
      "[379]\ttrain-mlogloss:0.39055\teval-mlogloss:0.50003\n",
      "[380]\ttrain-mlogloss:0.39009\teval-mlogloss:0.49969\n",
      "[381]\ttrain-mlogloss:0.38958\teval-mlogloss:0.49925\n",
      "[382]\ttrain-mlogloss:0.38911\teval-mlogloss:0.49872\n",
      "[383]\ttrain-mlogloss:0.38865\teval-mlogloss:0.49827\n",
      "[384]\ttrain-mlogloss:0.38819\teval-mlogloss:0.49799\n",
      "[385]\ttrain-mlogloss:0.38767\teval-mlogloss:0.49744\n",
      "[386]\ttrain-mlogloss:0.38719\teval-mlogloss:0.49705\n",
      "[387]\ttrain-mlogloss:0.38672\teval-mlogloss:0.49674\n",
      "[388]\ttrain-mlogloss:0.38626\teval-mlogloss:0.49643\n",
      "[389]\ttrain-mlogloss:0.38581\teval-mlogloss:0.49603\n",
      "[390]\ttrain-mlogloss:0.38535\teval-mlogloss:0.49574\n",
      "[391]\ttrain-mlogloss:0.38491\teval-mlogloss:0.49540\n",
      "[392]\ttrain-mlogloss:0.38444\teval-mlogloss:0.49520\n",
      "[393]\ttrain-mlogloss:0.38398\teval-mlogloss:0.49483\n",
      "[394]\ttrain-mlogloss:0.38351\teval-mlogloss:0.49443\n",
      "[395]\ttrain-mlogloss:0.38307\teval-mlogloss:0.49405\n",
      "[396]\ttrain-mlogloss:0.38263\teval-mlogloss:0.49352\n",
      "[397]\ttrain-mlogloss:0.38219\teval-mlogloss:0.49303\n",
      "[398]\ttrain-mlogloss:0.38175\teval-mlogloss:0.49230\n",
      "[399]\ttrain-mlogloss:0.38131\teval-mlogloss:0.49198\n",
      "[400]\ttrain-mlogloss:0.38088\teval-mlogloss:0.49175\n",
      "[401]\ttrain-mlogloss:0.38044\teval-mlogloss:0.49134\n",
      "[402]\ttrain-mlogloss:0.38000\teval-mlogloss:0.49101\n",
      "[403]\ttrain-mlogloss:0.37957\teval-mlogloss:0.49066\n",
      "[404]\ttrain-mlogloss:0.37911\teval-mlogloss:0.49027\n",
      "[405]\ttrain-mlogloss:0.37866\teval-mlogloss:0.49005\n",
      "[406]\ttrain-mlogloss:0.37819\teval-mlogloss:0.48968\n",
      "[407]\ttrain-mlogloss:0.37777\teval-mlogloss:0.48941\n",
      "[408]\ttrain-mlogloss:0.37733\teval-mlogloss:0.48907\n",
      "[409]\ttrain-mlogloss:0.37690\teval-mlogloss:0.48887\n",
      "[410]\ttrain-mlogloss:0.37646\teval-mlogloss:0.48858\n",
      "[411]\ttrain-mlogloss:0.37602\teval-mlogloss:0.48817\n",
      "[412]\ttrain-mlogloss:0.37559\teval-mlogloss:0.48766\n",
      "[413]\ttrain-mlogloss:0.37513\teval-mlogloss:0.48711\n",
      "[414]\ttrain-mlogloss:0.37468\teval-mlogloss:0.48687\n",
      "[415]\ttrain-mlogloss:0.37423\teval-mlogloss:0.48648\n",
      "[416]\ttrain-mlogloss:0.37380\teval-mlogloss:0.48619\n",
      "[417]\ttrain-mlogloss:0.37340\teval-mlogloss:0.48595\n",
      "[418]\ttrain-mlogloss:0.37300\teval-mlogloss:0.48563\n",
      "[419]\ttrain-mlogloss:0.37255\teval-mlogloss:0.48548\n",
      "[420]\ttrain-mlogloss:0.37210\teval-mlogloss:0.48498\n",
      "[421]\ttrain-mlogloss:0.37169\teval-mlogloss:0.48475\n",
      "[422]\ttrain-mlogloss:0.37128\teval-mlogloss:0.48455\n",
      "[423]\ttrain-mlogloss:0.37085\teval-mlogloss:0.48441\n",
      "[424]\ttrain-mlogloss:0.37043\teval-mlogloss:0.48386\n",
      "[425]\ttrain-mlogloss:0.36998\teval-mlogloss:0.48365\n",
      "[426]\ttrain-mlogloss:0.36957\teval-mlogloss:0.48347\n",
      "[427]\ttrain-mlogloss:0.36916\teval-mlogloss:0.48321\n",
      "[428]\ttrain-mlogloss:0.36875\teval-mlogloss:0.48292\n",
      "[429]\ttrain-mlogloss:0.36833\teval-mlogloss:0.48250\n",
      "[430]\ttrain-mlogloss:0.36792\teval-mlogloss:0.48232\n",
      "[431]\ttrain-mlogloss:0.36748\teval-mlogloss:0.48214\n",
      "[432]\ttrain-mlogloss:0.36704\teval-mlogloss:0.48175\n",
      "[433]\ttrain-mlogloss:0.36663\teval-mlogloss:0.48121\n",
      "[434]\ttrain-mlogloss:0.36622\teval-mlogloss:0.48063\n",
      "[435]\ttrain-mlogloss:0.36579\teval-mlogloss:0.48005\n",
      "[436]\ttrain-mlogloss:0.36536\teval-mlogloss:0.47979\n",
      "[437]\ttrain-mlogloss:0.36496\teval-mlogloss:0.47943\n",
      "[438]\ttrain-mlogloss:0.36452\teval-mlogloss:0.47920\n",
      "[439]\ttrain-mlogloss:0.36411\teval-mlogloss:0.47874\n",
      "[440]\ttrain-mlogloss:0.36370\teval-mlogloss:0.47853\n",
      "[441]\ttrain-mlogloss:0.36330\teval-mlogloss:0.47809\n",
      "[442]\ttrain-mlogloss:0.36289\teval-mlogloss:0.47785\n",
      "[443]\ttrain-mlogloss:0.36248\teval-mlogloss:0.47746\n",
      "[444]\ttrain-mlogloss:0.36207\teval-mlogloss:0.47704\n",
      "[445]\ttrain-mlogloss:0.36167\teval-mlogloss:0.47663\n",
      "[446]\ttrain-mlogloss:0.36125\teval-mlogloss:0.47638\n",
      "[447]\ttrain-mlogloss:0.36084\teval-mlogloss:0.47622\n",
      "[448]\ttrain-mlogloss:0.36044\teval-mlogloss:0.47619\n",
      "[449]\ttrain-mlogloss:0.36000\teval-mlogloss:0.47589\n",
      "[450]\ttrain-mlogloss:0.35956\teval-mlogloss:0.47544\n",
      "[451]\ttrain-mlogloss:0.35913\teval-mlogloss:0.47516\n",
      "[452]\ttrain-mlogloss:0.35869\teval-mlogloss:0.47473\n",
      "[453]\ttrain-mlogloss:0.35825\teval-mlogloss:0.47423\n",
      "[454]\ttrain-mlogloss:0.35781\teval-mlogloss:0.47392\n",
      "[455]\ttrain-mlogloss:0.35740\teval-mlogloss:0.47361\n",
      "[456]\ttrain-mlogloss:0.35698\teval-mlogloss:0.47307\n",
      "[457]\ttrain-mlogloss:0.35658\teval-mlogloss:0.47282\n",
      "[458]\ttrain-mlogloss:0.35618\teval-mlogloss:0.47241\n",
      "[459]\ttrain-mlogloss:0.35575\teval-mlogloss:0.47226\n",
      "[460]\ttrain-mlogloss:0.35533\teval-mlogloss:0.47197\n",
      "[461]\ttrain-mlogloss:0.35494\teval-mlogloss:0.47175\n",
      "[462]\ttrain-mlogloss:0.35456\teval-mlogloss:0.47146\n",
      "[463]\ttrain-mlogloss:0.35415\teval-mlogloss:0.47130\n",
      "[464]\ttrain-mlogloss:0.35378\teval-mlogloss:0.47095\n",
      "[465]\ttrain-mlogloss:0.35336\teval-mlogloss:0.47068\n",
      "[466]\ttrain-mlogloss:0.35295\teval-mlogloss:0.47026\n",
      "[467]\ttrain-mlogloss:0.35256\teval-mlogloss:0.47010\n",
      "[468]\ttrain-mlogloss:0.35218\teval-mlogloss:0.46959\n",
      "[469]\ttrain-mlogloss:0.35180\teval-mlogloss:0.46924\n",
      "[470]\ttrain-mlogloss:0.35143\teval-mlogloss:0.46891\n",
      "[471]\ttrain-mlogloss:0.35106\teval-mlogloss:0.46859\n",
      "[472]\ttrain-mlogloss:0.35066\teval-mlogloss:0.46824\n",
      "[473]\ttrain-mlogloss:0.35028\teval-mlogloss:0.46804\n",
      "[474]\ttrain-mlogloss:0.34991\teval-mlogloss:0.46779\n",
      "[475]\ttrain-mlogloss:0.34955\teval-mlogloss:0.46760\n",
      "[476]\ttrain-mlogloss:0.34919\teval-mlogloss:0.46735\n",
      "[477]\ttrain-mlogloss:0.34882\teval-mlogloss:0.46705\n",
      "[478]\ttrain-mlogloss:0.34845\teval-mlogloss:0.46679\n",
      "[479]\ttrain-mlogloss:0.34808\teval-mlogloss:0.46641\n",
      "[480]\ttrain-mlogloss:0.34772\teval-mlogloss:0.46621\n",
      "[481]\ttrain-mlogloss:0.34733\teval-mlogloss:0.46565\n",
      "[482]\ttrain-mlogloss:0.34696\teval-mlogloss:0.46532\n",
      "[483]\ttrain-mlogloss:0.34657\teval-mlogloss:0.46511\n",
      "[484]\ttrain-mlogloss:0.34619\teval-mlogloss:0.46479\n"
     ]
    },
    {
     "name": "stdout",
     "output_type": "stream",
     "text": [
      "[485]\ttrain-mlogloss:0.34582\teval-mlogloss:0.46472\n",
      "[486]\ttrain-mlogloss:0.34547\teval-mlogloss:0.46446\n",
      "[487]\ttrain-mlogloss:0.34511\teval-mlogloss:0.46404\n",
      "[488]\ttrain-mlogloss:0.34476\teval-mlogloss:0.46377\n",
      "[489]\ttrain-mlogloss:0.34439\teval-mlogloss:0.46370\n",
      "[490]\ttrain-mlogloss:0.34403\teval-mlogloss:0.46346\n",
      "[491]\ttrain-mlogloss:0.34367\teval-mlogloss:0.46324\n",
      "[492]\ttrain-mlogloss:0.34333\teval-mlogloss:0.46294\n",
      "[493]\ttrain-mlogloss:0.34297\teval-mlogloss:0.46275\n",
      "[494]\ttrain-mlogloss:0.34260\teval-mlogloss:0.46254\n",
      "[495]\ttrain-mlogloss:0.34222\teval-mlogloss:0.46223\n",
      "[496]\ttrain-mlogloss:0.34185\teval-mlogloss:0.46191\n",
      "[497]\ttrain-mlogloss:0.34151\teval-mlogloss:0.46160\n",
      "[498]\ttrain-mlogloss:0.34116\teval-mlogloss:0.46133\n",
      "[499]\ttrain-mlogloss:0.34082\teval-mlogloss:0.46111\n",
      "[500]\ttrain-mlogloss:0.34046\teval-mlogloss:0.46097\n",
      "[501]\ttrain-mlogloss:0.34008\teval-mlogloss:0.46070\n",
      "[502]\ttrain-mlogloss:0.33974\teval-mlogloss:0.46059\n",
      "[503]\ttrain-mlogloss:0.33941\teval-mlogloss:0.46026\n",
      "[504]\ttrain-mlogloss:0.33905\teval-mlogloss:0.45995\n",
      "[505]\ttrain-mlogloss:0.33871\teval-mlogloss:0.45971\n",
      "[506]\ttrain-mlogloss:0.33837\teval-mlogloss:0.45953\n",
      "[507]\ttrain-mlogloss:0.33804\teval-mlogloss:0.45954\n",
      "[508]\ttrain-mlogloss:0.33766\teval-mlogloss:0.45915\n",
      "[509]\ttrain-mlogloss:0.33731\teval-mlogloss:0.45909\n",
      "[510]\ttrain-mlogloss:0.33696\teval-mlogloss:0.45888\n",
      "[511]\ttrain-mlogloss:0.33662\teval-mlogloss:0.45869\n",
      "[512]\ttrain-mlogloss:0.33626\teval-mlogloss:0.45849\n",
      "[513]\ttrain-mlogloss:0.33593\teval-mlogloss:0.45821\n",
      "[514]\ttrain-mlogloss:0.33559\teval-mlogloss:0.45792\n",
      "[515]\ttrain-mlogloss:0.33526\teval-mlogloss:0.45786\n",
      "[516]\ttrain-mlogloss:0.33494\teval-mlogloss:0.45767\n",
      "[517]\ttrain-mlogloss:0.33456\teval-mlogloss:0.45733\n",
      "[518]\ttrain-mlogloss:0.33422\teval-mlogloss:0.45720\n",
      "[519]\ttrain-mlogloss:0.33388\teval-mlogloss:0.45706\n",
      "[520]\ttrain-mlogloss:0.33351\teval-mlogloss:0.45676\n",
      "[521]\ttrain-mlogloss:0.33317\teval-mlogloss:0.45671\n",
      "[522]\ttrain-mlogloss:0.33284\teval-mlogloss:0.45620\n",
      "[523]\ttrain-mlogloss:0.33250\teval-mlogloss:0.45612\n",
      "[524]\ttrain-mlogloss:0.33219\teval-mlogloss:0.45596\n",
      "[525]\ttrain-mlogloss:0.33185\teval-mlogloss:0.45580\n",
      "[526]\ttrain-mlogloss:0.33149\teval-mlogloss:0.45548\n",
      "[527]\ttrain-mlogloss:0.33115\teval-mlogloss:0.45519\n",
      "[528]\ttrain-mlogloss:0.33082\teval-mlogloss:0.45484\n",
      "[529]\ttrain-mlogloss:0.33050\teval-mlogloss:0.45444\n",
      "[530]\ttrain-mlogloss:0.33018\teval-mlogloss:0.45387\n",
      "[531]\ttrain-mlogloss:0.32988\teval-mlogloss:0.45377\n",
      "[532]\ttrain-mlogloss:0.32953\teval-mlogloss:0.45345\n",
      "[533]\ttrain-mlogloss:0.32920\teval-mlogloss:0.45323\n",
      "[534]\ttrain-mlogloss:0.32888\teval-mlogloss:0.45304\n",
      "[535]\ttrain-mlogloss:0.32852\teval-mlogloss:0.45281\n",
      "[536]\ttrain-mlogloss:0.32820\teval-mlogloss:0.45259\n",
      "[537]\ttrain-mlogloss:0.32787\teval-mlogloss:0.45225\n",
      "[538]\ttrain-mlogloss:0.32756\teval-mlogloss:0.45190\n",
      "[539]\ttrain-mlogloss:0.32723\teval-mlogloss:0.45172\n",
      "[540]\ttrain-mlogloss:0.32692\teval-mlogloss:0.45153\n",
      "[541]\ttrain-mlogloss:0.32662\teval-mlogloss:0.45127\n",
      "[542]\ttrain-mlogloss:0.32630\teval-mlogloss:0.45097\n",
      "[543]\ttrain-mlogloss:0.32598\teval-mlogloss:0.45071\n",
      "[544]\ttrain-mlogloss:0.32565\teval-mlogloss:0.45048\n",
      "[545]\ttrain-mlogloss:0.32536\teval-mlogloss:0.45013\n",
      "[546]\ttrain-mlogloss:0.32503\teval-mlogloss:0.44986\n",
      "[547]\ttrain-mlogloss:0.32473\teval-mlogloss:0.44964\n",
      "[548]\ttrain-mlogloss:0.32441\teval-mlogloss:0.44937\n",
      "[549]\ttrain-mlogloss:0.32410\teval-mlogloss:0.44927\n",
      "[550]\ttrain-mlogloss:0.32379\teval-mlogloss:0.44908\n",
      "[551]\ttrain-mlogloss:0.32348\teval-mlogloss:0.44884\n",
      "[552]\ttrain-mlogloss:0.32318\teval-mlogloss:0.44858\n",
      "[553]\ttrain-mlogloss:0.32288\teval-mlogloss:0.44821\n",
      "[554]\ttrain-mlogloss:0.32258\teval-mlogloss:0.44808\n",
      "[555]\ttrain-mlogloss:0.32228\teval-mlogloss:0.44773\n",
      "[556]\ttrain-mlogloss:0.32199\teval-mlogloss:0.44754\n",
      "[557]\ttrain-mlogloss:0.32168\teval-mlogloss:0.44718\n",
      "[558]\ttrain-mlogloss:0.32138\teval-mlogloss:0.44710\n",
      "[559]\ttrain-mlogloss:0.32108\teval-mlogloss:0.44705\n",
      "[560]\ttrain-mlogloss:0.32076\teval-mlogloss:0.44683\n",
      "[561]\ttrain-mlogloss:0.32045\teval-mlogloss:0.44656\n",
      "[562]\ttrain-mlogloss:0.32014\teval-mlogloss:0.44638\n",
      "[563]\ttrain-mlogloss:0.31981\teval-mlogloss:0.44634\n",
      "[564]\ttrain-mlogloss:0.31950\teval-mlogloss:0.44596\n",
      "[565]\ttrain-mlogloss:0.31920\teval-mlogloss:0.44565\n",
      "[566]\ttrain-mlogloss:0.31890\teval-mlogloss:0.44533\n",
      "[567]\ttrain-mlogloss:0.31859\teval-mlogloss:0.44505\n",
      "[568]\ttrain-mlogloss:0.31829\teval-mlogloss:0.44491\n",
      "[569]\ttrain-mlogloss:0.31799\teval-mlogloss:0.44489\n",
      "[570]\ttrain-mlogloss:0.31767\teval-mlogloss:0.44486\n",
      "[571]\ttrain-mlogloss:0.31736\teval-mlogloss:0.44465\n",
      "[572]\ttrain-mlogloss:0.31706\teval-mlogloss:0.44441\n",
      "[573]\ttrain-mlogloss:0.31677\teval-mlogloss:0.44422\n",
      "[574]\ttrain-mlogloss:0.31648\teval-mlogloss:0.44391\n",
      "[575]\ttrain-mlogloss:0.31619\teval-mlogloss:0.44371\n",
      "[576]\ttrain-mlogloss:0.31589\teval-mlogloss:0.44353\n",
      "[577]\ttrain-mlogloss:0.31558\teval-mlogloss:0.44328\n",
      "[578]\ttrain-mlogloss:0.31527\teval-mlogloss:0.44291\n",
      "[579]\ttrain-mlogloss:0.31496\teval-mlogloss:0.44293\n",
      "[580]\ttrain-mlogloss:0.31464\teval-mlogloss:0.44276\n",
      "[581]\ttrain-mlogloss:0.31434\teval-mlogloss:0.44259\n",
      "[582]\ttrain-mlogloss:0.31404\teval-mlogloss:0.44244\n",
      "[583]\ttrain-mlogloss:0.31375\teval-mlogloss:0.44220\n",
      "[584]\ttrain-mlogloss:0.31343\teval-mlogloss:0.44188\n",
      "[585]\ttrain-mlogloss:0.31314\teval-mlogloss:0.44173\n",
      "[586]\ttrain-mlogloss:0.31283\teval-mlogloss:0.44152\n",
      "[587]\ttrain-mlogloss:0.31252\teval-mlogloss:0.44127\n",
      "[588]\ttrain-mlogloss:0.31220\teval-mlogloss:0.44101\n",
      "[589]\ttrain-mlogloss:0.31189\teval-mlogloss:0.44072\n",
      "[590]\ttrain-mlogloss:0.31160\teval-mlogloss:0.44070\n",
      "[591]\ttrain-mlogloss:0.31130\teval-mlogloss:0.44049\n",
      "[592]\ttrain-mlogloss:0.31096\teval-mlogloss:0.44034\n",
      "[593]\ttrain-mlogloss:0.31063\teval-mlogloss:0.44006\n",
      "[594]\ttrain-mlogloss:0.31034\teval-mlogloss:0.43977\n",
      "[595]\ttrain-mlogloss:0.31004\teval-mlogloss:0.43956\n",
      "[596]\ttrain-mlogloss:0.30972\teval-mlogloss:0.43939\n",
      "[597]\ttrain-mlogloss:0.30941\teval-mlogloss:0.43918\n",
      "[598]\ttrain-mlogloss:0.30909\teval-mlogloss:0.43906\n",
      "[599]\ttrain-mlogloss:0.30879\teval-mlogloss:0.43878\n",
      "[600]\ttrain-mlogloss:0.30848\teval-mlogloss:0.43870\n",
      "[601]\ttrain-mlogloss:0.30818\teval-mlogloss:0.43859\n",
      "[602]\ttrain-mlogloss:0.30789\teval-mlogloss:0.43841\n",
      "[603]\ttrain-mlogloss:0.30759\teval-mlogloss:0.43825\n",
      "[604]\ttrain-mlogloss:0.30729\teval-mlogloss:0.43800\n",
      "[605]\ttrain-mlogloss:0.30700\teval-mlogloss:0.43785\n",
      "[606]\ttrain-mlogloss:0.30671\teval-mlogloss:0.43776\n",
      "[607]\ttrain-mlogloss:0.30642\teval-mlogloss:0.43753\n",
      "[608]\ttrain-mlogloss:0.30611\teval-mlogloss:0.43740\n",
      "[609]\ttrain-mlogloss:0.30580\teval-mlogloss:0.43721\n",
      "[610]\ttrain-mlogloss:0.30552\teval-mlogloss:0.43702\n",
      "[611]\ttrain-mlogloss:0.30523\teval-mlogloss:0.43665\n",
      "[612]\ttrain-mlogloss:0.30496\teval-mlogloss:0.43629\n",
      "[613]\ttrain-mlogloss:0.30469\teval-mlogloss:0.43611\n",
      "[614]\ttrain-mlogloss:0.30439\teval-mlogloss:0.43602\n",
      "[615]\ttrain-mlogloss:0.30411\teval-mlogloss:0.43584\n",
      "[616]\ttrain-mlogloss:0.30384\teval-mlogloss:0.43550\n",
      "[617]\ttrain-mlogloss:0.30353\teval-mlogloss:0.43535\n",
      "[618]\ttrain-mlogloss:0.30325\teval-mlogloss:0.43512\n",
      "[619]\ttrain-mlogloss:0.30299\teval-mlogloss:0.43486\n",
      "[620]\ttrain-mlogloss:0.30271\teval-mlogloss:0.43467\n",
      "[621]\ttrain-mlogloss:0.30242\teval-mlogloss:0.43447\n",
      "[622]\ttrain-mlogloss:0.30215\teval-mlogloss:0.43430\n",
      "[623]\ttrain-mlogloss:0.30189\teval-mlogloss:0.43414\n",
      "[624]\ttrain-mlogloss:0.30161\teval-mlogloss:0.43402\n",
      "[625]\ttrain-mlogloss:0.30134\teval-mlogloss:0.43401\n",
      "[626]\ttrain-mlogloss:0.30100\teval-mlogloss:0.43387\n",
      "[627]\ttrain-mlogloss:0.30072\teval-mlogloss:0.43372\n",
      "[628]\ttrain-mlogloss:0.30045\teval-mlogloss:0.43360\n",
      "[629]\ttrain-mlogloss:0.30017\teval-mlogloss:0.43338\n",
      "[630]\ttrain-mlogloss:0.29989\teval-mlogloss:0.43321\n",
      "[631]\ttrain-mlogloss:0.29960\teval-mlogloss:0.43295\n",
      "[632]\ttrain-mlogloss:0.29933\teval-mlogloss:0.43287\n",
      "[633]\ttrain-mlogloss:0.29907\teval-mlogloss:0.43260\n",
      "[634]\ttrain-mlogloss:0.29880\teval-mlogloss:0.43239\n",
      "[635]\ttrain-mlogloss:0.29854\teval-mlogloss:0.43220\n",
      "[636]\ttrain-mlogloss:0.29827\teval-mlogloss:0.43208\n",
      "[637]\ttrain-mlogloss:0.29802\teval-mlogloss:0.43192\n",
      "[638]\ttrain-mlogloss:0.29775\teval-mlogloss:0.43160\n",
      "[639]\ttrain-mlogloss:0.29748\teval-mlogloss:0.43136\n",
      "[640]\ttrain-mlogloss:0.29723\teval-mlogloss:0.43131\n",
      "[641]\ttrain-mlogloss:0.29696\teval-mlogloss:0.43122\n",
      "[642]\ttrain-mlogloss:0.29669\teval-mlogloss:0.43113\n",
      "[643]\ttrain-mlogloss:0.29642\teval-mlogloss:0.43103\n",
      "[644]\ttrain-mlogloss:0.29616\teval-mlogloss:0.43079\n",
      "[645]\ttrain-mlogloss:0.29590\teval-mlogloss:0.43064\n"
     ]
    },
    {
     "name": "stdout",
     "output_type": "stream",
     "text": [
      "[646]\ttrain-mlogloss:0.29564\teval-mlogloss:0.43040\n",
      "[647]\ttrain-mlogloss:0.29538\teval-mlogloss:0.43019\n",
      "[648]\ttrain-mlogloss:0.29512\teval-mlogloss:0.43005\n",
      "[649]\ttrain-mlogloss:0.29487\teval-mlogloss:0.42996\n",
      "[650]\ttrain-mlogloss:0.29462\teval-mlogloss:0.42977\n",
      "[651]\ttrain-mlogloss:0.29436\teval-mlogloss:0.42966\n",
      "[652]\ttrain-mlogloss:0.29410\teval-mlogloss:0.42926\n",
      "[653]\ttrain-mlogloss:0.29379\teval-mlogloss:0.42918\n",
      "[654]\ttrain-mlogloss:0.29354\teval-mlogloss:0.42904\n",
      "[655]\ttrain-mlogloss:0.29329\teval-mlogloss:0.42890\n",
      "[656]\ttrain-mlogloss:0.29303\teval-mlogloss:0.42866\n",
      "[657]\ttrain-mlogloss:0.29274\teval-mlogloss:0.42850\n",
      "[658]\ttrain-mlogloss:0.29250\teval-mlogloss:0.42831\n",
      "[659]\ttrain-mlogloss:0.29224\teval-mlogloss:0.42810\n",
      "[660]\ttrain-mlogloss:0.29198\teval-mlogloss:0.42812\n",
      "[661]\ttrain-mlogloss:0.29173\teval-mlogloss:0.42790\n",
      "[662]\ttrain-mlogloss:0.29148\teval-mlogloss:0.42748\n",
      "[663]\ttrain-mlogloss:0.29123\teval-mlogloss:0.42736\n",
      "[664]\ttrain-mlogloss:0.29098\teval-mlogloss:0.42726\n",
      "[665]\ttrain-mlogloss:0.29072\teval-mlogloss:0.42686\n",
      "[666]\ttrain-mlogloss:0.29045\teval-mlogloss:0.42669\n",
      "[667]\ttrain-mlogloss:0.29018\teval-mlogloss:0.42641\n",
      "[668]\ttrain-mlogloss:0.28993\teval-mlogloss:0.42624\n",
      "[669]\ttrain-mlogloss:0.28968\teval-mlogloss:0.42606\n",
      "[670]\ttrain-mlogloss:0.28941\teval-mlogloss:0.42601\n",
      "[671]\ttrain-mlogloss:0.28913\teval-mlogloss:0.42583\n",
      "[672]\ttrain-mlogloss:0.28887\teval-mlogloss:0.42572\n",
      "[673]\ttrain-mlogloss:0.28863\teval-mlogloss:0.42556\n",
      "[674]\ttrain-mlogloss:0.28838\teval-mlogloss:0.42555\n",
      "[675]\ttrain-mlogloss:0.28813\teval-mlogloss:0.42540\n",
      "[676]\ttrain-mlogloss:0.28788\teval-mlogloss:0.42529\n",
      "[677]\ttrain-mlogloss:0.28762\teval-mlogloss:0.42507\n",
      "[678]\ttrain-mlogloss:0.28737\teval-mlogloss:0.42497\n",
      "[679]\ttrain-mlogloss:0.28712\teval-mlogloss:0.42472\n",
      "[680]\ttrain-mlogloss:0.28686\teval-mlogloss:0.42453\n",
      "[681]\ttrain-mlogloss:0.28662\teval-mlogloss:0.42426\n",
      "[682]\ttrain-mlogloss:0.28636\teval-mlogloss:0.42398\n",
      "[683]\ttrain-mlogloss:0.28610\teval-mlogloss:0.42373\n",
      "[684]\ttrain-mlogloss:0.28586\teval-mlogloss:0.42354\n",
      "[685]\ttrain-mlogloss:0.28560\teval-mlogloss:0.42333\n",
      "[686]\ttrain-mlogloss:0.28536\teval-mlogloss:0.42307\n",
      "[687]\ttrain-mlogloss:0.28511\teval-mlogloss:0.42286\n",
      "[688]\ttrain-mlogloss:0.28489\teval-mlogloss:0.42269\n",
      "[689]\ttrain-mlogloss:0.28466\teval-mlogloss:0.42273\n",
      "[690]\ttrain-mlogloss:0.28442\teval-mlogloss:0.42247\n",
      "[691]\ttrain-mlogloss:0.28419\teval-mlogloss:0.42237\n",
      "[692]\ttrain-mlogloss:0.28396\teval-mlogloss:0.42216\n",
      "[693]\ttrain-mlogloss:0.28370\teval-mlogloss:0.42205\n",
      "[694]\ttrain-mlogloss:0.28346\teval-mlogloss:0.42191\n",
      "[695]\ttrain-mlogloss:0.28323\teval-mlogloss:0.42161\n",
      "[696]\ttrain-mlogloss:0.28300\teval-mlogloss:0.42149\n",
      "[697]\ttrain-mlogloss:0.28276\teval-mlogloss:0.42145\n",
      "[698]\ttrain-mlogloss:0.28250\teval-mlogloss:0.42114\n",
      "[699]\ttrain-mlogloss:0.28225\teval-mlogloss:0.42102\n",
      "[700]\ttrain-mlogloss:0.28202\teval-mlogloss:0.42083\n",
      "[701]\ttrain-mlogloss:0.28177\teval-mlogloss:0.42086\n",
      "[702]\ttrain-mlogloss:0.28152\teval-mlogloss:0.42071\n",
      "[703]\ttrain-mlogloss:0.28130\teval-mlogloss:0.42055\n",
      "[704]\ttrain-mlogloss:0.28108\teval-mlogloss:0.42035\n",
      "[705]\ttrain-mlogloss:0.28085\teval-mlogloss:0.42030\n",
      "[706]\ttrain-mlogloss:0.28061\teval-mlogloss:0.42035\n",
      "[707]\ttrain-mlogloss:0.28037\teval-mlogloss:0.42029\n",
      "[708]\ttrain-mlogloss:0.28015\teval-mlogloss:0.42004\n",
      "[709]\ttrain-mlogloss:0.27993\teval-mlogloss:0.42004\n",
      "[710]\ttrain-mlogloss:0.27971\teval-mlogloss:0.41992\n",
      "[711]\ttrain-mlogloss:0.27945\teval-mlogloss:0.41989\n",
      "[712]\ttrain-mlogloss:0.27922\teval-mlogloss:0.41996\n",
      "[713]\ttrain-mlogloss:0.27898\teval-mlogloss:0.41969\n",
      "[714]\ttrain-mlogloss:0.27875\teval-mlogloss:0.41961\n",
      "[715]\ttrain-mlogloss:0.27851\teval-mlogloss:0.41958\n",
      "[716]\ttrain-mlogloss:0.27827\teval-mlogloss:0.41958\n",
      "[717]\ttrain-mlogloss:0.27804\teval-mlogloss:0.41954\n",
      "[718]\ttrain-mlogloss:0.27781\teval-mlogloss:0.41947\n",
      "[719]\ttrain-mlogloss:0.27759\teval-mlogloss:0.41935\n",
      "[720]\ttrain-mlogloss:0.27735\teval-mlogloss:0.41917\n",
      "[721]\ttrain-mlogloss:0.27713\teval-mlogloss:0.41917\n",
      "[722]\ttrain-mlogloss:0.27689\teval-mlogloss:0.41915\n",
      "[723]\ttrain-mlogloss:0.27664\teval-mlogloss:0.41905\n",
      "[724]\ttrain-mlogloss:0.27644\teval-mlogloss:0.41886\n",
      "[725]\ttrain-mlogloss:0.27621\teval-mlogloss:0.41876\n",
      "[726]\ttrain-mlogloss:0.27599\teval-mlogloss:0.41867\n",
      "[727]\ttrain-mlogloss:0.27577\teval-mlogloss:0.41851\n",
      "[728]\ttrain-mlogloss:0.27555\teval-mlogloss:0.41849\n",
      "[729]\ttrain-mlogloss:0.27533\teval-mlogloss:0.41834\n",
      "[730]\ttrain-mlogloss:0.27511\teval-mlogloss:0.41796\n",
      "[731]\ttrain-mlogloss:0.27489\teval-mlogloss:0.41787\n",
      "[732]\ttrain-mlogloss:0.27467\teval-mlogloss:0.41773\n",
      "[733]\ttrain-mlogloss:0.27444\teval-mlogloss:0.41752\n",
      "[734]\ttrain-mlogloss:0.27422\teval-mlogloss:0.41719\n",
      "[735]\ttrain-mlogloss:0.27399\teval-mlogloss:0.41722\n",
      "[736]\ttrain-mlogloss:0.27378\teval-mlogloss:0.41705\n",
      "[737]\ttrain-mlogloss:0.27356\teval-mlogloss:0.41681\n",
      "[738]\ttrain-mlogloss:0.27335\teval-mlogloss:0.41653\n",
      "[739]\ttrain-mlogloss:0.27313\teval-mlogloss:0.41621\n",
      "[740]\ttrain-mlogloss:0.27290\teval-mlogloss:0.41608\n",
      "[741]\ttrain-mlogloss:0.27269\teval-mlogloss:0.41603\n",
      "[742]\ttrain-mlogloss:0.27248\teval-mlogloss:0.41591\n",
      "[743]\ttrain-mlogloss:0.27226\teval-mlogloss:0.41584\n",
      "[744]\ttrain-mlogloss:0.27204\teval-mlogloss:0.41583\n",
      "[745]\ttrain-mlogloss:0.27181\teval-mlogloss:0.41548\n",
      "[746]\ttrain-mlogloss:0.27158\teval-mlogloss:0.41537\n",
      "[747]\ttrain-mlogloss:0.27136\teval-mlogloss:0.41515\n",
      "[748]\ttrain-mlogloss:0.27114\teval-mlogloss:0.41513\n",
      "[749]\ttrain-mlogloss:0.27092\teval-mlogloss:0.41499\n",
      "[750]\ttrain-mlogloss:0.27066\teval-mlogloss:0.41484\n",
      "[751]\ttrain-mlogloss:0.27046\teval-mlogloss:0.41478\n",
      "[752]\ttrain-mlogloss:0.27024\teval-mlogloss:0.41461\n",
      "[753]\ttrain-mlogloss:0.27001\teval-mlogloss:0.41447\n",
      "[754]\ttrain-mlogloss:0.26980\teval-mlogloss:0.41428\n",
      "[755]\ttrain-mlogloss:0.26956\teval-mlogloss:0.41407\n",
      "[756]\ttrain-mlogloss:0.26935\teval-mlogloss:0.41389\n",
      "[757]\ttrain-mlogloss:0.26913\teval-mlogloss:0.41387\n",
      "[758]\ttrain-mlogloss:0.26892\teval-mlogloss:0.41376\n",
      "[759]\ttrain-mlogloss:0.26868\teval-mlogloss:0.41367\n",
      "[760]\ttrain-mlogloss:0.26846\teval-mlogloss:0.41355\n",
      "[761]\ttrain-mlogloss:0.26825\teval-mlogloss:0.41353\n",
      "[762]\ttrain-mlogloss:0.26804\teval-mlogloss:0.41325\n",
      "[763]\ttrain-mlogloss:0.26783\teval-mlogloss:0.41316\n",
      "[764]\ttrain-mlogloss:0.26760\teval-mlogloss:0.41306\n",
      "[765]\ttrain-mlogloss:0.26739\teval-mlogloss:0.41298\n",
      "[766]\ttrain-mlogloss:0.26718\teval-mlogloss:0.41291\n",
      "[767]\ttrain-mlogloss:0.26698\teval-mlogloss:0.41285\n",
      "[768]\ttrain-mlogloss:0.26677\teval-mlogloss:0.41273\n",
      "[769]\ttrain-mlogloss:0.26656\teval-mlogloss:0.41250\n",
      "[770]\ttrain-mlogloss:0.26637\teval-mlogloss:0.41238\n",
      "[771]\ttrain-mlogloss:0.26616\teval-mlogloss:0.41225\n",
      "[772]\ttrain-mlogloss:0.26595\teval-mlogloss:0.41208\n",
      "[773]\ttrain-mlogloss:0.26573\teval-mlogloss:0.41191\n",
      "[774]\ttrain-mlogloss:0.26554\teval-mlogloss:0.41191\n",
      "[775]\ttrain-mlogloss:0.26532\teval-mlogloss:0.41164\n",
      "[776]\ttrain-mlogloss:0.26512\teval-mlogloss:0.41143\n",
      "[777]\ttrain-mlogloss:0.26488\teval-mlogloss:0.41106\n",
      "[778]\ttrain-mlogloss:0.26468\teval-mlogloss:0.41086\n",
      "[779]\ttrain-mlogloss:0.26448\teval-mlogloss:0.41075\n",
      "[780]\ttrain-mlogloss:0.26427\teval-mlogloss:0.41060\n",
      "[781]\ttrain-mlogloss:0.26408\teval-mlogloss:0.41063\n",
      "[782]\ttrain-mlogloss:0.26385\teval-mlogloss:0.41051\n",
      "[783]\ttrain-mlogloss:0.26363\teval-mlogloss:0.41050\n",
      "[784]\ttrain-mlogloss:0.26343\teval-mlogloss:0.41038\n",
      "[785]\ttrain-mlogloss:0.26323\teval-mlogloss:0.41029\n",
      "[786]\ttrain-mlogloss:0.26302\teval-mlogloss:0.41018\n",
      "[787]\ttrain-mlogloss:0.26283\teval-mlogloss:0.41007\n",
      "[788]\ttrain-mlogloss:0.26263\teval-mlogloss:0.40988\n",
      "[789]\ttrain-mlogloss:0.26243\teval-mlogloss:0.40973\n",
      "[790]\ttrain-mlogloss:0.26223\teval-mlogloss:0.40949\n",
      "[791]\ttrain-mlogloss:0.26203\teval-mlogloss:0.40941\n",
      "[792]\ttrain-mlogloss:0.26183\teval-mlogloss:0.40946\n",
      "[793]\ttrain-mlogloss:0.26164\teval-mlogloss:0.40947\n",
      "[794]\ttrain-mlogloss:0.26144\teval-mlogloss:0.40918\n",
      "[795]\ttrain-mlogloss:0.26121\teval-mlogloss:0.40899\n",
      "[796]\ttrain-mlogloss:0.26100\teval-mlogloss:0.40893\n",
      "[797]\ttrain-mlogloss:0.26080\teval-mlogloss:0.40892\n",
      "[798]\ttrain-mlogloss:0.26060\teval-mlogloss:0.40886\n",
      "[799]\ttrain-mlogloss:0.26040\teval-mlogloss:0.40873\n",
      "[800]\ttrain-mlogloss:0.26019\teval-mlogloss:0.40861\n",
      "[801]\ttrain-mlogloss:0.25998\teval-mlogloss:0.40846\n",
      "[802]\ttrain-mlogloss:0.25975\teval-mlogloss:0.40832\n",
      "[803]\ttrain-mlogloss:0.25955\teval-mlogloss:0.40823\n",
      "[804]\ttrain-mlogloss:0.25934\teval-mlogloss:0.40807\n",
      "[805]\ttrain-mlogloss:0.25915\teval-mlogloss:0.40808\n",
      "[806]\ttrain-mlogloss:0.25894\teval-mlogloss:0.40794\n"
     ]
    },
    {
     "name": "stdout",
     "output_type": "stream",
     "text": [
      "[807]\ttrain-mlogloss:0.25874\teval-mlogloss:0.40781\n",
      "[808]\ttrain-mlogloss:0.25854\teval-mlogloss:0.40768\n",
      "[809]\ttrain-mlogloss:0.25831\teval-mlogloss:0.40769\n",
      "[810]\ttrain-mlogloss:0.25810\teval-mlogloss:0.40743\n",
      "[811]\ttrain-mlogloss:0.25785\teval-mlogloss:0.40734\n",
      "[812]\ttrain-mlogloss:0.25763\teval-mlogloss:0.40717\n",
      "[813]\ttrain-mlogloss:0.25741\teval-mlogloss:0.40716\n",
      "[814]\ttrain-mlogloss:0.25718\teval-mlogloss:0.40699\n",
      "[815]\ttrain-mlogloss:0.25696\teval-mlogloss:0.40689\n",
      "[816]\ttrain-mlogloss:0.25675\teval-mlogloss:0.40695\n",
      "[817]\ttrain-mlogloss:0.25654\teval-mlogloss:0.40699\n",
      "[818]\ttrain-mlogloss:0.25633\teval-mlogloss:0.40685\n",
      "[819]\ttrain-mlogloss:0.25612\teval-mlogloss:0.40675\n",
      "[820]\ttrain-mlogloss:0.25594\teval-mlogloss:0.40664\n",
      "[821]\ttrain-mlogloss:0.25575\teval-mlogloss:0.40647\n",
      "[822]\ttrain-mlogloss:0.25555\teval-mlogloss:0.40635\n",
      "[823]\ttrain-mlogloss:0.25535\teval-mlogloss:0.40635\n",
      "[824]\ttrain-mlogloss:0.25517\teval-mlogloss:0.40639\n",
      "[825]\ttrain-mlogloss:0.25496\teval-mlogloss:0.40627\n",
      "[826]\ttrain-mlogloss:0.25476\teval-mlogloss:0.40607\n",
      "[827]\ttrain-mlogloss:0.25456\teval-mlogloss:0.40594\n",
      "[828]\ttrain-mlogloss:0.25437\teval-mlogloss:0.40592\n",
      "[829]\ttrain-mlogloss:0.25417\teval-mlogloss:0.40583\n",
      "[830]\ttrain-mlogloss:0.25397\teval-mlogloss:0.40598\n",
      "[831]\ttrain-mlogloss:0.25377\teval-mlogloss:0.40598\n",
      "[832]\ttrain-mlogloss:0.25357\teval-mlogloss:0.40596\n",
      "[833]\ttrain-mlogloss:0.25339\teval-mlogloss:0.40609\n",
      "[834]\ttrain-mlogloss:0.25311\teval-mlogloss:0.40595\n",
      "[835]\ttrain-mlogloss:0.25293\teval-mlogloss:0.40585\n",
      "[836]\ttrain-mlogloss:0.25267\teval-mlogloss:0.40577\n",
      "[837]\ttrain-mlogloss:0.25248\teval-mlogloss:0.40568\n",
      "[838]\ttrain-mlogloss:0.25223\teval-mlogloss:0.40559\n",
      "[839]\ttrain-mlogloss:0.25199\teval-mlogloss:0.40543\n",
      "[840]\ttrain-mlogloss:0.25173\teval-mlogloss:0.40532\n",
      "[841]\ttrain-mlogloss:0.25150\teval-mlogloss:0.40520\n",
      "[842]\ttrain-mlogloss:0.25126\teval-mlogloss:0.40515\n",
      "[843]\ttrain-mlogloss:0.25102\teval-mlogloss:0.40497\n",
      "[844]\ttrain-mlogloss:0.25082\teval-mlogloss:0.40479\n",
      "[845]\ttrain-mlogloss:0.25060\teval-mlogloss:0.40463\n",
      "[846]\ttrain-mlogloss:0.25039\teval-mlogloss:0.40439\n",
      "[847]\ttrain-mlogloss:0.25018\teval-mlogloss:0.40440\n",
      "[848]\ttrain-mlogloss:0.24997\teval-mlogloss:0.40442\n",
      "[849]\ttrain-mlogloss:0.24976\teval-mlogloss:0.40448\n",
      "[850]\ttrain-mlogloss:0.24958\teval-mlogloss:0.40435\n",
      "[851]\ttrain-mlogloss:0.24940\teval-mlogloss:0.40433\n",
      "[852]\ttrain-mlogloss:0.24921\teval-mlogloss:0.40421\n",
      "[853]\ttrain-mlogloss:0.24900\teval-mlogloss:0.40410\n",
      "[854]\ttrain-mlogloss:0.24875\teval-mlogloss:0.40391\n",
      "[855]\ttrain-mlogloss:0.24854\teval-mlogloss:0.40384\n",
      "[856]\ttrain-mlogloss:0.24835\teval-mlogloss:0.40362\n",
      "[857]\ttrain-mlogloss:0.24814\teval-mlogloss:0.40351\n",
      "[858]\ttrain-mlogloss:0.24794\teval-mlogloss:0.40336\n",
      "[859]\ttrain-mlogloss:0.24774\teval-mlogloss:0.40328\n",
      "[860]\ttrain-mlogloss:0.24757\teval-mlogloss:0.40313\n",
      "[861]\ttrain-mlogloss:0.24738\teval-mlogloss:0.40295\n",
      "[862]\ttrain-mlogloss:0.24720\teval-mlogloss:0.40283\n",
      "[863]\ttrain-mlogloss:0.24702\teval-mlogloss:0.40279\n",
      "[864]\ttrain-mlogloss:0.24683\teval-mlogloss:0.40276\n",
      "[865]\ttrain-mlogloss:0.24663\teval-mlogloss:0.40258\n",
      "[866]\ttrain-mlogloss:0.24643\teval-mlogloss:0.40251\n",
      "[867]\ttrain-mlogloss:0.24624\teval-mlogloss:0.40249\n",
      "[868]\ttrain-mlogloss:0.24604\teval-mlogloss:0.40223\n",
      "[869]\ttrain-mlogloss:0.24586\teval-mlogloss:0.40201\n",
      "[870]\ttrain-mlogloss:0.24568\teval-mlogloss:0.40185\n",
      "[871]\ttrain-mlogloss:0.24548\teval-mlogloss:0.40172\n",
      "[872]\ttrain-mlogloss:0.24530\teval-mlogloss:0.40167\n",
      "[873]\ttrain-mlogloss:0.24511\teval-mlogloss:0.40160\n",
      "[874]\ttrain-mlogloss:0.24490\teval-mlogloss:0.40164\n",
      "[875]\ttrain-mlogloss:0.24471\teval-mlogloss:0.40147\n",
      "[876]\ttrain-mlogloss:0.24452\teval-mlogloss:0.40155\n",
      "[877]\ttrain-mlogloss:0.24432\teval-mlogloss:0.40141\n",
      "[878]\ttrain-mlogloss:0.24414\teval-mlogloss:0.40137\n",
      "[879]\ttrain-mlogloss:0.24396\teval-mlogloss:0.40123\n",
      "[880]\ttrain-mlogloss:0.24377\teval-mlogloss:0.40109\n",
      "[881]\ttrain-mlogloss:0.24359\teval-mlogloss:0.40102\n",
      "[882]\ttrain-mlogloss:0.24340\teval-mlogloss:0.40088\n",
      "[883]\ttrain-mlogloss:0.24323\teval-mlogloss:0.40098\n",
      "[884]\ttrain-mlogloss:0.24305\teval-mlogloss:0.40091\n",
      "[885]\ttrain-mlogloss:0.24286\teval-mlogloss:0.40080\n",
      "[886]\ttrain-mlogloss:0.24269\teval-mlogloss:0.40077\n",
      "[887]\ttrain-mlogloss:0.24251\teval-mlogloss:0.40071\n",
      "[888]\ttrain-mlogloss:0.24233\teval-mlogloss:0.40060\n",
      "[889]\ttrain-mlogloss:0.24214\teval-mlogloss:0.40048\n",
      "[890]\ttrain-mlogloss:0.24198\teval-mlogloss:0.40039\n",
      "[891]\ttrain-mlogloss:0.24180\teval-mlogloss:0.40029\n",
      "[892]\ttrain-mlogloss:0.24162\teval-mlogloss:0.40020\n",
      "[893]\ttrain-mlogloss:0.24145\teval-mlogloss:0.40015\n",
      "[894]\ttrain-mlogloss:0.24129\teval-mlogloss:0.40014\n",
      "[895]\ttrain-mlogloss:0.24111\teval-mlogloss:0.40012\n",
      "[896]\ttrain-mlogloss:0.24091\teval-mlogloss:0.39996\n",
      "[897]\ttrain-mlogloss:0.24072\teval-mlogloss:0.39977\n",
      "[898]\ttrain-mlogloss:0.24054\teval-mlogloss:0.39954\n",
      "[899]\ttrain-mlogloss:0.24038\teval-mlogloss:0.39936\n",
      "[900]\ttrain-mlogloss:0.24022\teval-mlogloss:0.39923\n",
      "[901]\ttrain-mlogloss:0.24005\teval-mlogloss:0.39921\n",
      "[902]\ttrain-mlogloss:0.23988\teval-mlogloss:0.39907\n",
      "[903]\ttrain-mlogloss:0.23973\teval-mlogloss:0.39907\n",
      "[904]\ttrain-mlogloss:0.23956\teval-mlogloss:0.39890\n",
      "[905]\ttrain-mlogloss:0.23939\teval-mlogloss:0.39878\n",
      "[906]\ttrain-mlogloss:0.23923\teval-mlogloss:0.39882\n",
      "[907]\ttrain-mlogloss:0.23903\teval-mlogloss:0.39849\n",
      "[908]\ttrain-mlogloss:0.23885\teval-mlogloss:0.39844\n",
      "[909]\ttrain-mlogloss:0.23867\teval-mlogloss:0.39832\n",
      "[910]\ttrain-mlogloss:0.23850\teval-mlogloss:0.39824\n",
      "[911]\ttrain-mlogloss:0.23833\teval-mlogloss:0.39817\n",
      "[912]\ttrain-mlogloss:0.23816\teval-mlogloss:0.39806\n",
      "[913]\ttrain-mlogloss:0.23798\teval-mlogloss:0.39781\n",
      "[914]\ttrain-mlogloss:0.23781\teval-mlogloss:0.39772\n",
      "[915]\ttrain-mlogloss:0.23764\teval-mlogloss:0.39764\n",
      "[916]\ttrain-mlogloss:0.23747\teval-mlogloss:0.39756\n",
      "[917]\ttrain-mlogloss:0.23730\teval-mlogloss:0.39740\n",
      "[918]\ttrain-mlogloss:0.23712\teval-mlogloss:0.39718\n",
      "[919]\ttrain-mlogloss:0.23696\teval-mlogloss:0.39710\n",
      "[920]\ttrain-mlogloss:0.23676\teval-mlogloss:0.39693\n",
      "[921]\ttrain-mlogloss:0.23660\teval-mlogloss:0.39689\n",
      "[922]\ttrain-mlogloss:0.23643\teval-mlogloss:0.39705\n",
      "[923]\ttrain-mlogloss:0.23627\teval-mlogloss:0.39704\n",
      "[924]\ttrain-mlogloss:0.23611\teval-mlogloss:0.39700\n",
      "[925]\ttrain-mlogloss:0.23596\teval-mlogloss:0.39700\n",
      "[926]\ttrain-mlogloss:0.23579\teval-mlogloss:0.39672\n",
      "[927]\ttrain-mlogloss:0.23561\teval-mlogloss:0.39653\n",
      "[928]\ttrain-mlogloss:0.23546\teval-mlogloss:0.39653\n",
      "[929]\ttrain-mlogloss:0.23529\teval-mlogloss:0.39640\n",
      "[930]\ttrain-mlogloss:0.23512\teval-mlogloss:0.39632\n",
      "[931]\ttrain-mlogloss:0.23496\teval-mlogloss:0.39625\n",
      "[932]\ttrain-mlogloss:0.23480\teval-mlogloss:0.39608\n",
      "[933]\ttrain-mlogloss:0.23463\teval-mlogloss:0.39594\n",
      "[934]\ttrain-mlogloss:0.23448\teval-mlogloss:0.39579\n",
      "[935]\ttrain-mlogloss:0.23434\teval-mlogloss:0.39583\n",
      "[936]\ttrain-mlogloss:0.23417\teval-mlogloss:0.39565\n",
      "[937]\ttrain-mlogloss:0.23400\teval-mlogloss:0.39555\n",
      "[938]\ttrain-mlogloss:0.23384\teval-mlogloss:0.39532\n",
      "[939]\ttrain-mlogloss:0.23367\teval-mlogloss:0.39513\n",
      "[940]\ttrain-mlogloss:0.23352\teval-mlogloss:0.39500\n",
      "[941]\ttrain-mlogloss:0.23335\teval-mlogloss:0.39492\n",
      "[942]\ttrain-mlogloss:0.23318\teval-mlogloss:0.39485\n",
      "[943]\ttrain-mlogloss:0.23302\teval-mlogloss:0.39482\n",
      "[944]\ttrain-mlogloss:0.23285\teval-mlogloss:0.39480\n",
      "[945]\ttrain-mlogloss:0.23267\teval-mlogloss:0.39482\n",
      "[946]\ttrain-mlogloss:0.23252\teval-mlogloss:0.39490\n",
      "[947]\ttrain-mlogloss:0.23235\teval-mlogloss:0.39476\n",
      "[948]\ttrain-mlogloss:0.23219\teval-mlogloss:0.39475\n",
      "[949]\ttrain-mlogloss:0.23201\teval-mlogloss:0.39457\n",
      "[950]\ttrain-mlogloss:0.23186\teval-mlogloss:0.39456\n",
      "[951]\ttrain-mlogloss:0.23171\teval-mlogloss:0.39460\n",
      "[952]\ttrain-mlogloss:0.23156\teval-mlogloss:0.39443\n",
      "[953]\ttrain-mlogloss:0.23141\teval-mlogloss:0.39432\n",
      "[954]\ttrain-mlogloss:0.23125\teval-mlogloss:0.39425\n",
      "[955]\ttrain-mlogloss:0.23109\teval-mlogloss:0.39415\n",
      "[956]\ttrain-mlogloss:0.23093\teval-mlogloss:0.39406\n",
      "[957]\ttrain-mlogloss:0.23076\teval-mlogloss:0.39395\n",
      "[958]\ttrain-mlogloss:0.23060\teval-mlogloss:0.39396\n",
      "[959]\ttrain-mlogloss:0.23043\teval-mlogloss:0.39371\n",
      "[960]\ttrain-mlogloss:0.23028\teval-mlogloss:0.39353\n",
      "[961]\ttrain-mlogloss:0.23011\teval-mlogloss:0.39350\n",
      "[962]\ttrain-mlogloss:0.22995\teval-mlogloss:0.39334\n",
      "[963]\ttrain-mlogloss:0.22979\teval-mlogloss:0.39328\n",
      "[964]\ttrain-mlogloss:0.22962\teval-mlogloss:0.39304\n",
      "[965]\ttrain-mlogloss:0.22947\teval-mlogloss:0.39297\n",
      "[966]\ttrain-mlogloss:0.22930\teval-mlogloss:0.39290\n",
      "[967]\ttrain-mlogloss:0.22914\teval-mlogloss:0.39282\n"
     ]
    },
    {
     "name": "stdout",
     "output_type": "stream",
     "text": [
      "[968]\ttrain-mlogloss:0.22897\teval-mlogloss:0.39274\n",
      "[969]\ttrain-mlogloss:0.22882\teval-mlogloss:0.39269\n",
      "[970]\ttrain-mlogloss:0.22866\teval-mlogloss:0.39255\n",
      "[971]\ttrain-mlogloss:0.22847\teval-mlogloss:0.39246\n",
      "[972]\ttrain-mlogloss:0.22829\teval-mlogloss:0.39233\n",
      "[973]\ttrain-mlogloss:0.22811\teval-mlogloss:0.39233\n",
      "[974]\ttrain-mlogloss:0.22796\teval-mlogloss:0.39218\n",
      "[975]\ttrain-mlogloss:0.22780\teval-mlogloss:0.39211\n",
      "[976]\ttrain-mlogloss:0.22763\teval-mlogloss:0.39200\n",
      "[977]\ttrain-mlogloss:0.22749\teval-mlogloss:0.39200\n",
      "[978]\ttrain-mlogloss:0.22734\teval-mlogloss:0.39200\n",
      "[979]\ttrain-mlogloss:0.22718\teval-mlogloss:0.39188\n",
      "[980]\ttrain-mlogloss:0.22703\teval-mlogloss:0.39195\n",
      "[981]\ttrain-mlogloss:0.22688\teval-mlogloss:0.39192\n",
      "[982]\ttrain-mlogloss:0.22673\teval-mlogloss:0.39179\n",
      "[983]\ttrain-mlogloss:0.22658\teval-mlogloss:0.39167\n",
      "[984]\ttrain-mlogloss:0.22643\teval-mlogloss:0.39158\n",
      "[985]\ttrain-mlogloss:0.22627\teval-mlogloss:0.39131\n",
      "[986]\ttrain-mlogloss:0.22611\teval-mlogloss:0.39128\n",
      "[987]\ttrain-mlogloss:0.22596\teval-mlogloss:0.39110\n",
      "[988]\ttrain-mlogloss:0.22580\teval-mlogloss:0.39092\n",
      "[989]\ttrain-mlogloss:0.22565\teval-mlogloss:0.39089\n",
      "[990]\ttrain-mlogloss:0.22550\teval-mlogloss:0.39088\n",
      "[991]\ttrain-mlogloss:0.22535\teval-mlogloss:0.39071\n",
      "[992]\ttrain-mlogloss:0.22520\teval-mlogloss:0.39063\n",
      "[993]\ttrain-mlogloss:0.22504\teval-mlogloss:0.39040\n",
      "[994]\ttrain-mlogloss:0.22489\teval-mlogloss:0.39037\n",
      "[995]\ttrain-mlogloss:0.22473\teval-mlogloss:0.39018\n",
      "[996]\ttrain-mlogloss:0.22458\teval-mlogloss:0.39014\n",
      "[997]\ttrain-mlogloss:0.22443\teval-mlogloss:0.39009\n",
      "[998]\ttrain-mlogloss:0.22428\teval-mlogloss:0.39001\n",
      "[999]\ttrain-mlogloss:0.22413\teval-mlogloss:0.39007\n"
     ]
    }
   ],
   "source": [
    "params={\n",
    "    'objective': 'multi:softmax', \n",
    "    'num_class': 4,\n",
    "    'eval_metric': 'mlogloss',\n",
    "    'colsample_bytree': 1.0, \n",
    "    'colsample_bylevel': 0.5,\n",
    "    'min_child_weight': 1,\n",
    "    'subsample': 0.9, \n",
    "    'eta': 0.1, \n",
    "    'max_depth': 5,\n",
    "    'gamma': 0.0,\n",
    "    'alpha': 0.0,\n",
    "    'lambda': 1.0,\n",
    "    'verbosity': 0\n",
    "}\n",
    "watchlist = [(dmat_train, 'train'), (dmat_valid, 'eval')]\n",
    "model = xgb.train(params, dmat_train, 1000, evals=watchlist, early_stopping_rounds=50)"
   ]
  },
  {
   "cell_type": "code",
   "execution_count": 47,
   "id": "2a4e9645",
   "metadata": {
    "ExecuteTime": {
     "end_time": "2022-01-23T13:35:21.525451Z",
     "start_time": "2022-01-23T13:35:21.444717Z"
    }
   },
   "outputs": [
    {
     "name": "stdout",
     "output_type": "stream",
     "text": [
      "0.8718140929535232\n"
     ]
    },
    {
     "name": "stderr",
     "output_type": "stream",
     "text": [
      "/home/ytaguchi/.pyenv/versions/anaconda3-2021.05/lib/python3.8/site-packages/xgboost/core.py:105: UserWarning: ntree_limit is deprecated, use `iteration_range` or model slicing instead.\n",
      "  warnings.warn(\n"
     ]
    }
   ],
   "source": [
    "test_pred = model.predict(dmat_test, ntree_limit=model.best_ntree_limit)\n",
    "test_accuracy = accuracy_score(label_test, test_pred) \n",
    "print(test_accuracy)"
   ]
  },
  {
   "cell_type": "code",
   "execution_count": null,
   "id": "b59404f9",
   "metadata": {},
   "outputs": [],
   "source": []
  }
 ],
 "metadata": {
  "kernelspec": {
   "display_name": "Python 3",
   "language": "python",
   "name": "python3"
  },
  "language_info": {
   "codemirror_mode": {
    "name": "ipython",
    "version": 3
   },
   "file_extension": ".py",
   "mimetype": "text/x-python",
   "name": "python",
   "nbconvert_exporter": "python",
   "pygments_lexer": "ipython3",
   "version": "3.8.8"
  }
 },
 "nbformat": 4,
 "nbformat_minor": 5
}
