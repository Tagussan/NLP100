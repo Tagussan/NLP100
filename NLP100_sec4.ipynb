{
 "cells": [
  {
   "cell_type": "markdown",
   "id": "dedf879f",
   "metadata": {},
   "source": [
    "# Problem 30"
   ]
  },
  {
   "cell_type": "code",
   "execution_count": 1,
   "id": "dca3075e",
   "metadata": {
    "ExecuteTime": {
     "end_time": "2022-01-29T04:49:37.105227Z",
     "start_time": "2022-01-29T04:49:36.824123Z"
    }
   },
   "outputs": [
    {
     "name": "stdout",
     "output_type": "stream",
     "text": [
      "[[{'surface': '一', 'base': '一', 'pos': '名詞', 'pos1': '数'}], [{'surface': '\\u3000', 'base': '\\u3000', 'pos': '記号', 'pos1': '空白'}, {'surface': '吾輩', 'base': '吾輩', 'pos': '名詞', 'pos1': '代名詞'}, {'surface': 'は', 'base': 'は', 'pos': '助詞', 'pos1': '係助詞'}, {'surface': '猫', 'base': '猫', 'pos': '名詞', 'pos1': '一般'}, {'surface': 'で', 'base': 'だ', 'pos': '助動詞', 'pos1': '*'}, {'surface': 'ある', 'base': 'ある', 'pos': '助動詞', 'pos1': '*'}, {'surface': '。', 'base': '。', 'pos': '記号', 'pos1': '句点'}], [{'surface': '名前', 'base': '名前', 'pos': '名詞', 'pos1': '一般'}, {'surface': 'は', 'base': 'は', 'pos': '助詞', 'pos1': '係助詞'}, {'surface': 'まだ', 'base': 'まだ', 'pos': '副詞', 'pos1': '助詞類接続'}, {'surface': '無い', 'base': '無い', 'pos': '形容詞', 'pos1': '自立'}, {'surface': '。', 'base': '。', 'pos': '記号', 'pos1': '句点'}], [{'surface': '\\u3000', 'base': '\\u3000', 'pos': '記号', 'pos1': '空白'}, {'surface': 'どこ', 'base': 'どこ', 'pos': '名詞', 'pos1': '代名詞'}, {'surface': 'で', 'base': 'で', 'pos': '助詞', 'pos1': '格助詞'}, {'surface': '生れ', 'base': '生れる', 'pos': '動詞', 'pos1': '自立'}, {'surface': 'た', 'base': 'た', 'pos': '助動詞', 'pos1': '*'}, {'surface': 'か', 'base': 'か', 'pos': '助詞', 'pos1': '副助詞／並立助詞／終助詞'}, {'surface': 'とんと', 'base': 'とんと', 'pos': '副詞', 'pos1': '一般'}, {'surface': '見当', 'base': '見当', 'pos': '名詞', 'pos1': 'サ変接続'}, {'surface': 'が', 'base': 'が', 'pos': '助詞', 'pos1': '格助詞'}, {'surface': 'つか', 'base': 'つく', 'pos': '動詞', 'pos1': '自立'}, {'surface': 'ぬ', 'base': 'ぬ', 'pos': '助動詞', 'pos1': '*'}, {'surface': '。', 'base': '。', 'pos': '記号', 'pos1': '句点'}], [{'surface': '何', 'base': '何', 'pos': '名詞', 'pos1': '代名詞'}, {'surface': 'でも', 'base': 'でも', 'pos': '助詞', 'pos1': '副助詞'}, {'surface': '薄暗い', 'base': '薄暗い', 'pos': '形容詞', 'pos1': '自立'}, {'surface': 'じめじめ', 'base': 'じめじめ', 'pos': '副詞', 'pos1': '一般'}, {'surface': 'し', 'base': 'する', 'pos': '動詞', 'pos1': '自立'}, {'surface': 'た', 'base': 'た', 'pos': '助動詞', 'pos1': '*'}, {'surface': '所', 'base': '所', 'pos': '名詞', 'pos1': '非自立'}, {'surface': 'で', 'base': 'で', 'pos': '助詞', 'pos1': '格助詞'}, {'surface': 'ニャーニャー', 'base': '*\\n', 'pos': '名詞', 'pos1': '一般'}, {'surface': '泣い', 'base': '泣く', 'pos': '動詞', 'pos1': '自立'}, {'surface': 'て', 'base': 'て', 'pos': '助詞', 'pos1': '接続助詞'}, {'surface': 'いた事', 'base': 'いた事', 'pos': '名詞', 'pos1': '一般'}, {'surface': 'だけ', 'base': 'だけ', 'pos': '助詞', 'pos1': '副助詞'}, {'surface': 'は', 'base': 'は', 'pos': '助詞', 'pos1': '係助詞'}, {'surface': '記憶', 'base': '記憶', 'pos': '名詞', 'pos1': 'サ変接続'}, {'surface': 'し', 'base': 'する', 'pos': '動詞', 'pos1': '自立'}, {'surface': 'て', 'base': 'て', 'pos': '助詞', 'pos1': '接続助詞'}, {'surface': 'いる', 'base': 'いる', 'pos': '動詞', 'pos1': '非自立'}, {'surface': '。', 'base': '。', 'pos': '記号', 'pos1': '句点'}], [{'surface': '吾輩', 'base': '吾輩', 'pos': '名詞', 'pos1': '代名詞'}, {'surface': 'は', 'base': 'は', 'pos': '助詞', 'pos1': '係助詞'}, {'surface': 'ここ', 'base': 'ここ', 'pos': '名詞', 'pos1': '代名詞'}, {'surface': 'で', 'base': 'で', 'pos': '助詞', 'pos1': '格助詞'}, {'surface': '始め', 'base': '始める', 'pos': '動詞', 'pos1': '自立'}, {'surface': 'て', 'base': 'て', 'pos': '助詞', 'pos1': '接続助詞'}, {'surface': '人間', 'base': '人間', 'pos': '名詞', 'pos1': '一般'}, {'surface': 'という', 'base': 'という', 'pos': '助詞', 'pos1': '格助詞'}, {'surface': 'もの', 'base': 'もの', 'pos': '名詞', 'pos1': '非自立'}, {'surface': 'を', 'base': 'を', 'pos': '助詞', 'pos1': '格助詞'}, {'surface': '見', 'base': '見る', 'pos': '動詞', 'pos1': '自立'}, {'surface': 'た', 'base': 'た', 'pos': '助動詞', 'pos1': '*'}, {'surface': '。', 'base': '。', 'pos': '記号', 'pos1': '句点'}], [{'surface': 'しかも', 'base': 'しかも', 'pos': '接続詞', 'pos1': '*'}, {'surface': 'あと', 'base': 'あと', 'pos': '名詞', 'pos1': '一般'}, {'surface': 'で', 'base': 'で', 'pos': '助詞', 'pos1': '格助詞'}, {'surface': '聞く', 'base': '聞く', 'pos': '動詞', 'pos1': '自立'}, {'surface': 'と', 'base': 'と', 'pos': '助詞', 'pos1': '接続助詞'}, {'surface': 'それ', 'base': 'それ', 'pos': '名詞', 'pos1': '代名詞'}, {'surface': 'は', 'base': 'は', 'pos': '助詞', 'pos1': '係助詞'}, {'surface': '書生', 'base': '書生', 'pos': '名詞', 'pos1': '一般'}, {'surface': 'という', 'base': 'という', 'pos': '助詞', 'pos1': '格助詞'}, {'surface': '人間', 'base': '人間', 'pos': '名詞', 'pos1': '一般'}, {'surface': '中', 'base': '中', 'pos': '名詞', 'pos1': '接尾'}, {'surface': 'で', 'base': 'で', 'pos': '助詞', 'pos1': '格助詞'}, {'surface': '一番', 'base': '一番', 'pos': '名詞', 'pos1': '副詞可能'}, {'surface': '獰悪', 'base': '獰悪', 'pos': '名詞', 'pos1': '形容動詞語幹'}, {'surface': 'な', 'base': 'だ', 'pos': '助動詞', 'pos1': '*'}, {'surface': '種族', 'base': '種族', 'pos': '名詞', 'pos1': '一般'}, {'surface': 'で', 'base': 'だ', 'pos': '助動詞', 'pos1': '*'}, {'surface': 'あっ', 'base': 'ある', 'pos': '助動詞', 'pos1': '*'}, {'surface': 'た', 'base': 'た', 'pos': '助動詞', 'pos1': '*'}, {'surface': 'そう', 'base': 'そう', 'pos': '名詞', 'pos1': '特殊'}, {'surface': 'だ', 'base': 'だ', 'pos': '助動詞', 'pos1': '*'}, {'surface': '。', 'base': '。', 'pos': '記号', 'pos1': '句点'}], [{'surface': 'この', 'base': 'この', 'pos': '連体詞', 'pos1': '*'}, {'surface': '書生', 'base': '書生', 'pos': '名詞', 'pos1': '一般'}, {'surface': 'という', 'base': 'という', 'pos': '助詞', 'pos1': '格助詞'}, {'surface': 'の', 'base': 'の', 'pos': '名詞', 'pos1': '非自立'}, {'surface': 'は', 'base': 'は', 'pos': '助詞', 'pos1': '係助詞'}, {'surface': '時々', 'base': '時々', 'pos': '副詞', 'pos1': '一般'}, {'surface': '我々', 'base': '我々', 'pos': '名詞', 'pos1': '代名詞'}, {'surface': 'を', 'base': 'を', 'pos': '助詞', 'pos1': '格助詞'}, {'surface': '捕え', 'base': '捕える', 'pos': '動詞', 'pos1': '自立'}, {'surface': 'て', 'base': 'て', 'pos': '助詞', 'pos1': '接続助詞'}, {'surface': '煮', 'base': '煮る', 'pos': '動詞', 'pos1': '自立'}, {'surface': 'て', 'base': 'て', 'pos': '助詞', 'pos1': '接続助詞'}, {'surface': '食う', 'base': '食う', 'pos': '動詞', 'pos1': '自立'}, {'surface': 'という', 'base': 'という', 'pos': '助詞', 'pos1': '格助詞'}, {'surface': '話', 'base': '話', 'pos': '名詞', 'pos1': 'サ変接続'}, {'surface': 'で', 'base': 'だ', 'pos': '助動詞', 'pos1': '*'}, {'surface': 'ある', 'base': 'ある', 'pos': '助動詞', 'pos1': '*'}, {'surface': '。', 'base': '。', 'pos': '記号', 'pos1': '句点'}], [{'surface': 'しかし', 'base': 'しかし', 'pos': '接続詞', 'pos1': '*'}, {'surface': 'その', 'base': 'その', 'pos': '連体詞', 'pos1': '*'}, {'surface': '当時', 'base': '当時', 'pos': '名詞', 'pos1': '副詞可能'}, {'surface': 'は', 'base': 'は', 'pos': '助詞', 'pos1': '係助詞'}, {'surface': '何', 'base': '何', 'pos': '名詞', 'pos1': '代名詞'}, {'surface': 'という', 'base': 'という', 'pos': '助詞', 'pos1': '格助詞'}, {'surface': '考', 'base': '考', 'pos': '名詞', 'pos1': '一般'}, {'surface': 'も', 'base': 'も', 'pos': '助詞', 'pos1': '係助詞'}, {'surface': 'なかっ', 'base': 'ない', 'pos': '形容詞', 'pos1': '自立'}, {'surface': 'た', 'base': 'た', 'pos': '助動詞', 'pos1': '*'}, {'surface': 'から', 'base': 'から', 'pos': '助詞', 'pos1': '接続助詞'}, {'surface': '別段', 'base': '別段', 'pos': '副詞', 'pos1': '助詞類接続'}, {'surface': '恐し', 'base': '恐い', 'pos': '形容詞', 'pos1': '自立'}, {'surface': 'いとも', 'base': 'いとも', 'pos': '副詞', 'pos1': '一般'}, {'surface': '思わ', 'base': '思う', 'pos': '動詞', 'pos1': '自立'}, {'surface': 'なかっ', 'base': 'ない', 'pos': '助動詞', 'pos1': '*'}, {'surface': 'た', 'base': 'た', 'pos': '助動詞', 'pos1': '*'}, {'surface': '。', 'base': '。', 'pos': '記号', 'pos1': '句点'}], [{'surface': 'ただ', 'base': 'ただ', 'pos': '接続詞', 'pos1': '*'}, {'surface': '彼', 'base': '彼', 'pos': '名詞', 'pos1': '代名詞'}, {'surface': 'の', 'base': 'の', 'pos': '助詞', 'pos1': '連体化'}, {'surface': '掌', 'base': '掌', 'pos': '名詞', 'pos1': '一般'}, {'surface': 'に', 'base': 'に', 'pos': '助詞', 'pos1': '格助詞'}, {'surface': '載せ', 'base': '載せる', 'pos': '動詞', 'pos1': '自立'}, {'surface': 'られ', 'base': 'られる', 'pos': '動詞', 'pos1': '接尾'}, {'surface': 'て', 'base': 'て', 'pos': '助詞', 'pos1': '接続助詞'}, {'surface': 'スー', 'base': 'スー', 'pos': '名詞', 'pos1': '固有名詞'}, {'surface': 'と', 'base': 'と', 'pos': '助詞', 'pos1': '格助詞'}, {'surface': '持ち上げ', 'base': '持ち上げる', 'pos': '動詞', 'pos1': '自立'}, {'surface': 'られ', 'base': 'られる', 'pos': '動詞', 'pos1': '接尾'}, {'surface': 'た', 'base': 'た', 'pos': '助動詞', 'pos1': '*'}, {'surface': '時', 'base': '時', 'pos': '名詞', 'pos1': '非自立'}, {'surface': '何だか', 'base': '何だか', 'pos': '副詞', 'pos1': '一般'}, {'surface': 'フワフワ', 'base': 'フワフワ', 'pos': '副詞', 'pos1': '助詞類接続'}, {'surface': 'し', 'base': 'する', 'pos': '動詞', 'pos1': '自立'}, {'surface': 'た', 'base': 'た', 'pos': '助動詞', 'pos1': '*'}, {'surface': '感じ', 'base': '感じ', 'pos': '名詞', 'pos1': '一般'}, {'surface': 'が', 'base': 'が', 'pos': '助詞', 'pos1': '格助詞'}, {'surface': 'あっ', 'base': 'ある', 'pos': '動詞', 'pos1': '自立'}, {'surface': 'た', 'base': 'た', 'pos': '助動詞', 'pos1': '*'}, {'surface': 'ばかり', 'base': 'ばかり', 'pos': '助詞', 'pos1': '副助詞'}, {'surface': 'で', 'base': 'だ', 'pos': '助動詞', 'pos1': '*'}, {'surface': 'ある', 'base': 'ある', 'pos': '助動詞', 'pos1': '*'}, {'surface': '。', 'base': '。', 'pos': '記号', 'pos1': '句点'}], [{'surface': '掌', 'base': '掌', 'pos': '名詞', 'pos1': '一般'}, {'surface': 'の', 'base': 'の', 'pos': '助詞', 'pos1': '連体化'}, {'surface': '上', 'base': '上', 'pos': '名詞', 'pos1': '非自立'}, {'surface': 'で', 'base': 'で', 'pos': '助詞', 'pos1': '格助詞'}, {'surface': '少し', 'base': '少し', 'pos': '副詞', 'pos1': '助詞類接続'}, {'surface': '落ちつい', 'base': '落ちつく', 'pos': '動詞', 'pos1': '自立'}, {'surface': 'て', 'base': 'て', 'pos': '助詞', 'pos1': '接続助詞'}, {'surface': '書生', 'base': '書生', 'pos': '名詞', 'pos1': '一般'}, {'surface': 'の', 'base': 'の', 'pos': '助詞', 'pos1': '連体化'}, {'surface': '顔', 'base': '顔', 'pos': '名詞', 'pos1': '一般'}, {'surface': 'を', 'base': 'を', 'pos': '助詞', 'pos1': '格助詞'}, {'surface': '見', 'base': '見る', 'pos': '動詞', 'pos1': '自立'}, {'surface': 'た', 'base': 'た', 'pos': '助動詞', 'pos1': '*'}, {'surface': 'の', 'base': 'の', 'pos': '名詞', 'pos1': '非自立'}, {'surface': 'が', 'base': 'が', 'pos': '助詞', 'pos1': '格助詞'}, {'surface': 'いわゆる', 'base': 'いわゆる', 'pos': '連体詞', 'pos1': '*'}, {'surface': '人間', 'base': '人間', 'pos': '名詞', 'pos1': '一般'}, {'surface': 'という', 'base': 'という', 'pos': '助詞', 'pos1': '格助詞'}, {'surface': 'もの', 'base': 'もの', 'pos': '名詞', 'pos1': '非自立'}, {'surface': 'の', 'base': 'の', 'pos': '助詞', 'pos1': '格助詞'}, {'surface': '見', 'base': '見る', 'pos': '動詞', 'pos1': '自立'}, {'surface': '始', 'base': '始', 'pos': '名詞', 'pos1': '固有名詞'}, {'surface': 'で', 'base': 'だ', 'pos': '助動詞', 'pos1': '*'}, {'surface': 'あろ', 'base': 'ある', 'pos': '助動詞', 'pos1': '*'}, {'surface': 'う', 'base': 'う', 'pos': '助動詞', 'pos1': '*'}, {'surface': '。', 'base': '。', 'pos': '記号', 'pos1': '句点'}], [{'surface': 'この', 'base': 'この', 'pos': '連体詞', 'pos1': '*'}, {'surface': '時', 'base': '時', 'pos': '名詞', 'pos1': '非自立'}, {'surface': '妙', 'base': '妙', 'pos': '名詞', 'pos1': '形容動詞語幹'}, {'surface': 'な', 'base': 'だ', 'pos': '助動詞', 'pos1': '*'}, {'surface': 'もの', 'base': 'もの', 'pos': '名詞', 'pos1': '非自立'}, {'surface': 'だ', 'base': 'だ', 'pos': '助動詞', 'pos1': '*'}, {'surface': 'と', 'base': 'と', 'pos': '助詞', 'pos1': '格助詞'}, {'surface': '思っ', 'base': '思う', 'pos': '動詞', 'pos1': '自立'}, {'surface': 'た', 'base': 'た', 'pos': '助動詞', 'pos1': '*'}, {'surface': '感じ', 'base': '感じ', 'pos': '名詞', 'pos1': '一般'}, {'surface': 'が', 'base': 'が', 'pos': '助詞', 'pos1': '格助詞'}, {'surface': '今', 'base': '今', 'pos': '名詞', 'pos1': '副詞可能'}, {'surface': 'でも', 'base': 'でも', 'pos': '助詞', 'pos1': '副助詞'}, {'surface': '残っ', 'base': '残る', 'pos': '動詞', 'pos1': '自立'}, {'surface': 'て', 'base': 'て', 'pos': '助詞', 'pos1': '接続助詞'}, {'surface': 'いる', 'base': 'いる', 'pos': '動詞', 'pos1': '非自立'}, {'surface': '。', 'base': '。', 'pos': '記号', 'pos1': '句点'}], [{'surface': '第', 'base': '第', 'pos': '接頭詞', 'pos1': '数接続'}, {'surface': '一', 'base': '一', 'pos': '名詞', 'pos1': '数'}, {'surface': '毛', 'base': '毛', 'pos': '名詞', 'pos1': '接尾'}, {'surface': 'をもって', 'base': 'をもって', 'pos': '助詞', 'pos1': '格助詞'}, {'surface': '装飾', 'base': '装飾', 'pos': '名詞', 'pos1': 'サ変接続'}, {'surface': 'さ', 'base': 'する', 'pos': '動詞', 'pos1': '自立'}, {'surface': 'れ', 'base': 'れる', 'pos': '動詞', 'pos1': '接尾'}, {'surface': 'べき', 'base': 'べし', 'pos': '助動詞', 'pos1': '*'}, {'surface': 'はず', 'base': 'はず', 'pos': '名詞', 'pos1': '非自立'}, {'surface': 'の', 'base': 'の', 'pos': '助詞', 'pos1': '連体化'}, {'surface': '顔', 'base': '顔', 'pos': '名詞', 'pos1': '一般'}, {'surface': 'が', 'base': 'が', 'pos': '助詞', 'pos1': '格助詞'}, {'surface': 'つるつる', 'base': 'つるつる', 'pos': '副詞', 'pos1': '一般'}, {'surface': 'し', 'base': 'する', 'pos': '動詞', 'pos1': '自立'}, {'surface': 'て', 'base': 'て', 'pos': '助詞', 'pos1': '接続助詞'}, {'surface': 'まるで', 'base': 'まるで', 'pos': '副詞', 'pos1': '一般'}, {'surface': '薬缶', 'base': '薬缶', 'pos': '名詞', 'pos1': '一般'}, {'surface': 'だ', 'base': 'だ', 'pos': '助動詞', 'pos1': '*'}, {'surface': '。', 'base': '。', 'pos': '記号', 'pos1': '句点'}], [{'surface': 'その後', 'base': 'その後', 'pos': '名詞', 'pos1': '副詞可能'}, {'surface': '猫', 'base': '猫', 'pos': '名詞', 'pos1': '一般'}, {'surface': 'に', 'base': 'に', 'pos': '助詞', 'pos1': '格助詞'}, {'surface': 'も', 'base': 'も', 'pos': '助詞', 'pos1': '係助詞'}, {'surface': 'だいぶ', 'base': 'だいぶ', 'pos': '副詞', 'pos1': '一般'}, {'surface': '逢っ', 'base': '逢う', 'pos': '動詞', 'pos1': '自立'}, {'surface': 'た', 'base': 'た', 'pos': '助動詞', 'pos1': '*'}, {'surface': 'が', 'base': 'が', 'pos': '助詞', 'pos1': '接続助詞'}, {'surface': 'こんな', 'base': 'こんな', 'pos': '連体詞', 'pos1': '*'}, {'surface': '片', 'base': '片', 'pos': '接頭詞', 'pos1': '名詞接続'}, {'surface': '輪', 'base': '輪', 'pos': '名詞', 'pos1': '一般'}, {'surface': 'に', 'base': 'に', 'pos': '助詞', 'pos1': '格助詞'}, {'surface': 'は', 'base': 'は', 'pos': '助詞', 'pos1': '係助詞'}, {'surface': '一', 'base': '一', 'pos': '名詞', 'pos1': '数'}, {'surface': '度', 'base': '度', 'pos': '名詞', 'pos1': '接尾'}, {'surface': 'も', 'base': 'も', 'pos': '助詞', 'pos1': '係助詞'}, {'surface': '出会わ', 'base': '出会う', 'pos': '動詞', 'pos1': '自立'}, {'surface': 'し', 'base': 'する', 'pos': '動詞', 'pos1': '自立'}, {'surface': 'た', 'base': 'た', 'pos': '助動詞', 'pos1': '*'}, {'surface': '事', 'base': '事', 'pos': '名詞', 'pos1': '非自立'}, {'surface': 'が', 'base': 'が', 'pos': '助詞', 'pos1': '格助詞'}, {'surface': 'ない', 'base': 'ない', 'pos': '形容詞', 'pos1': '自立'}, {'surface': '。', 'base': '。', 'pos': '記号', 'pos1': '句点'}], [{'surface': 'のみ', 'base': 'のむ', 'pos': '動詞', 'pos1': '自立'}, {'surface': 'なら', 'base': 'なる', 'pos': '動詞', 'pos1': '非自立'}, {'surface': 'ず', 'base': 'ぬ', 'pos': '助動詞', 'pos1': '*'}, {'surface': '顔', 'base': '顔', 'pos': '名詞', 'pos1': '一般'}, {'surface': 'の', 'base': 'の', 'pos': '助詞', 'pos1': '連体化'}, {'surface': '真中', 'base': '真中', 'pos': '名詞', 'pos1': '一般'}, {'surface': 'が', 'base': 'が', 'pos': '助詞', 'pos1': '格助詞'}, {'surface': 'あまりに', 'base': 'あまりに', 'pos': '副詞', 'pos1': '助詞類接続'}, {'surface': '突起', 'base': '突起', 'pos': '名詞', 'pos1': 'サ変接続'}, {'surface': 'し', 'base': 'する', 'pos': '動詞', 'pos1': '自立'}, {'surface': 'て', 'base': 'て', 'pos': '助詞', 'pos1': '接続助詞'}, {'surface': 'いる', 'base': 'いる', 'pos': '動詞', 'pos1': '非自立'}, {'surface': '。', 'base': '。', 'pos': '記号', 'pos1': '句点'}], [{'surface': 'そうして', 'base': 'そうして', 'pos': '接続詞', 'pos1': '*'}, {'surface': 'その', 'base': 'その', 'pos': '連体詞', 'pos1': '*'}, {'surface': '穴', 'base': '穴', 'pos': '名詞', 'pos1': '一般'}, {'surface': 'の', 'base': 'の', 'pos': '助詞', 'pos1': '連体化'}, {'surface': '中', 'base': '中', 'pos': '名詞', 'pos1': '非自立'}, {'surface': 'から', 'base': 'から', 'pos': '助詞', 'pos1': '格助詞'}, {'surface': '時々', 'base': '時々', 'pos': '副詞', 'pos1': '一般'}, {'surface': 'ぷうぷうと', 'base': '*\\n', 'pos': '名詞', 'pos1': '一般'}, {'surface': '煙', 'base': '煙', 'pos': '名詞', 'pos1': '一般'}, {'surface': 'を', 'base': 'を', 'pos': '助詞', 'pos1': '格助詞'}, {'surface': '吹く', 'base': '吹く', 'pos': '動詞', 'pos1': '自立'}, {'surface': '。', 'base': '。', 'pos': '記号', 'pos1': '句点'}], [{'surface': 'どうも', 'base': 'どうも', 'pos': '副詞', 'pos1': '一般'}, {'surface': '咽', 'base': '咽', 'pos': '名詞', 'pos1': '一般'}, {'surface': 'せ', 'base': 'する', 'pos': '動詞', 'pos1': '自立'}, {'surface': 'ぽく', 'base': 'ぽい', 'pos': '形容詞', 'pos1': '接尾'}, {'surface': 'て', 'base': 'て', 'pos': '助詞', 'pos1': '接続助詞'}, {'surface': '実に', 'base': '実に', 'pos': '副詞', 'pos1': '一般'}, {'surface': '弱っ', 'base': '弱る', 'pos': '動詞', 'pos1': '自立'}, {'surface': 'た', 'base': 'た', 'pos': '助動詞', 'pos1': '*'}, {'surface': '。', 'base': '。', 'pos': '記号', 'pos1': '句点'}], [{'surface': 'これ', 'base': 'これ', 'pos': '名詞', 'pos1': '代名詞'}, {'surface': 'が', 'base': 'が', 'pos': '助詞', 'pos1': '格助詞'}, {'surface': '人間', 'base': '人間', 'pos': '名詞', 'pos1': '一般'}, {'surface': 'の', 'base': 'の', 'pos': '助詞', 'pos1': '格助詞'}, {'surface': '飲む', 'base': '飲む', 'pos': '動詞', 'pos1': '自立'}, {'surface': '煙草', 'base': '煙草', 'pos': '名詞', 'pos1': '一般'}, {'surface': 'という', 'base': 'という', 'pos': '助詞', 'pos1': '格助詞'}, {'surface': 'もの', 'base': 'もの', 'pos': '名詞', 'pos1': '非自立'}, {'surface': 'で', 'base': 'だ', 'pos': '助動詞', 'pos1': '*'}, {'surface': 'ある', 'base': 'ある', 'pos': '助動詞', 'pos1': '*'}, {'surface': '事', 'base': '事', 'pos': '名詞', 'pos1': '非自立'}, {'surface': 'は', 'base': 'は', 'pos': '助詞', 'pos1': '係助詞'}, {'surface': 'ようやく', 'base': 'ようやく', 'pos': '副詞', 'pos1': '一般'}, {'surface': 'この', 'base': 'この', 'pos': '連体詞', 'pos1': '*'}, {'surface': '頃', 'base': '頃', 'pos': '名詞', 'pos1': '非自立'}, {'surface': '知っ', 'base': '知る', 'pos': '動詞', 'pos1': '自立'}, {'surface': 'た', 'base': 'た', 'pos': '助動詞', 'pos1': '*'}, {'surface': '。', 'base': '。', 'pos': '記号', 'pos1': '句点'}], [{'surface': '\\u3000', 'base': '\\u3000', 'pos': '記号', 'pos1': '空白'}, {'surface': 'この', 'base': 'この', 'pos': '連体詞', 'pos1': '*'}, {'surface': '書生', 'base': '書生', 'pos': '名詞', 'pos1': '一般'}, {'surface': 'の', 'base': 'の', 'pos': '助詞', 'pos1': '連体化'}, {'surface': '掌', 'base': '掌', 'pos': '名詞', 'pos1': '一般'}, {'surface': 'の', 'base': 'の', 'pos': '助詞', 'pos1': '連体化'}, {'surface': '裏', 'base': '裏', 'pos': '名詞', 'pos1': '一般'}, {'surface': 'で', 'base': 'で', 'pos': '助詞', 'pos1': '格助詞'}, {'surface': 'しばらく', 'base': 'しばらく', 'pos': '副詞', 'pos1': '助詞類接続'}, {'surface': 'は', 'base': 'は', 'pos': '助詞', 'pos1': '係助詞'}, {'surface': 'よい', 'base': 'よい', 'pos': '形容詞', 'pos1': '自立'}, {'surface': '心持', 'base': '心持', 'pos': '名詞', 'pos1': '一般'}, {'surface': 'に', 'base': 'に', 'pos': '助詞', 'pos1': '格助詞'}, {'surface': '坐っ', 'base': '坐る', 'pos': '動詞', 'pos1': '自立'}, {'surface': 'て', 'base': 'て', 'pos': '助詞', 'pos1': '接続助詞'}, {'surface': 'おっ', 'base': 'おる', 'pos': '動詞', 'pos1': '自立'}, {'surface': 'た', 'base': 'た', 'pos': '助動詞', 'pos1': '*'}, {'surface': 'が', 'base': 'が', 'pos': '助詞', 'pos1': '接続助詞'}, {'surface': '、', 'base': '、', 'pos': '記号', 'pos1': '読点'}, {'surface': 'しばらく', 'base': 'しばらく', 'pos': '副詞', 'pos1': '助詞類接続'}, {'surface': 'する', 'base': 'する', 'pos': '動詞', 'pos1': '自立'}, {'surface': 'と', 'base': 'と', 'pos': '助詞', 'pos1': '接続助詞'}, {'surface': '非常', 'base': '非常', 'pos': '名詞', 'pos1': '形容動詞語幹'}, {'surface': 'な', 'base': 'だ', 'pos': '助動詞', 'pos1': '*'}, {'surface': '速力', 'base': '速力', 'pos': '名詞', 'pos1': '一般'}, {'surface': 'で', 'base': 'で', 'pos': '助詞', 'pos1': '格助詞'}, {'surface': '運転', 'base': '運転', 'pos': '名詞', 'pos1': 'サ変接続'}, {'surface': 'し', 'base': 'する', 'pos': '動詞', 'pos1': '自立'}, {'surface': '始め', 'base': '始める', 'pos': '動詞', 'pos1': '非自立'}, {'surface': 'た', 'base': 'た', 'pos': '助動詞', 'pos1': '*'}, {'surface': '。', 'base': '。', 'pos': '記号', 'pos1': '句点'}], [{'surface': '書生', 'base': '書生', 'pos': '名詞', 'pos1': '一般'}, {'surface': 'が', 'base': 'が', 'pos': '助詞', 'pos1': '格助詞'}, {'surface': '動く', 'base': '動く', 'pos': '動詞', 'pos1': '自立'}, {'surface': 'の', 'base': 'の', 'pos': '名詞', 'pos1': '非自立'}, {'surface': 'か', 'base': 'か', 'pos': '助詞', 'pos1': '副助詞／並立助詞／終助詞'}, {'surface': '自分', 'base': '自分', 'pos': '名詞', 'pos1': '一般'}, {'surface': 'だけ', 'base': 'だけ', 'pos': '助詞', 'pos1': '副助詞'}, {'surface': 'が', 'base': 'が', 'pos': '助詞', 'pos1': '格助詞'}, {'surface': '動く', 'base': '動く', 'pos': '動詞', 'pos1': '自立'}, {'surface': 'の', 'base': 'の', 'pos': '名詞', 'pos1': '非自立'}, {'surface': 'か', 'base': 'か', 'pos': '助詞', 'pos1': '副助詞／並立助詞／終助詞'}, {'surface': '分ら', 'base': '分る', 'pos': '動詞', 'pos1': '自立'}, {'surface': 'ない', 'base': 'ない', 'pos': '助動詞', 'pos1': '*'}, {'surface': 'が', 'base': 'が', 'pos': '助詞', 'pos1': '接続助詞'}, {'surface': '無', 'base': '無', 'pos': '接頭詞', 'pos1': '名詞接続'}, {'surface': '暗に', 'base': '暗に', 'pos': '副詞', 'pos1': '一般'}, {'surface': '眼', 'base': '眼', 'pos': '名詞', 'pos1': '一般'}, {'surface': 'が', 'base': 'が', 'pos': '助詞', 'pos1': '格助詞'}, {'surface': '廻る', 'base': '廻る', 'pos': '動詞', 'pos1': '自立'}, {'surface': '。', 'base': '。', 'pos': '記号', 'pos1': '句点'}]]\n"
     ]
    }
   ],
   "source": [
    "filename = './neko.txt.mecab'\n",
    "\n",
    "sentences = []\n",
    "morphs = []\n",
    "with open(filename, mode='r') as f_neko:\n",
    "    for line in f_neko:\n",
    "        if line == '\\n':\n",
    "            continue\n",
    "        if line == 'EOS\\n':\n",
    "            if morphs != []:\n",
    "                sentences.append(morphs)\n",
    "            morphs = []\n",
    "            continue\n",
    "        pair = line.split('\\t')\n",
    "        if len(pair) != 2:\n",
    "            continue\n",
    "        surface, attrs = pair\n",
    "        if surface == '':\n",
    "            continue\n",
    "        attrs = attrs.split(',')\n",
    "        morph = {'surface': surface, 'base': attrs[6], 'pos': attrs[0], 'pos1': attrs[1]}\n",
    "        morphs.append(morph)\n",
    "print(sentences[:20])"
   ]
  },
  {
   "cell_type": "markdown",
   "id": "b9e4da87",
   "metadata": {
    "ExecuteTime": {
     "end_time": "2022-01-28T09:42:56.182812Z",
     "start_time": "2022-01-28T09:42:56.180522Z"
    }
   },
   "source": [
    "# Problem 31"
   ]
  },
  {
   "cell_type": "code",
   "execution_count": 2,
   "id": "42248330",
   "metadata": {
    "ExecuteTime": {
     "end_time": "2022-01-29T04:49:37.129921Z",
     "start_time": "2022-01-29T04:49:37.106327Z"
    }
   },
   "outputs": [
    {
     "name": "stdout",
     "output_type": "stream",
     "text": [
      "3893\n",
      "['始め', '致そ', '切り抜ける', 'からかう', '沈めろ', '恐れ入る', '裏返し', '誂える', '含まっ', 'すり抜け']\n"
     ]
    }
   ],
   "source": [
    "verbs_surface = set()\n",
    "for sentence in sentences:\n",
    "    for morph in sentence:\n",
    "        if morph['pos'] == '動詞':\n",
    "            verbs_surface.add(morph['surface'])\n",
    "print(len(verbs_surface))\n",
    "print(list(verbs_surface)[:10])"
   ]
  },
  {
   "cell_type": "markdown",
   "id": "c955320b",
   "metadata": {},
   "source": [
    "# Problem 32"
   ]
  },
  {
   "cell_type": "code",
   "execution_count": 3,
   "id": "f7ba5ea4",
   "metadata": {
    "ExecuteTime": {
     "end_time": "2022-01-29T04:49:37.154925Z",
     "start_time": "2022-01-29T04:49:37.131260Z"
    }
   },
   "outputs": [
    {
     "name": "stdout",
     "output_type": "stream",
     "text": [
      "2300\n",
      "['切り抜ける', 'からかう', '省く', '禁じる', '恐れ入る', '吸取る', '誂える', '成す', 'とれる', '画く']\n"
     ]
    }
   ],
   "source": [
    "verbs_basic = set()\n",
    "for sentence in sentences:\n",
    "    for morph in sentence:\n",
    "        if morph['pos'] == '動詞':\n",
    "            verbs_basic.add(morph['base'])\n",
    "print(len(verbs_basic))\n",
    "print(list(verbs_basic)[:10])"
   ]
  },
  {
   "cell_type": "markdown",
   "id": "f878ad32",
   "metadata": {},
   "source": [
    "# Problem 33"
   ]
  },
  {
   "cell_type": "code",
   "execution_count": 4,
   "id": "ac294cd4",
   "metadata": {
    "ExecuteTime": {
     "end_time": "2022-01-29T04:49:37.189544Z",
     "start_time": "2022-01-29T04:49:37.156044Z"
    }
   },
   "outputs": [
    {
     "name": "stdout",
     "output_type": "stream",
     "text": [
      "4924\n",
      "['君の表情', '運動の妨害', '馬の糞', '壁の隙', '本意の気味', '書斎の中', '小牛のチャップ', '主人の口', '僧の癖', 'さんの前']\n"
     ]
    }
   ],
   "source": [
    "nouns_BofA = set()\n",
    "for sentence in sentences:\n",
    "    for morph_idx in range(2, len(sentence)):\n",
    "        if sentence[morph_idx-2]['pos'] == '名詞' and sentence[morph_idx-1]['surface'] == 'の' and sentence[morph_idx]['pos'] == '名詞':\n",
    "            nouns_BofA.add(sentence[morph_idx-2]['surface'] + 'の' + sentence[morph_idx]['surface'])\n",
    "print(len((nouns_BofA)))\n",
    "print(list(nouns_BofA)[:10])"
   ]
  },
  {
   "cell_type": "markdown",
   "id": "b4ad68e7",
   "metadata": {},
   "source": [
    "# Problem 34"
   ]
  },
  {
   "cell_type": "code",
   "execution_count": 5,
   "id": "70919191",
   "metadata": {
    "ExecuteTime": {
     "end_time": "2022-01-29T04:49:37.243564Z",
     "start_time": "2022-01-29T04:49:37.190499Z"
    }
   },
   "outputs": [
    {
     "name": "stdout",
     "output_type": "stream",
     "text": [
      "4454\n",
      "['綿畠', '山羊髯', '——こっち', '愚猫', 'アンドレア・デル・サルト事件', '実用上', '二寸', 'うそつき', '一輪', '女房なんど']\n"
     ]
    }
   ],
   "source": [
    "seq_nouns = set()\n",
    "for sentence in sentences:\n",
    "    morph_idx = 0\n",
    "    seq_temp = ''\n",
    "    while morph_idx < len(sentence)-1:\n",
    "        if sentence[morph_idx]['pos'] == '名詞':\n",
    "            if sentence[morph_idx+1]['pos'] == '名詞':\n",
    "                seq_temp += sentence[morph_idx]['surface']\n",
    "            elif sentence[morph_idx+1]['pos'] != '名詞' and seq_temp != '':\n",
    "                seq_temp += sentence[morph_idx]['surface']\n",
    "                seq_nouns.add(seq_temp)\n",
    "                seq_temp = ''\n",
    "        morph_idx += 1\n",
    "print(len(seq_nouns))\n",
    "print(list(seq_nouns)[:10])"
   ]
  },
  {
   "cell_type": "markdown",
   "id": "8ac6edc6",
   "metadata": {},
   "source": [
    "# Problem 35"
   ]
  },
  {
   "cell_type": "code",
   "execution_count": 6,
   "id": "3e703bfd",
   "metadata": {
    "ExecuteTime": {
     "end_time": "2022-01-29T04:49:37.305144Z",
     "start_time": "2022-01-29T04:49:37.244510Z"
    }
   },
   "outputs": [
    {
     "name": "stdout",
     "output_type": "stream",
     "text": [
      "[(9194, 'の'), (6868, 'て'), (6420, 'は'), (6243, 'に'), (6071, 'を'), (5508, 'と'), (5337, 'が'), (3988, 'た'), (3806, 'で'), (2479, 'も')]\n"
     ]
    }
   ],
   "source": [
    "word_count_dict = {}\n",
    "for sentence in sentences:\n",
    "    for morph in sentence:\n",
    "        if morph['pos'] == '記号':\n",
    "            continue\n",
    "        surface = morph['surface']\n",
    "        if not surface in word_count_dict:\n",
    "            word_count_dict[surface] = 1\n",
    "        else:\n",
    "            word_count_dict[surface] += 1\n",
    "\n",
    "ranking = []\n",
    "for k, v in word_count_dict.items():\n",
    "    ranking.append((v, k))\n",
    "ranking = list(reversed(sorted(ranking)))\n",
    "print(ranking[:10])"
   ]
  },
  {
   "cell_type": "markdown",
   "id": "6a26c184",
   "metadata": {
    "ExecuteTime": {
     "end_time": "2022-01-29T04:32:41.551353Z",
     "start_time": "2022-01-29T04:32:41.549049Z"
    }
   },
   "source": [
    "# Problem 36"
   ]
  },
  {
   "cell_type": "code",
   "execution_count": 7,
   "id": "5c0f5d5a",
   "metadata": {
    "ExecuteTime": {
     "end_time": "2022-01-29T04:49:39.924906Z",
     "start_time": "2022-01-29T04:49:37.306129Z"
    }
   },
   "outputs": [],
   "source": [
    "import matplotlib.pyplot as plt\n",
    "\n",
    "from matplotlib.font_manager import FontProperties\n",
    "font_path = \"/usr/share/fonts/truetype/migmix/migmix-1p-regular.ttf\"\n",
    "font_prop = FontProperties(fname=font_path)\n",
    "plt.rcParams[\"font.family\"] = font_prop.get_name()"
   ]
  },
  {
   "cell_type": "code",
   "execution_count": 8,
   "id": "7dab3c48",
   "metadata": {
    "ExecuteTime": {
     "end_time": "2022-01-29T04:49:40.056530Z",
     "start_time": "2022-01-29T04:49:39.925984Z"
    }
   },
   "outputs": [
    {
     "data": {
      "text/plain": [
       "<BarContainer object of 10 artists>"
      ]
     },
     "execution_count": 8,
     "metadata": {},
     "output_type": "execute_result"
    },
    {
     "data": {
      "image/png": "[encoded data removed]",
      "text/plain": [
       "<Figure size 432x288 with 1 Axes>"
      ]
     },
     "metadata": {
      "needs_background": "light"
     },
     "output_type": "display_data"
    }
   ],
   "source": [
    "occur_top10 = ranking[:10]\n",
    "words = list(map(lambda e: e[1], occur_top10))\n",
    "vals = list(map(lambda e: e[0], occur_top10))\n",
    "plt.bar(words, vals)"
   ]
  },
  {
   "cell_type": "markdown",
   "id": "1da83bd2",
   "metadata": {
    "ExecuteTime": {
     "end_time": "2022-01-29T04:50:18.926777Z",
     "start_time": "2022-01-29T04:50:18.924605Z"
    }
   },
   "source": [
    "# Problem 37"
   ]
  },
  {
   "cell_type": "code",
   "execution_count": 15,
   "id": "c479c82a",
   "metadata": {
    "ExecuteTime": {
     "end_time": "2022-01-29T04:57:08.901851Z",
     "start_time": "2022-01-29T04:57:08.802733Z"
    }
   },
   "outputs": [
    {
     "name": "stdout",
     "output_type": "stream",
     "text": [
      "[(59, '事'), (58, '吾輩'), (55, 'の'), (40, '人間'), (36, 'もの'), (34, 'よう'), (22, '主人'), (19, '人'), (19, '一'), (15, '君')]\n"
     ]
    },
    {
     "data": {
      "text/plain": [
       "<BarContainer object of 10 artists>"
      ]
     },
     "execution_count": 15,
     "metadata": {},
     "output_type": "execute_result"
    },
    {
     "data": {
      "image/png": "[encoded data removed]",
      "text/plain": [
       "<Figure size 432x288 with 1 Axes>"
      ]
     },
     "metadata": {
      "needs_background": "light"
     },
     "output_type": "display_data"
    }
   ],
   "source": [
    "neko_co_occurence = {}\n",
    "for sentence in sentences:\n",
    "    surfaces = [morph['surface'] for morph in sentence]\n",
    "    if '猫' in surfaces:\n",
    "        for morph in sentence:\n",
    "            surface = morph['surface']\n",
    "            if surface != '猫' and morph['pos'] == '名詞':\n",
    "                if not surface in neko_co_occurence:\n",
    "                    neko_co_occurence[surface] = 1\n",
    "                else:\n",
    "                    neko_co_occurence[surface] += 1\n",
    "\n",
    "ranking = []\n",
    "for k, v in neko_co_occurence.items():\n",
    "    ranking.append((v, k))\n",
    "ranking = list(reversed(sorted(ranking)))\n",
    "print(ranking[:10])\n",
    "\n",
    "occur_top10 = ranking[:10]\n",
    "words = list(map(lambda e: e[1], occur_top10))\n",
    "vals = list(map(lambda e: e[0], occur_top10))\n",
    "plt.bar(words, vals)"
   ]
  },
  {
   "cell_type": "code",
   "execution_count": null,
   "id": "7338768f",
   "metadata": {},
   "outputs": [],
   "source": []
  }
 ],
 "metadata": {
  "kernelspec": {
   "display_name": "Python 3",
   "language": "python",
   "name": "python3"
  },
  "language_info": {
   "codemirror_mode": {
    "name": "ipython",
    "version": 3
   },
   "file_extension": ".py",
   "mimetype": "text/x-python",
   "name": "python",
   "nbconvert_exporter": "python",
   "pygments_lexer": "ipython3",
   "version": "3.8.8"
  }
 },
 "nbformat": 4,
 "nbformat_minor": 5
}
